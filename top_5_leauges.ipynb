{
 "cells": [
  {
   "cell_type": "markdown",
   "metadata": {},
   "source": [
    "## <p style=\"background-color:yellow; font-family:newtimeroman; color:blue; font-size:175%; text-align:center; border-radius:10px 10px;\">Importing Libraries Needed in This Notebook</p>\n"
   ]
  },
  {
   "cell_type": "code",
   "execution_count": 96,
   "metadata": {
    "id": "ubyzhkvPQA6u"
   },
   "outputs": [],
   "source": [
    "import numpy as np\n",
    "import pandas as pd\n",
    "import matplotlib.pyplot as plt\n",
    "import seaborn as sns\n",
    "import plotly.express as px\n",
    "\n",
    "\n",
    "plt.rcParams[\"figure.figsize\"] = (8, 5)\n",
    "\n",
    "sns.set_style(\"whitegrid\")\n",
    "pd.set_option('display.float_format', lambda x: '%.3f' % x)\n",
    "\n",
    "# Set it None to display all rows in the dataframe\n",
    "# pd.set_option('display.max_rows', None)\n",
    "\n",
    "# Set it to None to display all columns in the dataframe\n",
    "pd.set_option('display.max_columns', None)"
   ]
  },
  {
   "cell_type": "markdown",
   "metadata": {},
   "source": [
    "## <p style=\"background-color:yellow; font-family:newtimeroman; color:blue; font-size:175%; text-align:center; border-radius:10px 10px;\">Reading & Understanding Data</p>"
   ]
  },
  {
   "cell_type": "code",
   "execution_count": 2,
   "metadata": {
    "colab": {
     "base_uri": "https://localhost:8080/",
     "height": 834
    },
    "id": "fdt6TtL8QOgo",
    "outputId": "6b70cd27-bf13-4bef-b997-8f1bece6d584"
   },
   "outputs": [
    {
     "data": {
      "text/html": [
       "<div>\n",
       "<style scoped>\n",
       "    .dataframe tbody tr th:only-of-type {\n",
       "        vertical-align: middle;\n",
       "    }\n",
       "\n",
       "    .dataframe tbody tr th {\n",
       "        vertical-align: top;\n",
       "    }\n",
       "\n",
       "    .dataframe thead th {\n",
       "        text-align: right;\n",
       "    }\n",
       "</style>\n",
       "<table border=\"1\" class=\"dataframe\">\n",
       "  <thead>\n",
       "    <tr style=\"text-align: right;\">\n",
       "      <th></th>\n",
       "      <th>Unnamed: 0</th>\n",
       "      <th>name</th>\n",
       "      <th>full_name</th>\n",
       "      <th>age</th>\n",
       "      <th>height</th>\n",
       "      <th>nationality</th>\n",
       "      <th>place_of_birth</th>\n",
       "      <th>price</th>\n",
       "      <th>max_price</th>\n",
       "      <th>position</th>\n",
       "      <th>shirt_nr</th>\n",
       "      <th>foot</th>\n",
       "      <th>club</th>\n",
       "      <th>contract_expires</th>\n",
       "      <th>joined_club</th>\n",
       "      <th>player_agent</th>\n",
       "      <th>outfitter</th>\n",
       "      <th>league</th>\n",
       "    </tr>\n",
       "  </thead>\n",
       "  <tbody>\n",
       "    <tr>\n",
       "      <th>0</th>\n",
       "      <td>0</td>\n",
       "      <td>Ederson</td>\n",
       "      <td>NaN</td>\n",
       "      <td>29</td>\n",
       "      <td>1.880</td>\n",
       "      <td>Brazil  Portugal</td>\n",
       "      <td>Osasco (SP)</td>\n",
       "      <td>45.000</td>\n",
       "      <td>70.000</td>\n",
       "      <td>Goalkeeper</td>\n",
       "      <td>31</td>\n",
       "      <td>left</td>\n",
       "      <td>Man City</td>\n",
       "      <td>2026-06-30</td>\n",
       "      <td>2017-07-01</td>\n",
       "      <td>Gestifute</td>\n",
       "      <td>Puma</td>\n",
       "      <td>EPL</td>\n",
       "    </tr>\n",
       "    <tr>\n",
       "      <th>1</th>\n",
       "      <td>1</td>\n",
       "      <td>Stefan Ortega</td>\n",
       "      <td>Stefan Ortega Moreno</td>\n",
       "      <td>30</td>\n",
       "      <td>1.850</td>\n",
       "      <td>Germany  Spain</td>\n",
       "      <td>Hofgeismar</td>\n",
       "      <td>6.000</td>\n",
       "      <td>6.000</td>\n",
       "      <td>Goalkeeper</td>\n",
       "      <td>18</td>\n",
       "      <td>right</td>\n",
       "      <td>Man City</td>\n",
       "      <td>2025-06-30</td>\n",
       "      <td>2022-07-01</td>\n",
       "      <td>neblung ...</td>\n",
       "      <td>NaN</td>\n",
       "      <td>EPL</td>\n",
       "    </tr>\n",
       "    <tr>\n",
       "      <th>2</th>\n",
       "      <td>2</td>\n",
       "      <td>Scott Carson</td>\n",
       "      <td>Scott Paul Carson</td>\n",
       "      <td>37</td>\n",
       "      <td>1.880</td>\n",
       "      <td>England</td>\n",
       "      <td>Whitehaven</td>\n",
       "      <td>0.250</td>\n",
       "      <td>6.000</td>\n",
       "      <td>Goalkeeper</td>\n",
       "      <td>33</td>\n",
       "      <td>right</td>\n",
       "      <td>Man City</td>\n",
       "      <td>2023-06-30</td>\n",
       "      <td>2021-07-20</td>\n",
       "      <td>Wasserman</td>\n",
       "      <td>Puma</td>\n",
       "      <td>EPL</td>\n",
       "    </tr>\n",
       "    <tr>\n",
       "      <th>3</th>\n",
       "      <td>3</td>\n",
       "      <td>Rúben Dias</td>\n",
       "      <td>Rúben Santos Gato Alves Dias</td>\n",
       "      <td>26</td>\n",
       "      <td>1.870</td>\n",
       "      <td>Portugal</td>\n",
       "      <td>Amadora</td>\n",
       "      <td>75.000</td>\n",
       "      <td>75.000</td>\n",
       "      <td>Defender - Centre-Back</td>\n",
       "      <td>3</td>\n",
       "      <td>right</td>\n",
       "      <td>Man City</td>\n",
       "      <td>2027-06-30</td>\n",
       "      <td>2020-09-29</td>\n",
       "      <td>Gestifute</td>\n",
       "      <td>Nike</td>\n",
       "      <td>EPL</td>\n",
       "    </tr>\n",
       "    <tr>\n",
       "      <th>4</th>\n",
       "      <td>4</td>\n",
       "      <td>Nathan Aké</td>\n",
       "      <td>Nathan Benjamin Aké</td>\n",
       "      <td>28</td>\n",
       "      <td>1.800</td>\n",
       "      <td>Netherlands  Cote d'Ivoire</td>\n",
       "      <td>Den Haag</td>\n",
       "      <td>35.000</td>\n",
       "      <td>40.000</td>\n",
       "      <td>Defender - Centre-Back</td>\n",
       "      <td>6</td>\n",
       "      <td>left</td>\n",
       "      <td>Man City</td>\n",
       "      <td>2025-06-30</td>\n",
       "      <td>2020-08-05</td>\n",
       "      <td>Wasserman</td>\n",
       "      <td>Nike</td>\n",
       "      <td>EPL</td>\n",
       "    </tr>\n",
       "    <tr>\n",
       "      <th>...</th>\n",
       "      <td>...</td>\n",
       "      <td>...</td>\n",
       "      <td>...</td>\n",
       "      <td>...</td>\n",
       "      <td>...</td>\n",
       "      <td>...</td>\n",
       "      <td>...</td>\n",
       "      <td>...</td>\n",
       "      <td>...</td>\n",
       "      <td>...</td>\n",
       "      <td>...</td>\n",
       "      <td>...</td>\n",
       "      <td>...</td>\n",
       "      <td>...</td>\n",
       "      <td>...</td>\n",
       "      <td>...</td>\n",
       "      <td>...</td>\n",
       "      <td>...</td>\n",
       "    </tr>\n",
       "    <tr>\n",
       "      <th>2607</th>\n",
       "      <td>2607</td>\n",
       "      <td>Moussa Djitté</td>\n",
       "      <td>Moussa Kalilou Djitté</td>\n",
       "      <td>23</td>\n",
       "      <td>1.800</td>\n",
       "      <td>Senegal</td>\n",
       "      <td>Diattouma</td>\n",
       "      <td>2.000</td>\n",
       "      <td>2.000</td>\n",
       "      <td>Attack - Centre-Forward</td>\n",
       "      <td>28</td>\n",
       "      <td>right</td>\n",
       "      <td>AC Ajaccio</td>\n",
       "      <td>2023-06-30</td>\n",
       "      <td>2023-01-31</td>\n",
       "      <td>FS Management</td>\n",
       "      <td>NaN</td>\n",
       "      <td>Other</td>\n",
       "    </tr>\n",
       "    <tr>\n",
       "      <th>2608</th>\n",
       "      <td>2608</td>\n",
       "      <td>Mounaïm El Idrissy</td>\n",
       "      <td>منعم الإدريسي</td>\n",
       "      <td>24</td>\n",
       "      <td>1.810</td>\n",
       "      <td>France  Morocco</td>\n",
       "      <td>Martigues</td>\n",
       "      <td>1.800</td>\n",
       "      <td>1.800</td>\n",
       "      <td>Attack - Centre-Forward</td>\n",
       "      <td>7</td>\n",
       "      <td>right</td>\n",
       "      <td>AC Ajaccio</td>\n",
       "      <td>2023-06-30</td>\n",
       "      <td>2019-07-01</td>\n",
       "      <td>N.Agency</td>\n",
       "      <td>NaN</td>\n",
       "      <td>Other</td>\n",
       "    </tr>\n",
       "    <tr>\n",
       "      <th>2609</th>\n",
       "      <td>2609</td>\n",
       "      <td>Moussa Soumano</td>\n",
       "      <td>NaN</td>\n",
       "      <td>17</td>\n",
       "      <td>NaN</td>\n",
       "      <td>France  Mali</td>\n",
       "      <td>NaN</td>\n",
       "      <td>0.900</td>\n",
       "      <td>0.900</td>\n",
       "      <td>Attack - Centre-Forward</td>\n",
       "      <td>34</td>\n",
       "      <td>NaN</td>\n",
       "      <td>AC Ajaccio</td>\n",
       "      <td>2026-06-30</td>\n",
       "      <td>2023-01-01</td>\n",
       "      <td>NaN</td>\n",
       "      <td>NaN</td>\n",
       "      <td>Other</td>\n",
       "    </tr>\n",
       "    <tr>\n",
       "      <th>2610</th>\n",
       "      <td>2610</td>\n",
       "      <td>Romain Hamouma</td>\n",
       "      <td>NaN</td>\n",
       "      <td>36</td>\n",
       "      <td>1.790</td>\n",
       "      <td>France  Algeria</td>\n",
       "      <td>Montbéliard</td>\n",
       "      <td>0.600</td>\n",
       "      <td>7.000</td>\n",
       "      <td>Attack - Centre-Forward</td>\n",
       "      <td>17</td>\n",
       "      <td>right</td>\n",
       "      <td>AC Ajaccio</td>\n",
       "      <td>2023-06-30</td>\n",
       "      <td>2022-07-01</td>\n",
       "      <td>Gallea Gestion S.A</td>\n",
       "      <td>NaN</td>\n",
       "      <td>Other</td>\n",
       "    </tr>\n",
       "    <tr>\n",
       "      <th>2611</th>\n",
       "      <td>2611</td>\n",
       "      <td>Yoann Touzghar</td>\n",
       "      <td>NaN</td>\n",
       "      <td>36</td>\n",
       "      <td>1.800</td>\n",
       "      <td>Tunisia  France</td>\n",
       "      <td>Avignon</td>\n",
       "      <td>0.500</td>\n",
       "      <td>1.750</td>\n",
       "      <td>Attack - Centre-Forward</td>\n",
       "      <td>9</td>\n",
       "      <td>right</td>\n",
       "      <td>AC Ajaccio</td>\n",
       "      <td>2024-06-30</td>\n",
       "      <td>2022-08-24</td>\n",
       "      <td>AGJ SP MGMT</td>\n",
       "      <td>NaN</td>\n",
       "      <td>Other</td>\n",
       "    </tr>\n",
       "  </tbody>\n",
       "</table>\n",
       "<p>2612 rows × 18 columns</p>\n",
       "</div>"
      ],
      "text/plain": [
       "      Unnamed: 0                name                     full_name  age  \\\n",
       "0              0             Ederson                           NaN   29   \n",
       "1              1       Stefan Ortega          Stefan Ortega Moreno   30   \n",
       "2              2        Scott Carson             Scott Paul Carson   37   \n",
       "3              3          Rúben Dias  Rúben Santos Gato Alves Dias   26   \n",
       "4              4          Nathan Aké           Nathan Benjamin Aké   28   \n",
       "...          ...                 ...                           ...  ...   \n",
       "2607        2607       Moussa Djitté         Moussa Kalilou Djitté   23   \n",
       "2608        2608  Mounaïm El Idrissy                 منعم الإدريسي   24   \n",
       "2609        2609      Moussa Soumano                           NaN   17   \n",
       "2610        2610      Romain Hamouma                           NaN   36   \n",
       "2611        2611      Yoann Touzghar                           NaN   36   \n",
       "\n",
       "      height                 nationality place_of_birth  price  max_price  \\\n",
       "0      1.880            Brazil  Portugal    Osasco (SP) 45.000     70.000   \n",
       "1      1.850              Germany  Spain     Hofgeismar  6.000      6.000   \n",
       "2      1.880                     England     Whitehaven  0.250      6.000   \n",
       "3      1.870                    Portugal        Amadora 75.000     75.000   \n",
       "4      1.800  Netherlands  Cote d'Ivoire       Den Haag 35.000     40.000   \n",
       "...      ...                         ...            ...    ...        ...   \n",
       "2607   1.800                     Senegal      Diattouma  2.000      2.000   \n",
       "2608   1.810             France  Morocco      Martigues  1.800      1.800   \n",
       "2609     NaN                France  Mali            NaN  0.900      0.900   \n",
       "2610   1.790             France  Algeria    Montbéliard  0.600      7.000   \n",
       "2611   1.800             Tunisia  France        Avignon  0.500      1.750   \n",
       "\n",
       "                     position  shirt_nr   foot        club contract_expires  \\\n",
       "0                  Goalkeeper        31   left    Man City       2026-06-30   \n",
       "1                  Goalkeeper        18  right    Man City       2025-06-30   \n",
       "2                  Goalkeeper        33  right    Man City       2023-06-30   \n",
       "3      Defender - Centre-Back         3  right    Man City       2027-06-30   \n",
       "4      Defender - Centre-Back         6   left    Man City       2025-06-30   \n",
       "...                       ...       ...    ...         ...              ...   \n",
       "2607  Attack - Centre-Forward        28  right  AC Ajaccio       2023-06-30   \n",
       "2608  Attack - Centre-Forward         7  right  AC Ajaccio       2023-06-30   \n",
       "2609  Attack - Centre-Forward        34    NaN  AC Ajaccio       2026-06-30   \n",
       "2610  Attack - Centre-Forward        17  right  AC Ajaccio       2023-06-30   \n",
       "2611  Attack - Centre-Forward         9  right  AC Ajaccio       2024-06-30   \n",
       "\n",
       "     joined_club        player_agent outfitter league  \n",
       "0     2017-07-01           Gestifute      Puma    EPL  \n",
       "1     2022-07-01         neblung ...       NaN    EPL  \n",
       "2     2021-07-20           Wasserman      Puma    EPL  \n",
       "3     2020-09-29           Gestifute      Nike    EPL  \n",
       "4     2020-08-05           Wasserman      Nike    EPL  \n",
       "...          ...                 ...       ...    ...  \n",
       "2607  2023-01-31       FS Management       NaN  Other  \n",
       "2608  2019-07-01            N.Agency       NaN  Other  \n",
       "2609  2023-01-01                 NaN       NaN  Other  \n",
       "2610  2022-07-01  Gallea Gestion S.A       NaN  Other  \n",
       "2611  2022-08-24         AGJ SP MGMT       NaN  Other  \n",
       "\n",
       "[2612 rows x 18 columns]"
      ]
     },
     "execution_count": 2,
     "metadata": {},
     "output_type": "execute_result"
    }
   ],
   "source": [
    "df = pd.read_csv(\"top5_leagues_player.csv\")\n",
    "df"
   ]
  },
  {
   "cell_type": "code",
   "execution_count": 3,
   "metadata": {
    "colab": {
     "base_uri": "https://localhost:8080/",
     "height": 443
    },
    "id": "bYZIAftOQZjR",
    "outputId": "4422961e-7b5d-41de-a4f5-b9c2048e3ebb"
   },
   "outputs": [
    {
     "data": {
      "text/html": [
       "<div>\n",
       "<style scoped>\n",
       "    .dataframe tbody tr th:only-of-type {\n",
       "        vertical-align: middle;\n",
       "    }\n",
       "\n",
       "    .dataframe tbody tr th {\n",
       "        vertical-align: top;\n",
       "    }\n",
       "\n",
       "    .dataframe thead th {\n",
       "        text-align: right;\n",
       "    }\n",
       "</style>\n",
       "<table border=\"1\" class=\"dataframe\">\n",
       "  <thead>\n",
       "    <tr style=\"text-align: right;\">\n",
       "      <th></th>\n",
       "      <th>Unnamed: 0</th>\n",
       "      <th>name</th>\n",
       "      <th>full_name</th>\n",
       "      <th>age</th>\n",
       "      <th>height</th>\n",
       "      <th>nationality</th>\n",
       "      <th>place_of_birth</th>\n",
       "      <th>price</th>\n",
       "      <th>max_price</th>\n",
       "      <th>position</th>\n",
       "      <th>shirt_nr</th>\n",
       "      <th>foot</th>\n",
       "      <th>club</th>\n",
       "      <th>contract_expires</th>\n",
       "      <th>joined_club</th>\n",
       "      <th>player_agent</th>\n",
       "      <th>outfitter</th>\n",
       "      <th>league</th>\n",
       "    </tr>\n",
       "  </thead>\n",
       "  <tbody>\n",
       "    <tr>\n",
       "      <th>0</th>\n",
       "      <td>0</td>\n",
       "      <td>Ederson</td>\n",
       "      <td>NaN</td>\n",
       "      <td>29</td>\n",
       "      <td>1.880</td>\n",
       "      <td>Brazil  Portugal</td>\n",
       "      <td>Osasco (SP)</td>\n",
       "      <td>45.000</td>\n",
       "      <td>70.000</td>\n",
       "      <td>Goalkeeper</td>\n",
       "      <td>31</td>\n",
       "      <td>left</td>\n",
       "      <td>Man City</td>\n",
       "      <td>2026-06-30</td>\n",
       "      <td>2017-07-01</td>\n",
       "      <td>Gestifute</td>\n",
       "      <td>Puma</td>\n",
       "      <td>EPL</td>\n",
       "    </tr>\n",
       "    <tr>\n",
       "      <th>1</th>\n",
       "      <td>1</td>\n",
       "      <td>Stefan Ortega</td>\n",
       "      <td>Stefan Ortega Moreno</td>\n",
       "      <td>30</td>\n",
       "      <td>1.850</td>\n",
       "      <td>Germany  Spain</td>\n",
       "      <td>Hofgeismar</td>\n",
       "      <td>6.000</td>\n",
       "      <td>6.000</td>\n",
       "      <td>Goalkeeper</td>\n",
       "      <td>18</td>\n",
       "      <td>right</td>\n",
       "      <td>Man City</td>\n",
       "      <td>2025-06-30</td>\n",
       "      <td>2022-07-01</td>\n",
       "      <td>neblung ...</td>\n",
       "      <td>NaN</td>\n",
       "      <td>EPL</td>\n",
       "    </tr>\n",
       "    <tr>\n",
       "      <th>2</th>\n",
       "      <td>2</td>\n",
       "      <td>Scott Carson</td>\n",
       "      <td>Scott Paul Carson</td>\n",
       "      <td>37</td>\n",
       "      <td>1.880</td>\n",
       "      <td>England</td>\n",
       "      <td>Whitehaven</td>\n",
       "      <td>0.250</td>\n",
       "      <td>6.000</td>\n",
       "      <td>Goalkeeper</td>\n",
       "      <td>33</td>\n",
       "      <td>right</td>\n",
       "      <td>Man City</td>\n",
       "      <td>2023-06-30</td>\n",
       "      <td>2021-07-20</td>\n",
       "      <td>Wasserman</td>\n",
       "      <td>Puma</td>\n",
       "      <td>EPL</td>\n",
       "    </tr>\n",
       "    <tr>\n",
       "      <th>3</th>\n",
       "      <td>3</td>\n",
       "      <td>Rúben Dias</td>\n",
       "      <td>Rúben Santos Gato Alves Dias</td>\n",
       "      <td>26</td>\n",
       "      <td>1.870</td>\n",
       "      <td>Portugal</td>\n",
       "      <td>Amadora</td>\n",
       "      <td>75.000</td>\n",
       "      <td>75.000</td>\n",
       "      <td>Defender - Centre-Back</td>\n",
       "      <td>3</td>\n",
       "      <td>right</td>\n",
       "      <td>Man City</td>\n",
       "      <td>2027-06-30</td>\n",
       "      <td>2020-09-29</td>\n",
       "      <td>Gestifute</td>\n",
       "      <td>Nike</td>\n",
       "      <td>EPL</td>\n",
       "    </tr>\n",
       "    <tr>\n",
       "      <th>4</th>\n",
       "      <td>4</td>\n",
       "      <td>Nathan Aké</td>\n",
       "      <td>Nathan Benjamin Aké</td>\n",
       "      <td>28</td>\n",
       "      <td>1.800</td>\n",
       "      <td>Netherlands  Cote d'Ivoire</td>\n",
       "      <td>Den Haag</td>\n",
       "      <td>35.000</td>\n",
       "      <td>40.000</td>\n",
       "      <td>Defender - Centre-Back</td>\n",
       "      <td>6</td>\n",
       "      <td>left</td>\n",
       "      <td>Man City</td>\n",
       "      <td>2025-06-30</td>\n",
       "      <td>2020-08-05</td>\n",
       "      <td>Wasserman</td>\n",
       "      <td>Nike</td>\n",
       "      <td>EPL</td>\n",
       "    </tr>\n",
       "  </tbody>\n",
       "</table>\n",
       "</div>"
      ],
      "text/plain": [
       "   Unnamed: 0           name                     full_name  age  height  \\\n",
       "0           0        Ederson                           NaN   29   1.880   \n",
       "1           1  Stefan Ortega          Stefan Ortega Moreno   30   1.850   \n",
       "2           2   Scott Carson             Scott Paul Carson   37   1.880   \n",
       "3           3     Rúben Dias  Rúben Santos Gato Alves Dias   26   1.870   \n",
       "4           4     Nathan Aké           Nathan Benjamin Aké   28   1.800   \n",
       "\n",
       "                  nationality place_of_birth  price  max_price  \\\n",
       "0            Brazil  Portugal    Osasco (SP) 45.000     70.000   \n",
       "1              Germany  Spain     Hofgeismar  6.000      6.000   \n",
       "2                     England     Whitehaven  0.250      6.000   \n",
       "3                    Portugal        Amadora 75.000     75.000   \n",
       "4  Netherlands  Cote d'Ivoire       Den Haag 35.000     40.000   \n",
       "\n",
       "                 position  shirt_nr   foot      club contract_expires  \\\n",
       "0              Goalkeeper        31   left  Man City       2026-06-30   \n",
       "1              Goalkeeper        18  right  Man City       2025-06-30   \n",
       "2              Goalkeeper        33  right  Man City       2023-06-30   \n",
       "3  Defender - Centre-Back         3  right  Man City       2027-06-30   \n",
       "4  Defender - Centre-Back         6   left  Man City       2025-06-30   \n",
       "\n",
       "  joined_club player_agent outfitter league  \n",
       "0  2017-07-01    Gestifute      Puma    EPL  \n",
       "1  2022-07-01  neblung ...       NaN    EPL  \n",
       "2  2021-07-20    Wasserman      Puma    EPL  \n",
       "3  2020-09-29    Gestifute      Nike    EPL  \n",
       "4  2020-08-05    Wasserman      Nike    EPL  "
      ]
     },
     "execution_count": 3,
     "metadata": {},
     "output_type": "execute_result"
    }
   ],
   "source": [
    "df.head()"
   ]
  },
  {
   "cell_type": "code",
   "execution_count": 4,
   "metadata": {
    "colab": {
     "base_uri": "https://localhost:8080/",
     "height": 197
    },
    "id": "w60wdYKZReMn",
    "outputId": "95f9af3e-5b2c-430d-a321-fd4e061f2aee"
   },
   "outputs": [
    {
     "data": {
      "text/plain": [
       "(2612, 18)"
      ]
     },
     "execution_count": 4,
     "metadata": {},
     "output_type": "execute_result"
    }
   ],
   "source": [
    "df.shape"
   ]
  },
  {
   "cell_type": "code",
   "execution_count": 5,
   "metadata": {
    "colab": {
     "base_uri": "https://localhost:8080/"
    },
    "id": "nAte7ye7RgRi",
    "outputId": "94279e7a-a328-4c19-f3a3-ad8f16fb3ceb"
   },
   "outputs": [
    {
     "name": "stdout",
     "output_type": "stream",
     "text": [
      "<class 'pandas.core.frame.DataFrame'>\n",
      "RangeIndex: 2612 entries, 0 to 2611\n",
      "Data columns (total 18 columns):\n",
      " #   Column            Non-Null Count  Dtype  \n",
      "---  ------            --------------  -----  \n",
      " 0   Unnamed: 0        2612 non-null   int64  \n",
      " 1   name              2612 non-null   object \n",
      " 2   full_name         1480 non-null   object \n",
      " 3   age               2612 non-null   int64  \n",
      " 4   height            2601 non-null   float64\n",
      " 5   nationality       2612 non-null   object \n",
      " 6   place_of_birth    2595 non-null   object \n",
      " 7   price             2602 non-null   float64\n",
      " 8   max_price         2606 non-null   float64\n",
      " 9   position          2612 non-null   object \n",
      " 10  shirt_nr          2612 non-null   int64  \n",
      " 11  foot              2576 non-null   object \n",
      " 12  club              2612 non-null   object \n",
      " 13  contract_expires  2544 non-null   object \n",
      " 14  joined_club       2612 non-null   object \n",
      " 15  player_agent      2353 non-null   object \n",
      " 16  outfitter         1003 non-null   object \n",
      " 17  league            2612 non-null   object \n",
      "dtypes: float64(3), int64(3), object(12)\n",
      "memory usage: 367.4+ KB\n"
     ]
    }
   ],
   "source": [
    "df.info()"
   ]
  },
  {
   "cell_type": "code",
   "execution_count": 6,
   "metadata": {
    "colab": {
     "base_uri": "https://localhost:8080/",
     "height": 461
    },
    "id": "c3HrvxDUWNd5",
    "outputId": "4a3c6172-66ea-419d-fb80-fb0b4f20e522"
   },
   "outputs": [
    {
     "data": {
      "text/plain": [
       "Unnamed: 0             0\n",
       "name                   0\n",
       "full_name           1132\n",
       "age                    0\n",
       "height                11\n",
       "nationality            0\n",
       "place_of_birth        17\n",
       "price                 10\n",
       "max_price              6\n",
       "position               0\n",
       "shirt_nr               0\n",
       "foot                  36\n",
       "club                   0\n",
       "contract_expires      68\n",
       "joined_club            0\n",
       "player_agent         259\n",
       "outfitter           1609\n",
       "league                 0\n",
       "dtype: int64"
      ]
     },
     "execution_count": 6,
     "metadata": {},
     "output_type": "execute_result"
    }
   ],
   "source": [
    "df.isnull().sum()"
   ]
  },
  {
   "cell_type": "markdown",
   "metadata": {},
   "source": [
    "Roughly 40 percent of the full_name data and 60 percent of the outfitter data are missing."
   ]
  },
  {
   "cell_type": "code",
   "execution_count": 7,
   "metadata": {},
   "outputs": [
    {
     "data": {
      "text/plain": [
       "Unnamed: 0          0.000\n",
       "name                0.000\n",
       "full_name          43.338\n",
       "age                 0.000\n",
       "height              0.421\n",
       "nationality         0.000\n",
       "place_of_birth      0.651\n",
       "price               0.383\n",
       "max_price           0.230\n",
       "position            0.000\n",
       "shirt_nr            0.000\n",
       "foot                1.378\n",
       "club                0.000\n",
       "contract_expires    2.603\n",
       "joined_club         0.000\n",
       "player_agent        9.916\n",
       "outfitter          61.600\n",
       "league              0.000\n",
       "dtype: float64"
      ]
     },
     "execution_count": 7,
     "metadata": {},
     "output_type": "execute_result"
    }
   ],
   "source": [
    "df.isnull().sum() / df.shape[0] * 100"
   ]
  },
  {
   "cell_type": "markdown",
   "metadata": {},
   "source": [
    "We can drop named of column 'Unnamed: 0', we won't use it."
   ]
  },
  {
   "cell_type": "code",
   "execution_count": 8,
   "metadata": {
    "id": "ljyGFeaUWV03"
   },
   "outputs": [],
   "source": [
    "df.drop(columns='Unnamed: 0', inplace=True)"
   ]
  },
  {
   "cell_type": "markdown",
   "metadata": {},
   "source": [
    "For this dataset I won't use other league.\n",
    "I dropped them from my main df and I resign them a new df which named of 'other_league'\n"
   ]
  },
  {
   "cell_type": "code",
   "execution_count": 10,
   "metadata": {},
   "outputs": [
    {
     "data": {
      "text/plain": [
       "Bundesliga    499\n",
       "LaLiga        481\n",
       "EPL           449\n",
       "Ligue1        430\n",
       "Other         398\n",
       "SerieA        355\n",
       "Name: league, dtype: int64"
      ]
     },
     "execution_count": 10,
     "metadata": {},
     "output_type": "execute_result"
    }
   ],
   "source": [
    "df.league.value_counts(dropna=False)"
   ]
  },
  {
   "cell_type": "code",
   "execution_count": 11,
   "metadata": {},
   "outputs": [],
   "source": [
    "other_league = df.filter([\"league\"])[df.league=='Other']"
   ]
  },
  {
   "cell_type": "code",
   "execution_count": 12,
   "metadata": {},
   "outputs": [],
   "source": [
    "df.drop(other_league.index, inplace=True)"
   ]
  },
  {
   "cell_type": "code",
   "execution_count": 13,
   "metadata": {},
   "outputs": [
    {
     "data": {
      "text/plain": [
       "Bundesliga    499\n",
       "LaLiga        481\n",
       "EPL           449\n",
       "Ligue1        430\n",
       "SerieA        355\n",
       "Name: league, dtype: int64"
      ]
     },
     "execution_count": 13,
     "metadata": {},
     "output_type": "execute_result"
    }
   ],
   "source": [
    "df.league.value_counts(dropna=False)"
   ]
  },
  {
   "cell_type": "code",
   "execution_count": 14,
   "metadata": {},
   "outputs": [
    {
     "data": {
      "text/plain": [
       "(2214, 17)"
      ]
     },
     "execution_count": 14,
     "metadata": {},
     "output_type": "execute_result"
    }
   ],
   "source": [
    "df.shape"
   ]
  },
  {
   "cell_type": "code",
   "execution_count": 15,
   "metadata": {},
   "outputs": [
    {
     "data": {
      "text/plain": [
       "(398, 1)"
      ]
     },
     "execution_count": 15,
     "metadata": {},
     "output_type": "execute_result"
    }
   ],
   "source": [
    "other_league.shape"
   ]
  },
  {
   "cell_type": "markdown",
   "metadata": {},
   "source": [
    "We need to reset indexes because we dropped some rows, we don't these rows indexes"
   ]
  },
  {
   "cell_type": "code",
   "execution_count": 16,
   "metadata": {},
   "outputs": [],
   "source": [
    "df.reset_index(drop=True, inplace=True)"
   ]
  },
  {
   "cell_type": "code",
   "execution_count": 17,
   "metadata": {},
   "outputs": [
    {
     "data": {
      "text/plain": [
       "RangeIndex(start=0, stop=2214, step=1)"
      ]
     },
     "execution_count": 17,
     "metadata": {},
     "output_type": "execute_result"
    }
   ],
   "source": [
    "df.index"
   ]
  },
  {
   "cell_type": "code",
   "execution_count": 19,
   "metadata": {},
   "outputs": [
    {
     "data": {
      "text/html": [
       "<div>\n",
       "<style scoped>\n",
       "    .dataframe tbody tr th:only-of-type {\n",
       "        vertical-align: middle;\n",
       "    }\n",
       "\n",
       "    .dataframe tbody tr th {\n",
       "        vertical-align: top;\n",
       "    }\n",
       "\n",
       "    .dataframe thead th {\n",
       "        text-align: right;\n",
       "    }\n",
       "</style>\n",
       "<table border=\"1\" class=\"dataframe\">\n",
       "  <thead>\n",
       "    <tr style=\"text-align: right;\">\n",
       "      <th></th>\n",
       "      <th>name</th>\n",
       "      <th>full_name</th>\n",
       "      <th>age</th>\n",
       "      <th>height</th>\n",
       "      <th>nationality</th>\n",
       "      <th>place_of_birth</th>\n",
       "      <th>price</th>\n",
       "      <th>max_price</th>\n",
       "      <th>position</th>\n",
       "      <th>shirt_nr</th>\n",
       "      <th>foot</th>\n",
       "      <th>club</th>\n",
       "      <th>contract_expires</th>\n",
       "      <th>joined_club</th>\n",
       "      <th>player_agent</th>\n",
       "      <th>outfitter</th>\n",
       "      <th>league</th>\n",
       "    </tr>\n",
       "  </thead>\n",
       "  <tbody>\n",
       "    <tr>\n",
       "      <th>0</th>\n",
       "      <td>Ederson</td>\n",
       "      <td>NaN</td>\n",
       "      <td>29</td>\n",
       "      <td>1.880</td>\n",
       "      <td>Brazil  Portugal</td>\n",
       "      <td>Osasco (SP)</td>\n",
       "      <td>45.000</td>\n",
       "      <td>70.000</td>\n",
       "      <td>Goalkeeper</td>\n",
       "      <td>31</td>\n",
       "      <td>left</td>\n",
       "      <td>Man City</td>\n",
       "      <td>2026-06-30</td>\n",
       "      <td>2017-07-01</td>\n",
       "      <td>Gestifute</td>\n",
       "      <td>Puma</td>\n",
       "      <td>EPL</td>\n",
       "    </tr>\n",
       "    <tr>\n",
       "      <th>1</th>\n",
       "      <td>Stefan Ortega</td>\n",
       "      <td>Stefan Ortega Moreno</td>\n",
       "      <td>30</td>\n",
       "      <td>1.850</td>\n",
       "      <td>Germany  Spain</td>\n",
       "      <td>Hofgeismar</td>\n",
       "      <td>6.000</td>\n",
       "      <td>6.000</td>\n",
       "      <td>Goalkeeper</td>\n",
       "      <td>18</td>\n",
       "      <td>right</td>\n",
       "      <td>Man City</td>\n",
       "      <td>2025-06-30</td>\n",
       "      <td>2022-07-01</td>\n",
       "      <td>neblung ...</td>\n",
       "      <td>NaN</td>\n",
       "      <td>EPL</td>\n",
       "    </tr>\n",
       "    <tr>\n",
       "      <th>2</th>\n",
       "      <td>Scott Carson</td>\n",
       "      <td>Scott Paul Carson</td>\n",
       "      <td>37</td>\n",
       "      <td>1.880</td>\n",
       "      <td>England</td>\n",
       "      <td>Whitehaven</td>\n",
       "      <td>0.250</td>\n",
       "      <td>6.000</td>\n",
       "      <td>Goalkeeper</td>\n",
       "      <td>33</td>\n",
       "      <td>right</td>\n",
       "      <td>Man City</td>\n",
       "      <td>2023-06-30</td>\n",
       "      <td>2021-07-20</td>\n",
       "      <td>Wasserman</td>\n",
       "      <td>Puma</td>\n",
       "      <td>EPL</td>\n",
       "    </tr>\n",
       "    <tr>\n",
       "      <th>3</th>\n",
       "      <td>Rúben Dias</td>\n",
       "      <td>Rúben Santos Gato Alves Dias</td>\n",
       "      <td>26</td>\n",
       "      <td>1.870</td>\n",
       "      <td>Portugal</td>\n",
       "      <td>Amadora</td>\n",
       "      <td>75.000</td>\n",
       "      <td>75.000</td>\n",
       "      <td>Defender - Centre-Back</td>\n",
       "      <td>3</td>\n",
       "      <td>right</td>\n",
       "      <td>Man City</td>\n",
       "      <td>2027-06-30</td>\n",
       "      <td>2020-09-29</td>\n",
       "      <td>Gestifute</td>\n",
       "      <td>Nike</td>\n",
       "      <td>EPL</td>\n",
       "    </tr>\n",
       "    <tr>\n",
       "      <th>4</th>\n",
       "      <td>Nathan Aké</td>\n",
       "      <td>Nathan Benjamin Aké</td>\n",
       "      <td>28</td>\n",
       "      <td>1.800</td>\n",
       "      <td>Netherlands  Cote d'Ivoire</td>\n",
       "      <td>Den Haag</td>\n",
       "      <td>35.000</td>\n",
       "      <td>40.000</td>\n",
       "      <td>Defender - Centre-Back</td>\n",
       "      <td>6</td>\n",
       "      <td>left</td>\n",
       "      <td>Man City</td>\n",
       "      <td>2025-06-30</td>\n",
       "      <td>2020-08-05</td>\n",
       "      <td>Wasserman</td>\n",
       "      <td>Nike</td>\n",
       "      <td>EPL</td>\n",
       "    </tr>\n",
       "  </tbody>\n",
       "</table>\n",
       "</div>"
      ],
      "text/plain": [
       "            name                     full_name  age  height  \\\n",
       "0        Ederson                           NaN   29   1.880   \n",
       "1  Stefan Ortega          Stefan Ortega Moreno   30   1.850   \n",
       "2   Scott Carson             Scott Paul Carson   37   1.880   \n",
       "3     Rúben Dias  Rúben Santos Gato Alves Dias   26   1.870   \n",
       "4     Nathan Aké           Nathan Benjamin Aké   28   1.800   \n",
       "\n",
       "                  nationality place_of_birth  price  max_price  \\\n",
       "0            Brazil  Portugal    Osasco (SP) 45.000     70.000   \n",
       "1              Germany  Spain     Hofgeismar  6.000      6.000   \n",
       "2                     England     Whitehaven  0.250      6.000   \n",
       "3                    Portugal        Amadora 75.000     75.000   \n",
       "4  Netherlands  Cote d'Ivoire       Den Haag 35.000     40.000   \n",
       "\n",
       "                 position  shirt_nr   foot      club contract_expires  \\\n",
       "0              Goalkeeper        31   left  Man City       2026-06-30   \n",
       "1              Goalkeeper        18  right  Man City       2025-06-30   \n",
       "2              Goalkeeper        33  right  Man City       2023-06-30   \n",
       "3  Defender - Centre-Back         3  right  Man City       2027-06-30   \n",
       "4  Defender - Centre-Back         6   left  Man City       2025-06-30   \n",
       "\n",
       "  joined_club player_agent outfitter league  \n",
       "0  2017-07-01    Gestifute      Puma    EPL  \n",
       "1  2022-07-01  neblung ...       NaN    EPL  \n",
       "2  2021-07-20    Wasserman      Puma    EPL  \n",
       "3  2020-09-29    Gestifute      Nike    EPL  \n",
       "4  2020-08-05    Wasserman      Nike    EPL  "
      ]
     },
     "execution_count": 19,
     "metadata": {},
     "output_type": "execute_result"
    }
   ],
   "source": [
    "df.head()"
   ]
  },
  {
   "cell_type": "markdown",
   "metadata": {},
   "source": [
    "The heatmap below shows the distribution of the missing data within all data."
   ]
  },
  {
   "cell_type": "code",
   "execution_count": 95,
   "metadata": {},
   "outputs": [
    {
     "data": {
      "image/png": "[encoded data removed]",
      "text/plain": [
       "<Figure size 800x500 with 1 Axes>"
      ]
     },
     "metadata": {},
     "output_type": "display_data"
    }
   ],
   "source": [
    "sns.heatmap(df.isnull(), yticklabels=False, cbar=False, cmap='viridis');"
   ]
  },
  {
   "cell_type": "code",
   "execution_count": 21,
   "metadata": {
    "colab": {
     "base_uri": "https://localhost:8080/",
     "height": 300
    },
    "id": "8G_pLKB4Rpq7",
    "outputId": "1b5c1e89-9a82-4879-8762-9b4527007003"
   },
   "outputs": [
    {
     "data": {
      "text/html": [
       "<div>\n",
       "<style scoped>\n",
       "    .dataframe tbody tr th:only-of-type {\n",
       "        vertical-align: middle;\n",
       "    }\n",
       "\n",
       "    .dataframe tbody tr th {\n",
       "        vertical-align: top;\n",
       "    }\n",
       "\n",
       "    .dataframe thead th {\n",
       "        text-align: right;\n",
       "    }\n",
       "</style>\n",
       "<table border=\"1\" class=\"dataframe\">\n",
       "  <thead>\n",
       "    <tr style=\"text-align: right;\">\n",
       "      <th></th>\n",
       "      <th>count</th>\n",
       "      <th>mean</th>\n",
       "      <th>std</th>\n",
       "      <th>min</th>\n",
       "      <th>25%</th>\n",
       "      <th>50%</th>\n",
       "      <th>75%</th>\n",
       "      <th>max</th>\n",
       "    </tr>\n",
       "  </thead>\n",
       "  <tbody>\n",
       "    <tr>\n",
       "      <th>age</th>\n",
       "      <td>2612.000</td>\n",
       "      <td>26.306</td>\n",
       "      <td>4.645</td>\n",
       "      <td>17.000</td>\n",
       "      <td>23.000</td>\n",
       "      <td>26.000</td>\n",
       "      <td>30.000</td>\n",
       "      <td>42.000</td>\n",
       "    </tr>\n",
       "    <tr>\n",
       "      <th>height</th>\n",
       "      <td>2601.000</td>\n",
       "      <td>1.831</td>\n",
       "      <td>0.067</td>\n",
       "      <td>1.630</td>\n",
       "      <td>1.780</td>\n",
       "      <td>1.830</td>\n",
       "      <td>1.880</td>\n",
       "      <td>2.060</td>\n",
       "    </tr>\n",
       "    <tr>\n",
       "      <th>price</th>\n",
       "      <td>2602.000</td>\n",
       "      <td>10.651</td>\n",
       "      <td>15.773</td>\n",
       "      <td>0.025</td>\n",
       "      <td>1.800</td>\n",
       "      <td>4.500</td>\n",
       "      <td>13.000</td>\n",
       "      <td>180.000</td>\n",
       "    </tr>\n",
       "    <tr>\n",
       "      <th>max_price</th>\n",
       "      <td>2606.000</td>\n",
       "      <td>17.305</td>\n",
       "      <td>21.949</td>\n",
       "      <td>0.025</td>\n",
       "      <td>3.500</td>\n",
       "      <td>10.000</td>\n",
       "      <td>22.000</td>\n",
       "      <td>200.000</td>\n",
       "    </tr>\n",
       "    <tr>\n",
       "      <th>shirt_nr</th>\n",
       "      <td>2612.000</td>\n",
       "      <td>20.496</td>\n",
       "      <td>17.914</td>\n",
       "      <td>1.000</td>\n",
       "      <td>8.000</td>\n",
       "      <td>17.000</td>\n",
       "      <td>27.000</td>\n",
       "      <td>99.000</td>\n",
       "    </tr>\n",
       "  </tbody>\n",
       "</table>\n",
       "</div>"
      ],
      "text/plain": [
       "             count   mean    std    min    25%    50%    75%     max\n",
       "age       2612.000 26.306  4.645 17.000 23.000 26.000 30.000  42.000\n",
       "height    2601.000  1.831  0.067  1.630  1.780  1.830  1.880   2.060\n",
       "price     2602.000 10.651 15.773  0.025  1.800  4.500 13.000 180.000\n",
       "max_price 2606.000 17.305 21.949  0.025  3.500 10.000 22.000 200.000\n",
       "shirt_nr  2612.000 20.496 17.914  1.000  8.000 17.000 27.000  99.000"
      ]
     },
     "execution_count": 21,
     "metadata": {},
     "output_type": "execute_result"
    }
   ],
   "source": [
    "df.describe().T"
   ]
  },
  {
   "cell_type": "code",
   "execution_count": 22,
   "metadata": {},
   "outputs": [
    {
     "data": {
      "text/html": [
       "<div>\n",
       "<style scoped>\n",
       "    .dataframe tbody tr th:only-of-type {\n",
       "        vertical-align: middle;\n",
       "    }\n",
       "\n",
       "    .dataframe tbody tr th {\n",
       "        vertical-align: top;\n",
       "    }\n",
       "\n",
       "    .dataframe thead th {\n",
       "        text-align: right;\n",
       "    }\n",
       "</style>\n",
       "<table border=\"1\" class=\"dataframe\">\n",
       "  <thead>\n",
       "    <tr style=\"text-align: right;\">\n",
       "      <th></th>\n",
       "      <th>count</th>\n",
       "      <th>unique</th>\n",
       "      <th>top</th>\n",
       "      <th>freq</th>\n",
       "    </tr>\n",
       "  </thead>\n",
       "  <tbody>\n",
       "    <tr>\n",
       "      <th>name</th>\n",
       "      <td>2612</td>\n",
       "      <td>2607</td>\n",
       "      <td>João Moutinho</td>\n",
       "      <td>2</td>\n",
       "    </tr>\n",
       "    <tr>\n",
       "      <th>full_name</th>\n",
       "      <td>1480</td>\n",
       "      <td>1480</td>\n",
       "      <td>Stefan Ortega Moreno</td>\n",
       "      <td>1</td>\n",
       "    </tr>\n",
       "    <tr>\n",
       "      <th>nationality</th>\n",
       "      <td>2612</td>\n",
       "      <td>423</td>\n",
       "      <td>Spain</td>\n",
       "      <td>311</td>\n",
       "    </tr>\n",
       "    <tr>\n",
       "      <th>place_of_birth</th>\n",
       "      <td>2595</td>\n",
       "      <td>1510</td>\n",
       "      <td>London</td>\n",
       "      <td>57</td>\n",
       "    </tr>\n",
       "    <tr>\n",
       "      <th>position</th>\n",
       "      <td>2612</td>\n",
       "      <td>14</td>\n",
       "      <td>Defender - Centre-Back</td>\n",
       "      <td>468</td>\n",
       "    </tr>\n",
       "    <tr>\n",
       "      <th>foot</th>\n",
       "      <td>2576</td>\n",
       "      <td>3</td>\n",
       "      <td>right</td>\n",
       "      <td>1811</td>\n",
       "    </tr>\n",
       "    <tr>\n",
       "      <th>club</th>\n",
       "      <td>2612</td>\n",
       "      <td>118</td>\n",
       "      <td>Nottm Forest</td>\n",
       "      <td>34</td>\n",
       "    </tr>\n",
       "    <tr>\n",
       "      <th>contract_expires</th>\n",
       "      <td>2544</td>\n",
       "      <td>11</td>\n",
       "      <td>2023-06-30</td>\n",
       "      <td>634</td>\n",
       "    </tr>\n",
       "    <tr>\n",
       "      <th>joined_club</th>\n",
       "      <td>2612</td>\n",
       "      <td>553</td>\n",
       "      <td>2022-07-01</td>\n",
       "      <td>362</td>\n",
       "    </tr>\n",
       "    <tr>\n",
       "      <th>player_agent</th>\n",
       "      <td>2353</td>\n",
       "      <td>691</td>\n",
       "      <td>Wasserman</td>\n",
       "      <td>104</td>\n",
       "    </tr>\n",
       "    <tr>\n",
       "      <th>outfitter</th>\n",
       "      <td>1003</td>\n",
       "      <td>14</td>\n",
       "      <td>Nike</td>\n",
       "      <td>428</td>\n",
       "    </tr>\n",
       "    <tr>\n",
       "      <th>league</th>\n",
       "      <td>2612</td>\n",
       "      <td>6</td>\n",
       "      <td>Bundesliga</td>\n",
       "      <td>499</td>\n",
       "    </tr>\n",
       "  </tbody>\n",
       "</table>\n",
       "</div>"
      ],
      "text/plain": [
       "                 count unique                     top  freq\n",
       "name              2612   2607           João Moutinho     2\n",
       "full_name         1480   1480    Stefan Ortega Moreno     1\n",
       "nationality       2612    423                   Spain   311\n",
       "place_of_birth    2595   1510                  London    57\n",
       "position          2612     14  Defender - Centre-Back   468\n",
       "foot              2576      3                   right  1811\n",
       "club              2612    118            Nottm Forest    34\n",
       "contract_expires  2544     11              2023-06-30   634\n",
       "joined_club       2612    553              2022-07-01   362\n",
       "player_agent      2353    691               Wasserman   104\n",
       "outfitter         1003     14                    Nike   428\n",
       "league            2612      6              Bundesliga   499"
      ]
     },
     "execution_count": 22,
     "metadata": {},
     "output_type": "execute_result"
    }
   ],
   "source": [
    "df.describe(include='O').T"
   ]
  },
  {
   "cell_type": "code",
   "execution_count": 96,
   "metadata": {},
   "outputs": [
    {
     "data": {
      "text/plain": [
       "Index(['name', 'full_name', 'nationality', 'place_of_birth', 'position',\n",
       "       'foot', 'club', 'contract_expires', 'joined_club', 'player_agent',\n",
       "       'outfitter', 'league'],\n",
       "      dtype='object')"
      ]
     },
     "execution_count": 96,
     "metadata": {},
     "output_type": "execute_result"
    }
   ],
   "source": [
    "object_col = df.select_dtypes(include='object').columns\n",
    "object_col"
   ]
  },
  {
   "cell_type": "code",
   "execution_count": 97,
   "metadata": {
    "colab": {
     "base_uri": "https://localhost:8080/"
    },
    "id": "14HKIgG2SI9q",
    "outputId": "dcf533a0-2df5-4ede-e366-3b3e1c6dabbc"
   },
   "outputs": [
    {
     "name": "stdout",
     "output_type": "stream",
     "text": [
      "name\n",
      "------------------------------\n",
      "Vitinha               2\n",
      "Thierry Correia       1\n",
      "Eray Cömert           1\n",
      "Gabriel Paulista      1\n",
      "Cenk Özkacar          1\n",
      "                     ..\n",
      "Iago                  1\n",
      "Maximilian Bauer      1\n",
      "Jeffrey Gouweleeuw    1\n",
      "Reece Oxford          1\n",
      "Ulrick Eneme-Ella     1\n",
      "Name: name, Length: 2213, dtype: int64\n",
      "------------------------------------------------------------\n",
      "full_name\n",
      "------------------------------\n",
      "NaN                               912\n",
      "Iker Muniain Goñi                   1\n",
      "Domingos André Ribeiro Almeida      1\n",
      "Yunus Dimoara Musah                 1\n",
      "Hugo Guillamón Sanmartín            1\n",
      "                                 ... \n",
      "Stanley Pierre Nsoki                1\n",
      "Ozan Muhammed Kabak                 1\n",
      "Nahuel Nicolas Noll                 1\n",
      "정우영                                 1\n",
      "Ulrick Brad Eneme-Ella              1\n",
      "Name: full_name, Length: 1303, dtype: int64\n",
      "------------------------------------------------------------\n",
      "nationality\n",
      "------------------------------\n",
      "Spain                          299\n",
      "Germany                        180\n",
      "Italy                          116\n",
      "England                        100\n",
      "France                          94\n",
      "                              ... \n",
      "Luxembourg  Portugal             1\n",
      "Switzerland  Portugal            1\n",
      "Scotland  Isle of Man            1\n",
      "Germany  Bosnia-Herzegovina      1\n",
      "Germany  Finland                 1\n",
      "Name: nationality, Length: 393, dtype: int64\n",
      "------------------------------------------------------------\n",
      "place_of_birth\n",
      "------------------------------\n",
      "London                       52\n",
      "Madrid                       41\n",
      "Paris                        36\n",
      "Berlin                       21\n",
      "Marseille                    18\n",
      "                             ..\n",
      "Bad Neustadt an der Saale     1\n",
      "Kerteminde                    1\n",
      "Porsgrunn                     1\n",
      "Lich                          1\n",
      "M'bour                        1\n",
      "Name: place_of_birth, Length: 1331, dtype: int64\n",
      "------------------------------------------------------------\n",
      "position\n",
      "------------------------------\n",
      "Defender - Centre-Back           392\n",
      "midfield - Central Midfield      275\n",
      "Attack - Centre-Forward          274\n",
      "Goalkeeper                       262\n",
      "Defender - Right-Back            199\n",
      "Defender - Left-Back             180\n",
      "midfield - Defensive Midfield    169\n",
      "midfield - Attacking Midfield    144\n",
      "Attack - Left Winger             139\n",
      "Attack - Right Winger            135\n",
      "midfield - Right Midfield         16\n",
      "Attack - Second Striker           14\n",
      "midfield - Left Midfield          14\n",
      "midfield                           1\n",
      "Name: position, dtype: int64\n",
      "------------------------------------------------------------\n",
      "foot\n",
      "------------------------------\n",
      "right    1541\n",
      "left      562\n",
      "both       86\n",
      "NaN        25\n",
      "Name: foot, dtype: int64\n",
      "------------------------------------------------------------\n",
      "club\n",
      "------------------------------\n",
      "Man Utd           32\n",
      "FC Schalke 04     31\n",
      "FC Augsburg       31\n",
      "TSG Hoffenheim    31\n",
      "Chelsea           31\n",
      "                  ..\n",
      "West Ham          22\n",
      "Barcelona         21\n",
      "Celta de Vigo     21\n",
      "Marseille         21\n",
      "CA Osasuna        21\n",
      "Name: club, Length: 85, dtype: int64\n",
      "------------------------------------------------------------\n",
      "contract_expires\n",
      "------------------------------\n",
      "2023-06-30    510\n",
      "2025-06-30    466\n",
      "2024-06-30    446\n",
      "2026-06-30    428\n",
      "2027-06-30    262\n",
      "NaN            47\n",
      "2028-06-30     42\n",
      "2023-05-31      4\n",
      "2029-06-30      3\n",
      "2031-06-30      3\n",
      "2030-06-30      2\n",
      "2032-06-30      1\n",
      "Name: contract_expires, dtype: int64\n",
      "------------------------------------------------------------\n",
      "joined_club\n",
      "------------------------------\n",
      "2022-07-01    302\n",
      "2021-07-01    121\n",
      "2019-07-01    106\n",
      "2022-09-01     76\n",
      "2018-07-01     64\n",
      "             ... \n",
      "2015-01-27      1\n",
      "2021-10-07      1\n",
      "2019-01-03      1\n",
      "2017-08-04      1\n",
      "2022-01-06      1\n",
      "Name: joined_club, Length: 514, dtype: int64\n",
      "------------------------------------------------------------\n",
      "player_agent\n",
      "------------------------------\n",
      "NaN                      218\n",
      "Wasserman                 81\n",
      "CAA Stellar               79\n",
      "Relatives                 78\n",
      "Unique Sports Group       58\n",
      "                        ... \n",
      "JEB ENTERTAINMENT ...      1\n",
      "Kay Sports ...             1\n",
      "IS SPORTS AGENCY ...       1\n",
      "UNIDOS                     1\n",
      "CNS                        1\n",
      "Name: player_agent, Length: 621, dtype: int64\n",
      "------------------------------------------------------------\n",
      "outfitter\n",
      "------------------------------\n",
      "NaN             1316\n",
      "Nike             378\n",
      "adidas           345\n",
      "Puma             140\n",
      "New Balance       11\n",
      "Under Armour       9\n",
      "Uhlsport           5\n",
      "Mizuno             2\n",
      "Lotto              2\n",
      "Joma               2\n",
      "Umbro              1\n",
      "AB1                1\n",
      "Sells              1\n",
      "HashtagOne         1\n",
      "Name: outfitter, dtype: int64\n",
      "------------------------------------------------------------\n",
      "league\n",
      "------------------------------\n",
      "Bundesliga    499\n",
      "LaLiga        481\n",
      "EPL           449\n",
      "Ligue1        430\n",
      "SerieA        355\n",
      "Name: league, dtype: int64\n",
      "------------------------------------------------------------\n"
     ]
    }
   ],
   "source": [
    "for col in object_col:\n",
    "    print(col)\n",
    "    print(\"--\"*15)\n",
    "    print(df[col].value_counts(dropna=False))\n",
    "    print(\"--\"*30)"
   ]
  },
  {
   "cell_type": "markdown",
   "metadata": {
    "colab": {
     "base_uri": "https://localhost:8080/",
     "height": 817
    },
    "id": "EdPqKaqzWVxV",
    "outputId": "9c2a0e87-a64e-466c-d0db-08d98da19df1"
   },
   "source": [
    "## <p style=\"background-color:yellow; font-family:newtimeroman; color:blue; font-size:175%; text-align:center; border-radius:10px 10px;\">The Detailed Examination of Data Column by Column</p>"
   ]
  },
  {
   "cell_type": "code",
   "execution_count": 98,
   "metadata": {
    "colab": {
     "base_uri": "https://localhost:8080/",
     "height": 826
    },
    "id": "TeWe46TXWVud",
    "outputId": "d05a0a0a-8cea-44cc-aa63-e554e696af33"
   },
   "outputs": [
    {
     "data": {
      "image/png": "[encoded data removed]",
      "text/plain": [
       "<Figure size 800x500 with 1 Axes>"
      ]
     },
     "metadata": {},
     "output_type": "display_data"
    }
   ],
   "source": [
    "plt.hist(df['age'], bins=25, density=True)\n",
    "plt.xlabel('Age')\n",
    "plt.ylabel('Density')\n",
    "plt.title('Age Distribution')\n",
    "plt.show()"
   ]
  },
  {
   "cell_type": "code",
   "execution_count": 99,
   "metadata": {
    "colab": {
     "base_uri": "https://localhost:8080/"
    },
    "id": "sq-CzI6_Wyg4",
    "outputId": "5bb8edd3-6aeb-4042-fd43-08c5a6648ffd"
   },
   "outputs": [
    {
     "data": {
      "text/plain": [
       "26.399728997289973"
      ]
     },
     "execution_count": 99,
     "metadata": {},
     "output_type": "execute_result"
    }
   ],
   "source": [
    "mean = df.age.mean()\n",
    "mean"
   ]
  },
  {
   "cell_type": "code",
   "execution_count": 100,
   "metadata": {
    "colab": {
     "base_uri": "https://localhost:8080/",
     "height": 179
    },
    "id": "yOO5O4AEXkCn",
    "outputId": "0e05df6d-9573-4a5c-fa5b-a78df3b766d0"
   },
   "outputs": [
    {
     "data": {
      "text/plain": [
       "26.0"
      ]
     },
     "execution_count": 100,
     "metadata": {},
     "output_type": "execute_result"
    }
   ],
   "source": [
    "median = df.age.median()\n",
    "median"
   ]
  },
  {
   "cell_type": "code",
   "execution_count": 101,
   "metadata": {
    "colab": {
     "base_uri": "https://localhost:8080/",
     "height": 509
    },
    "id": "-dw2VhhBXj_6",
    "outputId": "d2f7fd4e-8dad-493d-9651-e9ca0003f062"
   },
   "outputs": [
    {
     "name": "stdout",
     "output_type": "stream",
     "text": [
      "Age mean: 26.4\n",
      "Age median: 26.0\n"
     ]
    }
   ],
   "source": [
    "print(f'Age mean: {mean.round(2)}\\nAge median: {median}')"
   ]
  },
  {
   "cell_type": "code",
   "execution_count": 102,
   "metadata": {
    "colab": {
     "base_uri": "https://localhost:8080/",
     "height": 423
    },
    "id": "oVjHv7HAPc1j",
    "outputId": "10db50d7-cd0e-4e7e-b5cf-ee1faa87b021"
   },
   "outputs": [
    {
     "data": {
      "image/png": "[encoded data removed]",
      "text/plain": [
       "<Figure size 800x500 with 1 Axes>"
      ]
     },
     "metadata": {},
     "output_type": "display_data"
    }
   ],
   "source": [
    "sns.boxplot(data=df, \n",
    "            x='age',\n",
    "            showmeans=True,\n",
    "            meanprops={\"marker\":\"o\",\n",
    "                       \"markerfacecolor\":\"gold\", \n",
    "                       \"markeredgecolor\":\"white\",\n",
    "                       \"markersize\":\"10\"});"
   ]
  },
  {
   "cell_type": "code",
   "execution_count": 103,
   "metadata": {
    "colab": {
     "base_uri": "https://localhost:8080/"
    },
    "id": "c0Ix5nUnXj9M",
    "outputId": "99e552ba-cc2b-4ed0-8480-bfc3905da01e"
   },
   "outputs": [
    {
     "data": {
      "text/plain": [
       "league\n",
       "Bundesliga   26.000\n",
       "EPL          26.000\n",
       "LaLiga       27.000\n",
       "Ligue1       25.000\n",
       "SerieA       26.000\n",
       "Name: age, dtype: float64"
      ]
     },
     "execution_count": 103,
     "metadata": {},
     "output_type": "execute_result"
    }
   ],
   "source": [
    "df.groupby('league').age.median()"
   ]
  },
  {
   "cell_type": "code",
   "execution_count": 124,
   "metadata": {
    "colab": {
     "base_uri": "https://localhost:8080/",
     "height": 394
    },
    "id": "kVgVy8CqXj6h",
    "outputId": "656605db-5d80-4bf5-8144-7fabe488a7a1",
    "scrolled": true
   },
   "outputs": [
    {
     "data": {
      "image/png": "[encoded data removed]",
      "text/plain": [
       "<Figure size 800x500 with 1 Axes>"
      ]
     },
     "metadata": {},
     "output_type": "display_data"
    }
   ],
   "source": [
    "sns.boxplot(data=df, \n",
    "            x='league', \n",
    "            y='age',\n",
    "            saturation=5,\n",
    "            showmeans=True,\n",
    "            meanprops={\"marker\":\"o\",\n",
    "                       \"markerfacecolor\":\"yellow\", \n",
    "                       \"markeredgecolor\":\"black\",\n",
    "                       \"markersize\":\"10\"});"
   ]
  },
  {
   "cell_type": "markdown",
   "metadata": {},
   "source": [
    "As it appears, average of age is oldest league is LaLiga\n",
    "Ligue1 and Bundeslliga's age average is pretty close but as it appears youngest league is Ligue1"
   ]
  },
  {
   "cell_type": "code",
   "execution_count": null,
   "metadata": {
    "colab": {
     "base_uri": "https://localhost:8080/",
     "height": 394
    },
    "id": "9xVIbOtmXj3w",
    "outputId": "ad4b6848-9119-4afb-a065-19c0030855bb"
   },
   "outputs": [
    {
     "data": {
      "text/html": [
       "\n",
       "  <div id=\"df-326e5f8b-fa6b-4e5f-af12-f54f24f4cc65\">\n",
       "    <div class=\"colab-df-container\">\n",
       "      <div>\n",
       "<style scoped>\n",
       "    .dataframe tbody tr th:only-of-type {\n",
       "        vertical-align: middle;\n",
       "    }\n",
       "\n",
       "    .dataframe tbody tr th {\n",
       "        vertical-align: top;\n",
       "    }\n",
       "\n",
       "    .dataframe thead th {\n",
       "        text-align: right;\n",
       "    }\n",
       "</style>\n",
       "<table border=\"1\" class=\"dataframe\">\n",
       "  <thead>\n",
       "    <tr style=\"text-align: right;\">\n",
       "      <th></th>\n",
       "      <th>name</th>\n",
       "      <th>club</th>\n",
       "    </tr>\n",
       "  </thead>\n",
       "  <tbody>\n",
       "    <tr>\n",
       "      <th>50</th>\n",
       "      <td>Noni Madueke</td>\n",
       "      <td>Chelsea</td>\n",
       "    </tr>\n",
       "    <tr>\n",
       "      <th>51</th>\n",
       "      <td>Hakim Ziyech</td>\n",
       "      <td>Chelsea</td>\n",
       "    </tr>\n",
       "    <tr>\n",
       "      <th>52</th>\n",
       "      <td>João Félix</td>\n",
       "      <td>Chelsea</td>\n",
       "    </tr>\n",
       "    <tr>\n",
       "      <th>53</th>\n",
       "      <td>Armando Broja</td>\n",
       "      <td>Chelsea</td>\n",
       "    </tr>\n",
       "    <tr>\n",
       "      <th>54</th>\n",
       "      <td>David Datro Fofana</td>\n",
       "      <td>Chelsea</td>\n",
       "    </tr>\n",
       "    <tr>\n",
       "      <th>55</th>\n",
       "      <td>Pierre-Emerick Aubameyang</td>\n",
       "      <td>Chelsea</td>\n",
       "    </tr>\n",
       "    <tr>\n",
       "      <th>56</th>\n",
       "      <td>Aaron Ramsdale</td>\n",
       "      <td>Arsenal</td>\n",
       "    </tr>\n",
       "    <tr>\n",
       "      <th>57</th>\n",
       "      <td>Matt Turner</td>\n",
       "      <td>Arsenal</td>\n",
       "    </tr>\n",
       "    <tr>\n",
       "      <th>58</th>\n",
       "      <td>William Saliba</td>\n",
       "      <td>Arsenal</td>\n",
       "    </tr>\n",
       "    <tr>\n",
       "      <th>59</th>\n",
       "      <td>Gabriel Magalhães</td>\n",
       "      <td>Arsenal</td>\n",
       "    </tr>\n",
       "    <tr>\n",
       "      <th>60</th>\n",
       "      <td>Jakub Kiwior</td>\n",
       "      <td>Arsenal</td>\n",
       "    </tr>\n",
       "  </tbody>\n",
       "</table>\n",
       "</div>\n",
       "      <button class=\"colab-df-convert\" onclick=\"convertToInteractive('df-326e5f8b-fa6b-4e5f-af12-f54f24f4cc65')\"\n",
       "              title=\"Convert this dataframe to an interactive table.\"\n",
       "              style=\"display:none;\">\n",
       "        \n",
       "  <svg xmlns=\"http://www.w3.org/2000/svg\" height=\"24px\"viewBox=\"0 0 24 24\"\n",
       "       width=\"24px\">\n",
       "    <path d=\"M0 0h24v24H0V0z\" fill=\"none\"/>\n",
       "    <path d=\"M18.56 5.44l.94 2.06.94-2.06 2.06-.94-2.06-.94-.94-2.06-.94 2.06-2.06.94zm-11 1L8.5 8.5l.94-2.06 2.06-.94-2.06-.94L8.5 2.5l-.94 2.06-2.06.94zm10 10l.94 2.06.94-2.06 2.06-.94-2.06-.94-.94-2.06-.94 2.06-2.06.94z\"/><path d=\"M17.41 7.96l-1.37-1.37c-.4-.4-.92-.59-1.43-.59-.52 0-1.04.2-1.43.59L10.3 9.45l-7.72 7.72c-.78.78-.78 2.05 0 2.83L4 21.41c.39.39.9.59 1.41.59.51 0 1.02-.2 1.41-.59l7.78-7.78 2.81-2.81c.8-.78.8-2.07 0-2.86zM5.41 20L4 18.59l7.72-7.72 1.47 1.35L5.41 20z\"/>\n",
       "  </svg>\n",
       "      </button>\n",
       "      \n",
       "  <style>\n",
       "    .colab-df-container {\n",
       "      display:flex;\n",
       "      flex-wrap:wrap;\n",
       "      gap: 12px;\n",
       "    }\n",
       "\n",
       "    .colab-df-convert {\n",
       "      background-color: #E8F0FE;\n",
       "      border: none;\n",
       "      border-radius: 50%;\n",
       "      cursor: pointer;\n",
       "      display: none;\n",
       "      fill: #1967D2;\n",
       "      height: 32px;\n",
       "      padding: 0 0 0 0;\n",
       "      width: 32px;\n",
       "    }\n",
       "\n",
       "    .colab-df-convert:hover {\n",
       "      background-color: #E2EBFA;\n",
       "      box-shadow: 0px 1px 2px rgba(60, 64, 67, 0.3), 0px 1px 3px 1px rgba(60, 64, 67, 0.15);\n",
       "      fill: #174EA6;\n",
       "    }\n",
       "\n",
       "    [theme=dark] .colab-df-convert {\n",
       "      background-color: #3B4455;\n",
       "      fill: #D2E3FC;\n",
       "    }\n",
       "\n",
       "    [theme=dark] .colab-df-convert:hover {\n",
       "      background-color: #434B5C;\n",
       "      box-shadow: 0px 1px 3px 1px rgba(0, 0, 0, 0.15);\n",
       "      filter: drop-shadow(0px 1px 2px rgba(0, 0, 0, 0.3));\n",
       "      fill: #FFFFFF;\n",
       "    }\n",
       "  </style>\n",
       "\n",
       "      <script>\n",
       "        const buttonEl =\n",
       "          document.querySelector('#df-326e5f8b-fa6b-4e5f-af12-f54f24f4cc65 button.colab-df-convert');\n",
       "        buttonEl.style.display =\n",
       "          google.colab.kernel.accessAllowed ? 'block' : 'none';\n",
       "\n",
       "        async function convertToInteractive(key) {\n",
       "          const element = document.querySelector('#df-326e5f8b-fa6b-4e5f-af12-f54f24f4cc65');\n",
       "          const dataTable =\n",
       "            await google.colab.kernel.invokeFunction('convertToInteractive',\n",
       "                                                     [key], {});\n",
       "          if (!dataTable) return;\n",
       "\n",
       "          const docLinkHtml = 'Like what you see? Visit the ' +\n",
       "            '<a target=\"_blank\" href=https://colab.research.google.com/notebooks/data_table.ipynb>data table notebook</a>'\n",
       "            + ' to learn more about interactive tables.';\n",
       "          element.innerHTML = '';\n",
       "          dataTable['output_type'] = 'display_data';\n",
       "          await google.colab.output.renderOutput(dataTable, element);\n",
       "          const docLink = document.createElement('div');\n",
       "          docLink.innerHTML = docLinkHtml;\n",
       "          element.appendChild(docLink);\n",
       "        }\n",
       "      </script>\n",
       "    </div>\n",
       "  </div>\n",
       "  "
      ],
      "text/plain": [
       "                         name     club\n",
       "50               Noni Madueke  Chelsea\n",
       "51               Hakim Ziyech  Chelsea\n",
       "52                 João Félix  Chelsea\n",
       "53              Armando Broja  Chelsea\n",
       "54         David Datro Fofana  Chelsea\n",
       "55  Pierre-Emerick Aubameyang  Chelsea\n",
       "56             Aaron Ramsdale  Arsenal\n",
       "57                Matt Turner  Arsenal\n",
       "58             William Saliba  Arsenal\n",
       "59          Gabriel Magalhães  Arsenal\n",
       "60               Jakub Kiwior  Arsenal"
      ]
     },
     "execution_count": 19,
     "metadata": {},
     "output_type": "execute_result"
    }
   ],
   "source": [
    "df.loc[50:60][['name', 'club']]"
   ]
  },
  {
   "cell_type": "code",
   "execution_count": 136,
   "metadata": {},
   "outputs": [
    {
     "data": {
      "text/html": [
       "<div>\n",
       "<style scoped>\n",
       "    .dataframe tbody tr th:only-of-type {\n",
       "        vertical-align: middle;\n",
       "    }\n",
       "\n",
       "    .dataframe tbody tr th {\n",
       "        vertical-align: top;\n",
       "    }\n",
       "\n",
       "    .dataframe thead th {\n",
       "        text-align: right;\n",
       "    }\n",
       "</style>\n",
       "<table border=\"1\" class=\"dataframe\">\n",
       "  <thead>\n",
       "    <tr style=\"text-align: right;\">\n",
       "      <th></th>\n",
       "      <th>name</th>\n",
       "      <th>full_name</th>\n",
       "      <th>age</th>\n",
       "      <th>height</th>\n",
       "      <th>nationality</th>\n",
       "      <th>place_of_birth</th>\n",
       "      <th>price</th>\n",
       "      <th>max_price</th>\n",
       "      <th>position</th>\n",
       "      <th>shirt_nr</th>\n",
       "      <th>foot</th>\n",
       "      <th>club</th>\n",
       "      <th>contract_expires</th>\n",
       "      <th>joined_club</th>\n",
       "      <th>player_agent</th>\n",
       "      <th>outfitter</th>\n",
       "      <th>league</th>\n",
       "    </tr>\n",
       "  </thead>\n",
       "  <tbody>\n",
       "    <tr>\n",
       "      <th>0</th>\n",
       "      <td>Ederson</td>\n",
       "      <td>NaN</td>\n",
       "      <td>29</td>\n",
       "      <td>1.880</td>\n",
       "      <td>Brazil  Portugal</td>\n",
       "      <td>Osasco (SP)</td>\n",
       "      <td>45.000</td>\n",
       "      <td>70.000</td>\n",
       "      <td>Goalkeeper</td>\n",
       "      <td>31</td>\n",
       "      <td>left</td>\n",
       "      <td>Man City</td>\n",
       "      <td>2026-06-30</td>\n",
       "      <td>2017-07-01</td>\n",
       "      <td>Gestifute</td>\n",
       "      <td>Puma</td>\n",
       "      <td>EPL</td>\n",
       "    </tr>\n",
       "    <tr>\n",
       "      <th>1</th>\n",
       "      <td>Stefan Ortega</td>\n",
       "      <td>Stefan Ortega Moreno</td>\n",
       "      <td>30</td>\n",
       "      <td>1.850</td>\n",
       "      <td>Germany  Spain</td>\n",
       "      <td>Hofgeismar</td>\n",
       "      <td>6.000</td>\n",
       "      <td>6.000</td>\n",
       "      <td>Goalkeeper</td>\n",
       "      <td>18</td>\n",
       "      <td>right</td>\n",
       "      <td>Man City</td>\n",
       "      <td>2025-06-30</td>\n",
       "      <td>2022-07-01</td>\n",
       "      <td>neblung ...</td>\n",
       "      <td>NaN</td>\n",
       "      <td>EPL</td>\n",
       "    </tr>\n",
       "  </tbody>\n",
       "</table>\n",
       "</div>"
      ],
      "text/plain": [
       "            name             full_name  age  height       nationality  \\\n",
       "0        Ederson                   NaN   29   1.880  Brazil  Portugal   \n",
       "1  Stefan Ortega  Stefan Ortega Moreno   30   1.850    Germany  Spain   \n",
       "\n",
       "  place_of_birth  price  max_price    position  shirt_nr   foot      club  \\\n",
       "0    Osasco (SP) 45.000     70.000  Goalkeeper        31   left  Man City   \n",
       "1     Hofgeismar  6.000      6.000  Goalkeeper        18  right  Man City   \n",
       "\n",
       "  contract_expires joined_club player_agent outfitter league  \n",
       "0       2026-06-30  2017-07-01    Gestifute      Puma    EPL  \n",
       "1       2025-06-30  2022-07-01  neblung ...       NaN    EPL  "
      ]
     },
     "execution_count": 136,
     "metadata": {},
     "output_type": "execute_result"
    }
   ],
   "source": [
    "df.head(2)"
   ]
  },
  {
   "cell_type": "code",
   "execution_count": 139,
   "metadata": {
    "colab": {
     "base_uri": "https://localhost:8080/",
     "height": 363
    },
    "id": "bJuaLXspXj1D",
    "outputId": "88b32411-aef4-48a3-d537-a6335bb14193"
   },
   "outputs": [
    {
     "data": {
      "text/plain": [
       "6"
      ]
     },
     "execution_count": 139,
     "metadata": {},
     "output_type": "execute_result"
    }
   ],
   "source": [
    "df['price'].isnull().sum()"
   ]
  },
  {
   "cell_type": "markdown",
   "metadata": {
    "id": "2jKbnjsNXEwd"
   },
   "source": [
    "**Assign some values to missing values**"
   ]
  },
  {
   "cell_type": "code",
   "execution_count": 21,
   "metadata": {
    "colab": {
     "base_uri": "https://localhost:8080/",
     "height": 817
    },
    "id": "rB8JQgVsQl-v",
    "outputId": "238df311-a48d-4f46-c267-8d024e8984b6"
   },
   "outputs": [],
   "source": [
    "df1 = df.copy()"
   ]
  },
  {
   "cell_type": "code",
   "execution_count": 25,
   "metadata": {
    "colab": {
     "base_uri": "https://localhost:8080/"
    },
    "id": "6w6vI8_eXjtQ",
    "outputId": "acd8676a-29ee-447e-b3ee-d5d9e3892d8c"
   },
   "outputs": [
    {
     "data": {
      "text/plain": [
       "11.51"
      ]
     },
     "execution_count": 25,
     "metadata": {},
     "output_type": "execute_result"
    }
   ],
   "source": [
    "mean_price = df.mean(numeric_only=True)['price'].round(2)\n",
    "mean_price"
   ]
  },
  {
   "cell_type": "code",
   "execution_count": 22,
   "metadata": {
    "id": "lRziVw5fXjqh"
   },
   "outputs": [],
   "source": [
    "def assign_price(df):\n",
    "    age = df['age']\n",
    "    max_price = df['max_price']\n",
    "    price = df['price']\n",
    "    if pd.isnull(price):\n",
    "        if (age > 30) & (max_price > 30.000):\n",
    "            return (mean_price / 2).round(0)\n",
    "        elif (age < 30) & (max_price > 30.000):\n",
    "            return mean_price*2\n",
    "        elif (age > 30) & (max_price < 30.000):\n",
    "            return (mean_price/4).round(0)\n",
    "        elif (age < 30) & (max_price < 30.000):\n",
    "            return mean_price\n",
    "        else:\n",
    "            if age > 30:\n",
    "                return (mean_price / 2).round(0)\n",
    "            else:\n",
    "                return mean_price\n",
    "    else:\n",
    "        return price"
   ]
  },
  {
   "cell_type": "code",
   "execution_count": 23,
   "metadata": {
    "colab": {
     "base_uri": "https://localhost:8080/"
    },
    "id": "xk74HQvkbTdg",
    "outputId": "7fd08e87-7f12-4da5-f04e-8770d1691942"
   },
   "outputs": [
    {
     "data": {
      "text/plain": [
       "6"
      ]
     },
     "execution_count": 23,
     "metadata": {},
     "output_type": "execute_result"
    }
   ],
   "source": [
    "df['price'].isnull().sum()"
   ]
  },
  {
   "cell_type": "code",
   "execution_count": 26,
   "metadata": {
    "colab": {
     "base_uri": "https://localhost:8080/",
     "height": 817
    },
    "id": "QAfAXDV9Xjn6",
    "outputId": "585d513d-e4b5-45ea-8f87-328e86fcd729"
   },
   "outputs": [
    {
     "data": {
      "text/html": [
       "<div>\n",
       "<style scoped>\n",
       "    .dataframe tbody tr th:only-of-type {\n",
       "        vertical-align: middle;\n",
       "    }\n",
       "\n",
       "    .dataframe tbody tr th {\n",
       "        vertical-align: top;\n",
       "    }\n",
       "\n",
       "    .dataframe thead th {\n",
       "        text-align: right;\n",
       "    }\n",
       "</style>\n",
       "<table border=\"1\" class=\"dataframe\">\n",
       "  <thead>\n",
       "    <tr style=\"text-align: right;\">\n",
       "      <th></th>\n",
       "      <th>name</th>\n",
       "      <th>full_name</th>\n",
       "      <th>age</th>\n",
       "      <th>height</th>\n",
       "      <th>nationality</th>\n",
       "      <th>place_of_birth</th>\n",
       "      <th>price</th>\n",
       "      <th>max_price</th>\n",
       "      <th>position</th>\n",
       "      <th>shirt_nr</th>\n",
       "      <th>foot</th>\n",
       "      <th>club</th>\n",
       "      <th>contract_expires</th>\n",
       "      <th>joined_club</th>\n",
       "      <th>player_agent</th>\n",
       "      <th>outfitter</th>\n",
       "      <th>league</th>\n",
       "    </tr>\n",
       "  </thead>\n",
       "  <tbody>\n",
       "    <tr>\n",
       "      <th>0</th>\n",
       "      <td>Ederson</td>\n",
       "      <td>NaN</td>\n",
       "      <td>29</td>\n",
       "      <td>1.880</td>\n",
       "      <td>Brazil  Portugal</td>\n",
       "      <td>Osasco (SP)</td>\n",
       "      <td>45.000</td>\n",
       "      <td>70.000</td>\n",
       "      <td>Goalkeeper</td>\n",
       "      <td>31</td>\n",
       "      <td>left</td>\n",
       "      <td>Man City</td>\n",
       "      <td>2026-06-30</td>\n",
       "      <td>2017-07-01</td>\n",
       "      <td>Gestifute</td>\n",
       "      <td>Puma</td>\n",
       "      <td>EPL</td>\n",
       "    </tr>\n",
       "    <tr>\n",
       "      <th>1</th>\n",
       "      <td>Stefan Ortega</td>\n",
       "      <td>Stefan Ortega Moreno</td>\n",
       "      <td>30</td>\n",
       "      <td>1.850</td>\n",
       "      <td>Germany  Spain</td>\n",
       "      <td>Hofgeismar</td>\n",
       "      <td>6.000</td>\n",
       "      <td>6.000</td>\n",
       "      <td>Goalkeeper</td>\n",
       "      <td>18</td>\n",
       "      <td>right</td>\n",
       "      <td>Man City</td>\n",
       "      <td>2025-06-30</td>\n",
       "      <td>2022-07-01</td>\n",
       "      <td>neblung ...</td>\n",
       "      <td>NaN</td>\n",
       "      <td>EPL</td>\n",
       "    </tr>\n",
       "    <tr>\n",
       "      <th>2</th>\n",
       "      <td>Scott Carson</td>\n",
       "      <td>Scott Paul Carson</td>\n",
       "      <td>37</td>\n",
       "      <td>1.880</td>\n",
       "      <td>England</td>\n",
       "      <td>Whitehaven</td>\n",
       "      <td>0.250</td>\n",
       "      <td>6.000</td>\n",
       "      <td>Goalkeeper</td>\n",
       "      <td>33</td>\n",
       "      <td>right</td>\n",
       "      <td>Man City</td>\n",
       "      <td>2023-06-30</td>\n",
       "      <td>2021-07-20</td>\n",
       "      <td>Wasserman</td>\n",
       "      <td>Puma</td>\n",
       "      <td>EPL</td>\n",
       "    </tr>\n",
       "    <tr>\n",
       "      <th>3</th>\n",
       "      <td>Rúben Dias</td>\n",
       "      <td>Rúben Santos Gato Alves Dias</td>\n",
       "      <td>26</td>\n",
       "      <td>1.870</td>\n",
       "      <td>Portugal</td>\n",
       "      <td>Amadora</td>\n",
       "      <td>75.000</td>\n",
       "      <td>75.000</td>\n",
       "      <td>Defender - Centre-Back</td>\n",
       "      <td>3</td>\n",
       "      <td>right</td>\n",
       "      <td>Man City</td>\n",
       "      <td>2027-06-30</td>\n",
       "      <td>2020-09-29</td>\n",
       "      <td>Gestifute</td>\n",
       "      <td>Nike</td>\n",
       "      <td>EPL</td>\n",
       "    </tr>\n",
       "    <tr>\n",
       "      <th>4</th>\n",
       "      <td>Nathan Aké</td>\n",
       "      <td>Nathan Benjamin Aké</td>\n",
       "      <td>28</td>\n",
       "      <td>1.800</td>\n",
       "      <td>Netherlands  Cote d'Ivoire</td>\n",
       "      <td>Den Haag</td>\n",
       "      <td>35.000</td>\n",
       "      <td>40.000</td>\n",
       "      <td>Defender - Centre-Back</td>\n",
       "      <td>6</td>\n",
       "      <td>left</td>\n",
       "      <td>Man City</td>\n",
       "      <td>2025-06-30</td>\n",
       "      <td>2020-08-05</td>\n",
       "      <td>Wasserman</td>\n",
       "      <td>Nike</td>\n",
       "      <td>EPL</td>\n",
       "    </tr>\n",
       "    <tr>\n",
       "      <th>...</th>\n",
       "      <td>...</td>\n",
       "      <td>...</td>\n",
       "      <td>...</td>\n",
       "      <td>...</td>\n",
       "      <td>...</td>\n",
       "      <td>...</td>\n",
       "      <td>...</td>\n",
       "      <td>...</td>\n",
       "      <td>...</td>\n",
       "      <td>...</td>\n",
       "      <td>...</td>\n",
       "      <td>...</td>\n",
       "      <td>...</td>\n",
       "      <td>...</td>\n",
       "      <td>...</td>\n",
       "      <td>...</td>\n",
       "      <td>...</td>\n",
       "    </tr>\n",
       "    <tr>\n",
       "      <th>2209</th>\n",
       "      <td>Ibrahima Niane</td>\n",
       "      <td>NaN</td>\n",
       "      <td>24</td>\n",
       "      <td>1.870</td>\n",
       "      <td>Senegal  France</td>\n",
       "      <td>M'bour</td>\n",
       "      <td>3.500</td>\n",
       "      <td>9.000</td>\n",
       "      <td>Attack - Centre-Forward</td>\n",
       "      <td>7</td>\n",
       "      <td>right</td>\n",
       "      <td>Angers SCO</td>\n",
       "      <td>2023-06-30</td>\n",
       "      <td>2023-01-31</td>\n",
       "      <td>World Elites</td>\n",
       "      <td>NaN</td>\n",
       "      <td>Ligue1</td>\n",
       "    </tr>\n",
       "    <tr>\n",
       "      <th>2210</th>\n",
       "      <td>Adrien Hunou</td>\n",
       "      <td>NaN</td>\n",
       "      <td>29</td>\n",
       "      <td>1.790</td>\n",
       "      <td>France  Poland</td>\n",
       "      <td>Évry</td>\n",
       "      <td>2.800</td>\n",
       "      <td>6.000</td>\n",
       "      <td>Attack - Centre-Forward</td>\n",
       "      <td>23</td>\n",
       "      <td>right</td>\n",
       "      <td>Angers SCO</td>\n",
       "      <td>2025-06-30</td>\n",
       "      <td>2022-07-01</td>\n",
       "      <td>NaN</td>\n",
       "      <td>NaN</td>\n",
       "      <td>Ligue1</td>\n",
       "    </tr>\n",
       "    <tr>\n",
       "      <th>2211</th>\n",
       "      <td>Amine Salama</td>\n",
       "      <td>NaN</td>\n",
       "      <td>22</td>\n",
       "      <td>1.920</td>\n",
       "      <td>France  Morocco</td>\n",
       "      <td>Paris</td>\n",
       "      <td>1.800</td>\n",
       "      <td>1.800</td>\n",
       "      <td>Attack - Centre-Forward</td>\n",
       "      <td>11</td>\n",
       "      <td>right</td>\n",
       "      <td>Angers SCO</td>\n",
       "      <td>2026-06-30</td>\n",
       "      <td>2022-07-01</td>\n",
       "      <td>AIS SPORT SERVICE</td>\n",
       "      <td>NaN</td>\n",
       "      <td>Ligue1</td>\n",
       "    </tr>\n",
       "    <tr>\n",
       "      <th>2212</th>\n",
       "      <td>Loïs Diony</td>\n",
       "      <td>NaN</td>\n",
       "      <td>30</td>\n",
       "      <td>1.830</td>\n",
       "      <td>France  Martinique</td>\n",
       "      <td>Mont-de-Marsan</td>\n",
       "      <td>1.000</td>\n",
       "      <td>6.000</td>\n",
       "      <td>Attack - Centre-Forward</td>\n",
       "      <td>9</td>\n",
       "      <td>right</td>\n",
       "      <td>Angers SCO</td>\n",
       "      <td>2023-06-30</td>\n",
       "      <td>2020-09-10</td>\n",
       "      <td>LB SPORT &amp; ...</td>\n",
       "      <td>NaN</td>\n",
       "      <td>Ligue1</td>\n",
       "    </tr>\n",
       "    <tr>\n",
       "      <th>2213</th>\n",
       "      <td>Ulrick Eneme-Ella</td>\n",
       "      <td>Ulrick Brad Eneme-Ella</td>\n",
       "      <td>21</td>\n",
       "      <td>1.840</td>\n",
       "      <td>Gabon  France</td>\n",
       "      <td>Sens</td>\n",
       "      <td>0.250</td>\n",
       "      <td>0.300</td>\n",
       "      <td>Attack - Centre-Forward</td>\n",
       "      <td>20</td>\n",
       "      <td>right</td>\n",
       "      <td>Angers SCO</td>\n",
       "      <td>2025-06-30</td>\n",
       "      <td>2022-07-01</td>\n",
       "      <td>Cracksman</td>\n",
       "      <td>NaN</td>\n",
       "      <td>Ligue1</td>\n",
       "    </tr>\n",
       "  </tbody>\n",
       "</table>\n",
       "<p>2214 rows × 17 columns</p>\n",
       "</div>"
      ],
      "text/plain": [
       "                   name                     full_name  age  height  \\\n",
       "0               Ederson                           NaN   29   1.880   \n",
       "1         Stefan Ortega          Stefan Ortega Moreno   30   1.850   \n",
       "2          Scott Carson             Scott Paul Carson   37   1.880   \n",
       "3            Rúben Dias  Rúben Santos Gato Alves Dias   26   1.870   \n",
       "4            Nathan Aké           Nathan Benjamin Aké   28   1.800   \n",
       "...                 ...                           ...  ...     ...   \n",
       "2209     Ibrahima Niane                           NaN   24   1.870   \n",
       "2210       Adrien Hunou                           NaN   29   1.790   \n",
       "2211       Amine Salama                           NaN   22   1.920   \n",
       "2212         Loïs Diony                           NaN   30   1.830   \n",
       "2213  Ulrick Eneme-Ella        Ulrick Brad Eneme-Ella   21   1.840   \n",
       "\n",
       "                     nationality  place_of_birth  price  max_price  \\\n",
       "0               Brazil  Portugal     Osasco (SP) 45.000     70.000   \n",
       "1                 Germany  Spain      Hofgeismar  6.000      6.000   \n",
       "2                        England      Whitehaven  0.250      6.000   \n",
       "3                       Portugal         Amadora 75.000     75.000   \n",
       "4     Netherlands  Cote d'Ivoire        Den Haag 35.000     40.000   \n",
       "...                          ...             ...    ...        ...   \n",
       "2209             Senegal  France          M'bour  3.500      9.000   \n",
       "2210              France  Poland            Évry  2.800      6.000   \n",
       "2211             France  Morocco           Paris  1.800      1.800   \n",
       "2212          France  Martinique  Mont-de-Marsan  1.000      6.000   \n",
       "2213               Gabon  France            Sens  0.250      0.300   \n",
       "\n",
       "                     position  shirt_nr   foot        club contract_expires  \\\n",
       "0                  Goalkeeper        31   left    Man City       2026-06-30   \n",
       "1                  Goalkeeper        18  right    Man City       2025-06-30   \n",
       "2                  Goalkeeper        33  right    Man City       2023-06-30   \n",
       "3      Defender - Centre-Back         3  right    Man City       2027-06-30   \n",
       "4      Defender - Centre-Back         6   left    Man City       2025-06-30   \n",
       "...                       ...       ...    ...         ...              ...   \n",
       "2209  Attack - Centre-Forward         7  right  Angers SCO       2023-06-30   \n",
       "2210  Attack - Centre-Forward        23  right  Angers SCO       2025-06-30   \n",
       "2211  Attack - Centre-Forward        11  right  Angers SCO       2026-06-30   \n",
       "2212  Attack - Centre-Forward         9  right  Angers SCO       2023-06-30   \n",
       "2213  Attack - Centre-Forward        20  right  Angers SCO       2025-06-30   \n",
       "\n",
       "     joined_club       player_agent outfitter  league  \n",
       "0     2017-07-01          Gestifute      Puma     EPL  \n",
       "1     2022-07-01        neblung ...       NaN     EPL  \n",
       "2     2021-07-20          Wasserman      Puma     EPL  \n",
       "3     2020-09-29          Gestifute      Nike     EPL  \n",
       "4     2020-08-05          Wasserman      Nike     EPL  \n",
       "...          ...                ...       ...     ...  \n",
       "2209  2023-01-31       World Elites       NaN  Ligue1  \n",
       "2210  2022-07-01                NaN       NaN  Ligue1  \n",
       "2211  2022-07-01  AIS SPORT SERVICE       NaN  Ligue1  \n",
       "2212  2020-09-10     LB SPORT & ...       NaN  Ligue1  \n",
       "2213  2022-07-01          Cracksman       NaN  Ligue1  \n",
       "\n",
       "[2214 rows x 17 columns]"
      ]
     },
     "execution_count": 26,
     "metadata": {},
     "output_type": "execute_result"
    }
   ],
   "source": [
    "df['price'] = df.apply(assign_price,axis=1)\n",
    "df"
   ]
  },
  {
   "cell_type": "code",
   "execution_count": 27,
   "metadata": {},
   "outputs": [
    {
     "data": {
      "text/plain": [
       "0"
      ]
     },
     "execution_count": 27,
     "metadata": {},
     "output_type": "execute_result"
    }
   ],
   "source": [
    "df['price'].isnull().sum()"
   ]
  },
  {
   "cell_type": "code",
   "execution_count": 28,
   "metadata": {
    "colab": {
     "base_uri": "https://localhost:8080/"
    },
    "id": "bE9WyDcZXxnX",
    "outputId": "61aafcc8-320b-486f-8c94-b01d83085b7e"
   },
   "outputs": [
    {
     "name": "stdout",
     "output_type": "stream",
     "text": [
      "<class 'pandas.core.frame.DataFrame'>\n",
      "RangeIndex: 2214 entries, 0 to 2213\n",
      "Data columns (total 2 columns):\n",
      " #   Column  Non-Null Count  Dtype  \n",
      "---  ------  --------------  -----  \n",
      " 0   name    2214 non-null   object \n",
      " 1   price   2214 non-null   float64\n",
      "dtypes: float64(1), object(1)\n",
      "memory usage: 34.7+ KB\n"
     ]
    }
   ],
   "source": [
    "df[['name', 'price']].info()"
   ]
  },
  {
   "cell_type": "markdown",
   "metadata": {},
   "source": [
    "In above, I defined a function named of assign_price to fill missing values. I use that function df2 which is copy of df."
   ]
  },
  {
   "cell_type": "code",
   "execution_count": 29,
   "metadata": {},
   "outputs": [
    {
     "data": {
      "text/plain": [
       "3"
      ]
     },
     "execution_count": 29,
     "metadata": {},
     "output_type": "execute_result"
    }
   ],
   "source": [
    "df['max_price'].isnull().sum()"
   ]
  },
  {
   "cell_type": "code",
   "execution_count": 30,
   "metadata": {
    "colab": {
     "base_uri": "https://localhost:8080/"
    },
    "id": "bXaOdALLTDwi",
    "outputId": "31621443-d8cc-4dbd-dece-4f5a1fce25ad"
   },
   "outputs": [
    {
     "name": "stdout",
     "output_type": "stream",
     "text": [
      "<class 'pandas.core.frame.DataFrame'>\n",
      "RangeIndex: 2214 entries, 0 to 2213\n",
      "Data columns (total 3 columns):\n",
      " #   Column     Non-Null Count  Dtype  \n",
      "---  ------     --------------  -----  \n",
      " 0   name       2214 non-null   object \n",
      " 1   price      2214 non-null   float64\n",
      " 2   max_price  2211 non-null   float64\n",
      "dtypes: float64(2), object(1)\n",
      "memory usage: 52.0+ KB\n"
     ]
    }
   ],
   "source": [
    "df[['name', 'price', 'max_price']].info()"
   ]
  },
  {
   "cell_type": "code",
   "execution_count": 31,
   "metadata": {
    "id": "CPk_PeOYXjie"
   },
   "outputs": [],
   "source": [
    "def assign_max_price(df):\n",
    "    max_price = df['max_price']\n",
    "    price = df['price']\n",
    "    age = df['age']\n",
    "    if pd.isnull(max_price):\n",
    "        if age > 35:\n",
    "            return (price * 2)\n",
    "        else:\n",
    "            return (price + 10)\n",
    "    else:\n",
    "        return max_price"
   ]
  },
  {
   "cell_type": "code",
   "execution_count": 32,
   "metadata": {
    "id": "x8Z9Jop7Xjf2"
   },
   "outputs": [
    {
     "data": {
      "text/plain": [
       "0      70.000\n",
       "1       6.000\n",
       "2       6.000\n",
       "3      75.000\n",
       "4      40.000\n",
       "        ...  \n",
       "2209    9.000\n",
       "2210    6.000\n",
       "2211    1.800\n",
       "2212    6.000\n",
       "2213    0.300\n",
       "Name: max_price, Length: 2214, dtype: float64"
      ]
     },
     "execution_count": 32,
     "metadata": {},
     "output_type": "execute_result"
    }
   ],
   "source": [
    "df['max_price'] = df['max_price'].fillna(df2.groupby(['league', 'age']).max_price.transform(\"mean\"))\n",
    "df['max_price']"
   ]
  },
  {
   "cell_type": "code",
   "execution_count": 34,
   "metadata": {
    "colab": {
     "base_uri": "https://localhost:8080/"
    },
    "id": "cYa05xDOXjdC",
    "outputId": "4bd0b818-7f0a-4c11-8bb9-cdec3e87c651"
   },
   "outputs": [
    {
     "name": "stdout",
     "output_type": "stream",
     "text": [
      "<class 'pandas.core.frame.DataFrame'>\n",
      "RangeIndex: 2214 entries, 0 to 2213\n",
      "Data columns (total 3 columns):\n",
      " #   Column     Non-Null Count  Dtype  \n",
      "---  ------     --------------  -----  \n",
      " 0   name       2214 non-null   object \n",
      " 1   price      2214 non-null   float64\n",
      " 2   max_price  2214 non-null   float64\n",
      "dtypes: float64(2), object(1)\n",
      "memory usage: 52.0+ KB\n"
     ]
    }
   ],
   "source": [
    "df[['name', 'price','max_price']].info()"
   ]
  },
  {
   "cell_type": "markdown",
   "metadata": {},
   "source": [
    "In above, I fill missing values in max_price columns by groupby league and age than I get mean"
   ]
  },
  {
   "cell_type": "code",
   "execution_count": 35,
   "metadata": {},
   "outputs": [
    {
     "data": {
      "text/plain": [
       "name                   0\n",
       "full_name            912\n",
       "age                    0\n",
       "height                 4\n",
       "nationality            0\n",
       "place_of_birth        11\n",
       "price                  0\n",
       "max_price              0\n",
       "position               0\n",
       "shirt_nr               0\n",
       "foot                  25\n",
       "club                   0\n",
       "contract_expires      47\n",
       "joined_club            0\n",
       "player_agent         218\n",
       "outfitter           1316\n",
       "league                 0\n",
       "dtype: int64"
      ]
     },
     "execution_count": 35,
     "metadata": {},
     "output_type": "execute_result"
    }
   ],
   "source": [
    "df.isnull().sum()"
   ]
  },
  {
   "cell_type": "code",
   "execution_count": 36,
   "metadata": {},
   "outputs": [],
   "source": [
    "df['full_name'].fillna('-',inplace=True)"
   ]
  },
  {
   "cell_type": "code",
   "execution_count": 37,
   "metadata": {
    "id": "Am0Gpp_rXjab"
   },
   "outputs": [],
   "source": [
    "df['player_agent'].fillna('No-Agent',inplace=True)"
   ]
  },
  {
   "cell_type": "code",
   "execution_count": 38,
   "metadata": {},
   "outputs": [],
   "source": [
    "df['height'].fillna(df2.groupby('league').height.transform(np.mean), inplace=True)"
   ]
  },
  {
   "cell_type": "code",
   "execution_count": 39,
   "metadata": {},
   "outputs": [
    {
     "data": {
      "text/plain": [
       "array(['EPL', 'Bundesliga', 'SerieA', 'LaLiga', 'Ligue1'], dtype=object)"
      ]
     },
     "execution_count": 39,
     "metadata": {},
     "output_type": "execute_result"
    }
   ],
   "source": [
    "df['league'].unique()"
   ]
  },
  {
   "cell_type": "code",
   "execution_count": 40,
   "metadata": {},
   "outputs": [],
   "source": [
    "def assign_outfitter(df):\n",
    "    league = df['league']\n",
    "    outfitter = df['outfitter']\n",
    "    if pd.isnull(outfitter):\n",
    "        if league == 'EPL':\n",
    "            return 'Adidas'\n",
    "        elif league == 'LaLiga':\n",
    "            return 'Nike'\n",
    "        elif league == 'Ligue1':\n",
    "            return 'Puma'\n",
    "        elif league == 'SerieA':\n",
    "            return 'Lescon'\n",
    "        elif league == 'Bundesliga':\n",
    "            return 'Adidas'\n",
    "    else:\n",
    "        return outfitter"
   ]
  },
  {
   "cell_type": "code",
   "execution_count": 41,
   "metadata": {
    "scrolled": true
   },
   "outputs": [
    {
     "data": {
      "text/html": [
       "<div>\n",
       "<style scoped>\n",
       "    .dataframe tbody tr th:only-of-type {\n",
       "        vertical-align: middle;\n",
       "    }\n",
       "\n",
       "    .dataframe tbody tr th {\n",
       "        vertical-align: top;\n",
       "    }\n",
       "\n",
       "    .dataframe thead th {\n",
       "        text-align: right;\n",
       "    }\n",
       "</style>\n",
       "<table border=\"1\" class=\"dataframe\">\n",
       "  <thead>\n",
       "    <tr style=\"text-align: right;\">\n",
       "      <th></th>\n",
       "      <th>name</th>\n",
       "      <th>full_name</th>\n",
       "      <th>age</th>\n",
       "      <th>height</th>\n",
       "      <th>nationality</th>\n",
       "      <th>place_of_birth</th>\n",
       "      <th>price</th>\n",
       "      <th>max_price</th>\n",
       "      <th>position</th>\n",
       "      <th>shirt_nr</th>\n",
       "      <th>foot</th>\n",
       "      <th>club</th>\n",
       "      <th>contract_expires</th>\n",
       "      <th>joined_club</th>\n",
       "      <th>player_agent</th>\n",
       "      <th>outfitter</th>\n",
       "      <th>league</th>\n",
       "    </tr>\n",
       "  </thead>\n",
       "  <tbody>\n",
       "    <tr>\n",
       "      <th>0</th>\n",
       "      <td>Ederson</td>\n",
       "      <td>-</td>\n",
       "      <td>29</td>\n",
       "      <td>1.880</td>\n",
       "      <td>Brazil  Portugal</td>\n",
       "      <td>Osasco (SP)</td>\n",
       "      <td>45.000</td>\n",
       "      <td>70.000</td>\n",
       "      <td>Goalkeeper</td>\n",
       "      <td>31</td>\n",
       "      <td>left</td>\n",
       "      <td>Man City</td>\n",
       "      <td>2026-06-30</td>\n",
       "      <td>2017-07-01</td>\n",
       "      <td>Gestifute</td>\n",
       "      <td>Puma</td>\n",
       "      <td>EPL</td>\n",
       "    </tr>\n",
       "    <tr>\n",
       "      <th>1</th>\n",
       "      <td>Stefan Ortega</td>\n",
       "      <td>Stefan Ortega Moreno</td>\n",
       "      <td>30</td>\n",
       "      <td>1.850</td>\n",
       "      <td>Germany  Spain</td>\n",
       "      <td>Hofgeismar</td>\n",
       "      <td>6.000</td>\n",
       "      <td>6.000</td>\n",
       "      <td>Goalkeeper</td>\n",
       "      <td>18</td>\n",
       "      <td>right</td>\n",
       "      <td>Man City</td>\n",
       "      <td>2025-06-30</td>\n",
       "      <td>2022-07-01</td>\n",
       "      <td>neblung ...</td>\n",
       "      <td>Adidas</td>\n",
       "      <td>EPL</td>\n",
       "    </tr>\n",
       "    <tr>\n",
       "      <th>2</th>\n",
       "      <td>Scott Carson</td>\n",
       "      <td>Scott Paul Carson</td>\n",
       "      <td>37</td>\n",
       "      <td>1.880</td>\n",
       "      <td>England</td>\n",
       "      <td>Whitehaven</td>\n",
       "      <td>0.250</td>\n",
       "      <td>6.000</td>\n",
       "      <td>Goalkeeper</td>\n",
       "      <td>33</td>\n",
       "      <td>right</td>\n",
       "      <td>Man City</td>\n",
       "      <td>2023-06-30</td>\n",
       "      <td>2021-07-20</td>\n",
       "      <td>Wasserman</td>\n",
       "      <td>Puma</td>\n",
       "      <td>EPL</td>\n",
       "    </tr>\n",
       "    <tr>\n",
       "      <th>3</th>\n",
       "      <td>Rúben Dias</td>\n",
       "      <td>Rúben Santos Gato Alves Dias</td>\n",
       "      <td>26</td>\n",
       "      <td>1.870</td>\n",
       "      <td>Portugal</td>\n",
       "      <td>Amadora</td>\n",
       "      <td>75.000</td>\n",
       "      <td>75.000</td>\n",
       "      <td>Defender - Centre-Back</td>\n",
       "      <td>3</td>\n",
       "      <td>right</td>\n",
       "      <td>Man City</td>\n",
       "      <td>2027-06-30</td>\n",
       "      <td>2020-09-29</td>\n",
       "      <td>Gestifute</td>\n",
       "      <td>Nike</td>\n",
       "      <td>EPL</td>\n",
       "    </tr>\n",
       "    <tr>\n",
       "      <th>4</th>\n",
       "      <td>Nathan Aké</td>\n",
       "      <td>Nathan Benjamin Aké</td>\n",
       "      <td>28</td>\n",
       "      <td>1.800</td>\n",
       "      <td>Netherlands  Cote d'Ivoire</td>\n",
       "      <td>Den Haag</td>\n",
       "      <td>35.000</td>\n",
       "      <td>40.000</td>\n",
       "      <td>Defender - Centre-Back</td>\n",
       "      <td>6</td>\n",
       "      <td>left</td>\n",
       "      <td>Man City</td>\n",
       "      <td>2025-06-30</td>\n",
       "      <td>2020-08-05</td>\n",
       "      <td>Wasserman</td>\n",
       "      <td>Nike</td>\n",
       "      <td>EPL</td>\n",
       "    </tr>\n",
       "    <tr>\n",
       "      <th>...</th>\n",
       "      <td>...</td>\n",
       "      <td>...</td>\n",
       "      <td>...</td>\n",
       "      <td>...</td>\n",
       "      <td>...</td>\n",
       "      <td>...</td>\n",
       "      <td>...</td>\n",
       "      <td>...</td>\n",
       "      <td>...</td>\n",
       "      <td>...</td>\n",
       "      <td>...</td>\n",
       "      <td>...</td>\n",
       "      <td>...</td>\n",
       "      <td>...</td>\n",
       "      <td>...</td>\n",
       "      <td>...</td>\n",
       "      <td>...</td>\n",
       "    </tr>\n",
       "    <tr>\n",
       "      <th>2209</th>\n",
       "      <td>Ibrahima Niane</td>\n",
       "      <td>-</td>\n",
       "      <td>24</td>\n",
       "      <td>1.870</td>\n",
       "      <td>Senegal  France</td>\n",
       "      <td>M'bour</td>\n",
       "      <td>3.500</td>\n",
       "      <td>9.000</td>\n",
       "      <td>Attack - Centre-Forward</td>\n",
       "      <td>7</td>\n",
       "      <td>right</td>\n",
       "      <td>Angers SCO</td>\n",
       "      <td>2023-06-30</td>\n",
       "      <td>2023-01-31</td>\n",
       "      <td>World Elites</td>\n",
       "      <td>Puma</td>\n",
       "      <td>Ligue1</td>\n",
       "    </tr>\n",
       "    <tr>\n",
       "      <th>2210</th>\n",
       "      <td>Adrien Hunou</td>\n",
       "      <td>-</td>\n",
       "      <td>29</td>\n",
       "      <td>1.790</td>\n",
       "      <td>France  Poland</td>\n",
       "      <td>Évry</td>\n",
       "      <td>2.800</td>\n",
       "      <td>6.000</td>\n",
       "      <td>Attack - Centre-Forward</td>\n",
       "      <td>23</td>\n",
       "      <td>right</td>\n",
       "      <td>Angers SCO</td>\n",
       "      <td>2025-06-30</td>\n",
       "      <td>2022-07-01</td>\n",
       "      <td>No-Agent</td>\n",
       "      <td>Puma</td>\n",
       "      <td>Ligue1</td>\n",
       "    </tr>\n",
       "    <tr>\n",
       "      <th>2211</th>\n",
       "      <td>Amine Salama</td>\n",
       "      <td>-</td>\n",
       "      <td>22</td>\n",
       "      <td>1.920</td>\n",
       "      <td>France  Morocco</td>\n",
       "      <td>Paris</td>\n",
       "      <td>1.800</td>\n",
       "      <td>1.800</td>\n",
       "      <td>Attack - Centre-Forward</td>\n",
       "      <td>11</td>\n",
       "      <td>right</td>\n",
       "      <td>Angers SCO</td>\n",
       "      <td>2026-06-30</td>\n",
       "      <td>2022-07-01</td>\n",
       "      <td>AIS SPORT SERVICE</td>\n",
       "      <td>Puma</td>\n",
       "      <td>Ligue1</td>\n",
       "    </tr>\n",
       "    <tr>\n",
       "      <th>2212</th>\n",
       "      <td>Loïs Diony</td>\n",
       "      <td>-</td>\n",
       "      <td>30</td>\n",
       "      <td>1.830</td>\n",
       "      <td>France  Martinique</td>\n",
       "      <td>Mont-de-Marsan</td>\n",
       "      <td>1.000</td>\n",
       "      <td>6.000</td>\n",
       "      <td>Attack - Centre-Forward</td>\n",
       "      <td>9</td>\n",
       "      <td>right</td>\n",
       "      <td>Angers SCO</td>\n",
       "      <td>2023-06-30</td>\n",
       "      <td>2020-09-10</td>\n",
       "      <td>LB SPORT &amp; ...</td>\n",
       "      <td>Puma</td>\n",
       "      <td>Ligue1</td>\n",
       "    </tr>\n",
       "    <tr>\n",
       "      <th>2213</th>\n",
       "      <td>Ulrick Eneme-Ella</td>\n",
       "      <td>Ulrick Brad Eneme-Ella</td>\n",
       "      <td>21</td>\n",
       "      <td>1.840</td>\n",
       "      <td>Gabon  France</td>\n",
       "      <td>Sens</td>\n",
       "      <td>0.250</td>\n",
       "      <td>0.300</td>\n",
       "      <td>Attack - Centre-Forward</td>\n",
       "      <td>20</td>\n",
       "      <td>right</td>\n",
       "      <td>Angers SCO</td>\n",
       "      <td>2025-06-30</td>\n",
       "      <td>2022-07-01</td>\n",
       "      <td>Cracksman</td>\n",
       "      <td>Puma</td>\n",
       "      <td>Ligue1</td>\n",
       "    </tr>\n",
       "  </tbody>\n",
       "</table>\n",
       "<p>2214 rows × 17 columns</p>\n",
       "</div>"
      ],
      "text/plain": [
       "                   name                     full_name  age  height  \\\n",
       "0               Ederson                             -   29   1.880   \n",
       "1         Stefan Ortega          Stefan Ortega Moreno   30   1.850   \n",
       "2          Scott Carson             Scott Paul Carson   37   1.880   \n",
       "3            Rúben Dias  Rúben Santos Gato Alves Dias   26   1.870   \n",
       "4            Nathan Aké           Nathan Benjamin Aké   28   1.800   \n",
       "...                 ...                           ...  ...     ...   \n",
       "2209     Ibrahima Niane                             -   24   1.870   \n",
       "2210       Adrien Hunou                             -   29   1.790   \n",
       "2211       Amine Salama                             -   22   1.920   \n",
       "2212         Loïs Diony                             -   30   1.830   \n",
       "2213  Ulrick Eneme-Ella        Ulrick Brad Eneme-Ella   21   1.840   \n",
       "\n",
       "                     nationality  place_of_birth  price  max_price  \\\n",
       "0               Brazil  Portugal     Osasco (SP) 45.000     70.000   \n",
       "1                 Germany  Spain      Hofgeismar  6.000      6.000   \n",
       "2                        England      Whitehaven  0.250      6.000   \n",
       "3                       Portugal         Amadora 75.000     75.000   \n",
       "4     Netherlands  Cote d'Ivoire        Den Haag 35.000     40.000   \n",
       "...                          ...             ...    ...        ...   \n",
       "2209             Senegal  France          M'bour  3.500      9.000   \n",
       "2210              France  Poland            Évry  2.800      6.000   \n",
       "2211             France  Morocco           Paris  1.800      1.800   \n",
       "2212          France  Martinique  Mont-de-Marsan  1.000      6.000   \n",
       "2213               Gabon  France            Sens  0.250      0.300   \n",
       "\n",
       "                     position  shirt_nr   foot        club contract_expires  \\\n",
       "0                  Goalkeeper        31   left    Man City       2026-06-30   \n",
       "1                  Goalkeeper        18  right    Man City       2025-06-30   \n",
       "2                  Goalkeeper        33  right    Man City       2023-06-30   \n",
       "3      Defender - Centre-Back         3  right    Man City       2027-06-30   \n",
       "4      Defender - Centre-Back         6   left    Man City       2025-06-30   \n",
       "...                       ...       ...    ...         ...              ...   \n",
       "2209  Attack - Centre-Forward         7  right  Angers SCO       2023-06-30   \n",
       "2210  Attack - Centre-Forward        23  right  Angers SCO       2025-06-30   \n",
       "2211  Attack - Centre-Forward        11  right  Angers SCO       2026-06-30   \n",
       "2212  Attack - Centre-Forward         9  right  Angers SCO       2023-06-30   \n",
       "2213  Attack - Centre-Forward        20  right  Angers SCO       2025-06-30   \n",
       "\n",
       "     joined_club       player_agent outfitter  league  \n",
       "0     2017-07-01          Gestifute      Puma     EPL  \n",
       "1     2022-07-01        neblung ...    Adidas     EPL  \n",
       "2     2021-07-20          Wasserman      Puma     EPL  \n",
       "3     2020-09-29          Gestifute      Nike     EPL  \n",
       "4     2020-08-05          Wasserman      Nike     EPL  \n",
       "...          ...                ...       ...     ...  \n",
       "2209  2023-01-31       World Elites      Puma  Ligue1  \n",
       "2210  2022-07-01           No-Agent      Puma  Ligue1  \n",
       "2211  2022-07-01  AIS SPORT SERVICE      Puma  Ligue1  \n",
       "2212  2020-09-10     LB SPORT & ...      Puma  Ligue1  \n",
       "2213  2022-07-01          Cracksman      Puma  Ligue1  \n",
       "\n",
       "[2214 rows x 17 columns]"
      ]
     },
     "execution_count": 41,
     "metadata": {},
     "output_type": "execute_result"
    }
   ],
   "source": [
    "df['outfitter'] = df.apply(assign_outfitter,axis=1)\n",
    "df"
   ]
  },
  {
   "cell_type": "code",
   "execution_count": 42,
   "metadata": {},
   "outputs": [
    {
     "data": {
      "text/plain": [
       "name                 0\n",
       "full_name            0\n",
       "age                  0\n",
       "height               0\n",
       "nationality          0\n",
       "place_of_birth      11\n",
       "price                0\n",
       "max_price            0\n",
       "position             0\n",
       "shirt_nr             0\n",
       "foot                25\n",
       "club                 0\n",
       "contract_expires    47\n",
       "joined_club          0\n",
       "player_agent         0\n",
       "outfitter            0\n",
       "league               0\n",
       "dtype: int64"
      ]
     },
     "execution_count": 42,
     "metadata": {},
     "output_type": "execute_result"
    }
   ],
   "source": [
    "df.isnull().sum()"
   ]
  },
  {
   "cell_type": "code",
   "execution_count": 43,
   "metadata": {},
   "outputs": [
    {
     "data": {
      "text/html": [
       "<div>\n",
       "<style scoped>\n",
       "    .dataframe tbody tr th:only-of-type {\n",
       "        vertical-align: middle;\n",
       "    }\n",
       "\n",
       "    .dataframe tbody tr th {\n",
       "        vertical-align: top;\n",
       "    }\n",
       "\n",
       "    .dataframe thead th {\n",
       "        text-align: right;\n",
       "    }\n",
       "</style>\n",
       "<table border=\"1\" class=\"dataframe\">\n",
       "  <thead>\n",
       "    <tr style=\"text-align: right;\">\n",
       "      <th></th>\n",
       "      <th>name</th>\n",
       "      <th>full_name</th>\n",
       "      <th>age</th>\n",
       "      <th>height</th>\n",
       "      <th>nationality</th>\n",
       "      <th>place_of_birth</th>\n",
       "      <th>price</th>\n",
       "      <th>max_price</th>\n",
       "      <th>position</th>\n",
       "      <th>shirt_nr</th>\n",
       "      <th>foot</th>\n",
       "      <th>club</th>\n",
       "      <th>contract_expires</th>\n",
       "      <th>joined_club</th>\n",
       "      <th>player_agent</th>\n",
       "      <th>outfitter</th>\n",
       "      <th>league</th>\n",
       "    </tr>\n",
       "  </thead>\n",
       "  <tbody>\n",
       "    <tr>\n",
       "      <th>0</th>\n",
       "      <td>Ederson</td>\n",
       "      <td>-</td>\n",
       "      <td>29</td>\n",
       "      <td>1.880</td>\n",
       "      <td>Brazil  Portugal</td>\n",
       "      <td>Osasco (SP)</td>\n",
       "      <td>45.000</td>\n",
       "      <td>70.000</td>\n",
       "      <td>Goalkeeper</td>\n",
       "      <td>31</td>\n",
       "      <td>left</td>\n",
       "      <td>Man City</td>\n",
       "      <td>2026-06-30</td>\n",
       "      <td>2017-07-01</td>\n",
       "      <td>Gestifute</td>\n",
       "      <td>Puma</td>\n",
       "      <td>EPL</td>\n",
       "    </tr>\n",
       "    <tr>\n",
       "      <th>1</th>\n",
       "      <td>Stefan Ortega</td>\n",
       "      <td>Stefan Ortega Moreno</td>\n",
       "      <td>30</td>\n",
       "      <td>1.850</td>\n",
       "      <td>Germany  Spain</td>\n",
       "      <td>Hofgeismar</td>\n",
       "      <td>6.000</td>\n",
       "      <td>6.000</td>\n",
       "      <td>Goalkeeper</td>\n",
       "      <td>18</td>\n",
       "      <td>right</td>\n",
       "      <td>Man City</td>\n",
       "      <td>2025-06-30</td>\n",
       "      <td>2022-07-01</td>\n",
       "      <td>neblung ...</td>\n",
       "      <td>Adidas</td>\n",
       "      <td>EPL</td>\n",
       "    </tr>\n",
       "    <tr>\n",
       "      <th>2</th>\n",
       "      <td>Scott Carson</td>\n",
       "      <td>Scott Paul Carson</td>\n",
       "      <td>37</td>\n",
       "      <td>1.880</td>\n",
       "      <td>England</td>\n",
       "      <td>Whitehaven</td>\n",
       "      <td>0.250</td>\n",
       "      <td>6.000</td>\n",
       "      <td>Goalkeeper</td>\n",
       "      <td>33</td>\n",
       "      <td>right</td>\n",
       "      <td>Man City</td>\n",
       "      <td>2023-06-30</td>\n",
       "      <td>2021-07-20</td>\n",
       "      <td>Wasserman</td>\n",
       "      <td>Puma</td>\n",
       "      <td>EPL</td>\n",
       "    </tr>\n",
       "    <tr>\n",
       "      <th>3</th>\n",
       "      <td>Rúben Dias</td>\n",
       "      <td>Rúben Santos Gato Alves Dias</td>\n",
       "      <td>26</td>\n",
       "      <td>1.870</td>\n",
       "      <td>Portugal</td>\n",
       "      <td>Amadora</td>\n",
       "      <td>75.000</td>\n",
       "      <td>75.000</td>\n",
       "      <td>Defender - Centre-Back</td>\n",
       "      <td>3</td>\n",
       "      <td>right</td>\n",
       "      <td>Man City</td>\n",
       "      <td>2027-06-30</td>\n",
       "      <td>2020-09-29</td>\n",
       "      <td>Gestifute</td>\n",
       "      <td>Nike</td>\n",
       "      <td>EPL</td>\n",
       "    </tr>\n",
       "    <tr>\n",
       "      <th>4</th>\n",
       "      <td>Nathan Aké</td>\n",
       "      <td>Nathan Benjamin Aké</td>\n",
       "      <td>28</td>\n",
       "      <td>1.800</td>\n",
       "      <td>Netherlands  Cote d'Ivoire</td>\n",
       "      <td>Den Haag</td>\n",
       "      <td>35.000</td>\n",
       "      <td>40.000</td>\n",
       "      <td>Defender - Centre-Back</td>\n",
       "      <td>6</td>\n",
       "      <td>left</td>\n",
       "      <td>Man City</td>\n",
       "      <td>2025-06-30</td>\n",
       "      <td>2020-08-05</td>\n",
       "      <td>Wasserman</td>\n",
       "      <td>Nike</td>\n",
       "      <td>EPL</td>\n",
       "    </tr>\n",
       "  </tbody>\n",
       "</table>\n",
       "</div>"
      ],
      "text/plain": [
       "            name                     full_name  age  height  \\\n",
       "0        Ederson                             -   29   1.880   \n",
       "1  Stefan Ortega          Stefan Ortega Moreno   30   1.850   \n",
       "2   Scott Carson             Scott Paul Carson   37   1.880   \n",
       "3     Rúben Dias  Rúben Santos Gato Alves Dias   26   1.870   \n",
       "4     Nathan Aké           Nathan Benjamin Aké   28   1.800   \n",
       "\n",
       "                  nationality place_of_birth  price  max_price  \\\n",
       "0            Brazil  Portugal    Osasco (SP) 45.000     70.000   \n",
       "1              Germany  Spain     Hofgeismar  6.000      6.000   \n",
       "2                     England     Whitehaven  0.250      6.000   \n",
       "3                    Portugal        Amadora 75.000     75.000   \n",
       "4  Netherlands  Cote d'Ivoire       Den Haag 35.000     40.000   \n",
       "\n",
       "                 position  shirt_nr   foot      club contract_expires  \\\n",
       "0              Goalkeeper        31   left  Man City       2026-06-30   \n",
       "1              Goalkeeper        18  right  Man City       2025-06-30   \n",
       "2              Goalkeeper        33  right  Man City       2023-06-30   \n",
       "3  Defender - Centre-Back         3  right  Man City       2027-06-30   \n",
       "4  Defender - Centre-Back         6   left  Man City       2025-06-30   \n",
       "\n",
       "  joined_club player_agent outfitter league  \n",
       "0  2017-07-01    Gestifute      Puma    EPL  \n",
       "1  2022-07-01  neblung ...    Adidas    EPL  \n",
       "2  2021-07-20    Wasserman      Puma    EPL  \n",
       "3  2020-09-29    Gestifute      Nike    EPL  \n",
       "4  2020-08-05    Wasserman      Nike    EPL  "
      ]
     },
     "execution_count": 43,
     "metadata": {},
     "output_type": "execute_result"
    }
   ],
   "source": [
    "df.head()"
   ]
  },
  {
   "cell_type": "markdown",
   "metadata": {},
   "source": [
    "Let's find the most valuable league and the team."
   ]
  },
  {
   "cell_type": "code",
   "execution_count": 47,
   "metadata": {
    "colab": {
     "base_uri": "https://localhost:8080/"
    },
    "id": "pd9B7F_iUBQj",
    "outputId": "aa1eb73c-1b0b-4a3a-81ac-343eb7022fd8"
   },
   "outputs": [
    {
     "data": {
      "text/plain": [
       "('EPL', 9488.64)"
      ]
     },
     "execution_count": 47,
     "metadata": {},
     "output_type": "execute_result"
    }
   ],
   "source": [
    "club_prices_sum = df.groupby('league')['price'].sum()\n",
    "\n",
    "max_valuable_league = club_prices_sum.idxmax()\n",
    "max_value = club_prices_sum.max()\n",
    "\n",
    "max_valuable_league, max_value"
   ]
  },
  {
   "cell_type": "code",
   "execution_count": 44,
   "metadata": {
    "id": "E63qNQ9IWaVI"
   },
   "outputs": [
    {
     "data": {
      "text/plain": [
       "('Man City', 1074.27)"
      ]
     },
     "execution_count": 44,
     "metadata": {},
     "output_type": "execute_result"
    }
   ],
   "source": [
    "club_prices_sum = df.groupby('club')['price'].sum()\n",
    "\n",
    "# Find the club with the maximum sum\n",
    "max_club = club_prices_sum.idxmax()\n",
    "max_sum = club_prices_sum.max()\n",
    "\n",
    "max_club, max_sum"
   ]
  },
  {
   "cell_type": "markdown",
   "metadata": {
    "id": "oXFU72OoxkUS"
   },
   "source": [
    "Here is the all leagues total values."
   ]
  },
  {
   "cell_type": "code",
   "execution_count": 54,
   "metadata": {
    "colab": {
     "base_uri": "https://localhost:8080/",
     "height": 269
    },
    "id": "NZYNImiYVLLA",
    "outputId": "c6c86682-e52f-427a-c518-b638abfa7bf9"
   },
   "outputs": [
    {
     "data": {
      "text/html": [
       "<div>\n",
       "<style scoped>\n",
       "    .dataframe tbody tr th:only-of-type {\n",
       "        vertical-align: middle;\n",
       "    }\n",
       "\n",
       "    .dataframe tbody tr th {\n",
       "        vertical-align: top;\n",
       "    }\n",
       "\n",
       "    .dataframe thead th {\n",
       "        text-align: right;\n",
       "    }\n",
       "</style>\n",
       "<table border=\"1\" class=\"dataframe\">\n",
       "  <thead>\n",
       "    <tr style=\"text-align: right;\">\n",
       "      <th>league</th>\n",
       "      <th>Bundesliga</th>\n",
       "      <th>EPL</th>\n",
       "      <th>LaLiga</th>\n",
       "      <th>Ligue1</th>\n",
       "      <th>SerieA</th>\n",
       "    </tr>\n",
       "  </thead>\n",
       "  <tbody>\n",
       "    <tr>\n",
       "      <th>price</th>\n",
       "      <td>4356.105</td>\n",
       "      <td>9488.640</td>\n",
       "      <td>4765.400</td>\n",
       "      <td>3450.250</td>\n",
       "      <td>3445.985</td>\n",
       "    </tr>\n",
       "  </tbody>\n",
       "</table>\n",
       "</div>"
      ],
      "text/plain": [
       "league  Bundesliga      EPL   LaLiga   Ligue1   SerieA\n",
       "price     4356.105 9488.640 4765.400 3450.250 3445.985"
      ]
     },
     "execution_count": 54,
     "metadata": {},
     "output_type": "execute_result"
    }
   ],
   "source": [
    "pv_table = df.pivot_table(index='league',values='price', aggfunc='sum').T\n",
    "pv_table"
   ]
  },
  {
   "cell_type": "markdown",
   "metadata": {},
   "source": [
    "## <p style=\"background-color:yellow; font-family:newtimeroman; color:blue; font-size:175%; text-align:center; border-radius:10px 10px;\">Visalisation of Data</p>"
   ]
  },
  {
   "cell_type": "markdown",
   "metadata": {},
   "source": [
    "Total football players:"
   ]
  },
  {
   "cell_type": "code",
   "execution_count": 64,
   "metadata": {},
   "outputs": [
    {
     "data": {
      "image/png": "[encoded data removed]",
      "text/plain": [
       "<Figure size 800x500 with 1 Axes>"
      ]
     },
     "metadata": {},
     "output_type": "display_data"
    }
   ],
   "source": [
    "plt.figure(figsize=(8,5))\n",
    "\n",
    "ax = sns.countplot(data=df, x='league')\n",
    "for i in ax.containers:\n",
    "    ax.bar_label(i);"
   ]
  },
  {
   "cell_type": "code",
   "execution_count": 71,
   "metadata": {},
   "outputs": [
    {
     "data": {
      "text/plain": [
       "Bundesliga    499\n",
       "LaLiga        481\n",
       "EPL           449\n",
       "Ligue1        430\n",
       "SerieA        355\n",
       "Name: league, dtype: int64"
      ]
     },
     "execution_count": 71,
     "metadata": {},
     "output_type": "execute_result"
    }
   ],
   "source": [
    "df.league.value_counts()"
   ]
  },
  {
   "cell_type": "markdown",
   "metadata": {},
   "source": [
    "Analysing ages of players:"
   ]
  },
  {
   "cell_type": "code",
   "execution_count": 76,
   "metadata": {},
   "outputs": [
    {
     "data": {
      "image/png": "[encoded data removed]",
      "text/plain": [
       "<Figure size 800x500 with 1 Axes>"
      ]
     },
     "metadata": {},
     "output_type": "display_data"
    }
   ],
   "source": [
    "plt.figure(figsize=(8,5))\n",
    "ax = sns.countplot(data=df, x='age')\n",
    "for i in ax.containers:\n",
    "    ax.bar_label(i);"
   ]
  },
  {
   "cell_type": "markdown",
   "metadata": {},
   "source": [
    "Here is the 3 graph showing the average age for top 5 leagues:"
   ]
  },
  {
   "cell_type": "code",
   "execution_count": 110,
   "metadata": {},
   "outputs": [
    {
     "data": {
      "image/png": "[encoded data removed]",
      "text/plain": [
       "<Figure size 2000x900 with 3 Axes>"
      ]
     },
     "metadata": {},
     "output_type": "display_data"
    }
   ],
   "source": [
    "fig = plt.figure(figsize=(20,9))\n",
    "\n",
    "fig.suptitle(\"Average of Ages for 5 League\", y = 0.9)\n",
    "\n",
    "plt.subplot(3,1,1)\n",
    "sns.lineplot(x = df.league, y = df.age)\n",
    "plt.subplot(3,1,2)\n",
    "sns.pointplot(x = df.league, y = df.age)\n",
    "plt.subplot(3,1,3)\n",
    "ax = sns.barplot(x = df.league, y = df.age)\n",
    "for container in ax.containers:\n",
    "    ax.bar_label(container, fmt='%.1f');"
   ]
  },
  {
   "cell_type": "code",
   "execution_count": 84,
   "metadata": {},
   "outputs": [
    {
     "data": {
      "text/html": [
       "<div>\n",
       "<style scoped>\n",
       "    .dataframe tbody tr th:only-of-type {\n",
       "        vertical-align: middle;\n",
       "    }\n",
       "\n",
       "    .dataframe tbody tr th {\n",
       "        vertical-align: top;\n",
       "    }\n",
       "\n",
       "    .dataframe thead th {\n",
       "        text-align: right;\n",
       "    }\n",
       "</style>\n",
       "<table border=\"1\" class=\"dataframe\">\n",
       "  <thead>\n",
       "    <tr style=\"text-align: right;\">\n",
       "      <th></th>\n",
       "      <th>age</th>\n",
       "      <th>height</th>\n",
       "      <th>price</th>\n",
       "      <th>max_price</th>\n",
       "      <th>shirt_nr</th>\n",
       "    </tr>\n",
       "    <tr>\n",
       "      <th>league</th>\n",
       "      <th></th>\n",
       "      <th></th>\n",
       "      <th></th>\n",
       "      <th></th>\n",
       "      <th></th>\n",
       "    </tr>\n",
       "  </thead>\n",
       "  <tbody>\n",
       "    <tr>\n",
       "      <th>Bundesliga</th>\n",
       "      <td>25.900</td>\n",
       "      <td>1.847</td>\n",
       "      <td>8.730</td>\n",
       "      <td>13.842</td>\n",
       "      <td>20.006</td>\n",
       "    </tr>\n",
       "    <tr>\n",
       "      <th>EPL</th>\n",
       "      <td>26.581</td>\n",
       "      <td>1.827</td>\n",
       "      <td>21.133</td>\n",
       "      <td>31.546</td>\n",
       "      <td>18.301</td>\n",
       "    </tr>\n",
       "    <tr>\n",
       "      <th>LaLiga</th>\n",
       "      <td>27.520</td>\n",
       "      <td>1.816</td>\n",
       "      <td>9.907</td>\n",
       "      <td>18.482</td>\n",
       "      <td>13.628</td>\n",
       "    </tr>\n",
       "    <tr>\n",
       "      <th>Ligue1</th>\n",
       "      <td>25.514</td>\n",
       "      <td>1.820</td>\n",
       "      <td>8.024</td>\n",
       "      <td>12.628</td>\n",
       "      <td>22.358</td>\n",
       "    </tr>\n",
       "    <tr>\n",
       "      <th>SerieA</th>\n",
       "      <td>26.428</td>\n",
       "      <td>1.844</td>\n",
       "      <td>9.707</td>\n",
       "      <td>17.556</td>\n",
       "      <td>26.299</td>\n",
       "    </tr>\n",
       "  </tbody>\n",
       "</table>\n",
       "</div>"
      ],
      "text/plain": [
       "              age  height  price  max_price  shirt_nr\n",
       "league                                               \n",
       "Bundesliga 25.900   1.847  8.730     13.842    20.006\n",
       "EPL        26.581   1.827 21.133     31.546    18.301\n",
       "LaLiga     27.520   1.816  9.907     18.482    13.628\n",
       "Ligue1     25.514   1.820  8.024     12.628    22.358\n",
       "SerieA     26.428   1.844  9.707     17.556    26.299"
      ]
     },
     "execution_count": 84,
     "metadata": {},
     "output_type": "execute_result"
    }
   ],
   "source": [
    "df.groupby('league').agg('mean', numeric_only=True)"
   ]
  },
  {
   "cell_type": "markdown",
   "metadata": {},
   "source": [
    "Here is the mean of the prices and max_prices for top 5 league:"
   ]
  },
  {
   "cell_type": "code",
   "execution_count": 107,
   "metadata": {},
   "outputs": [
    {
     "data": {
      "application/vnd.plotly.v1+json": {
       "config": {
        "plotlyServerURL": "https://plot.ly"
       },
       "data": [
        {
         "alignmentgroup": "True",
         "hovertemplate": "Price Type=price<br>League=%{x}<br>Mean Price=%{y}<extra></extra>",
         "legendgroup": "price",
         "marker": {
          "color": "#636efa",
          "pattern": {
           "shape": ""
          }
         },
         "name": "price",
         "offsetgroup": "price",
         "orientation": "v",
         "showlegend": true,
         "textposition": "auto",
         "type": "bar",
         "x": [
          "Bundesliga",
          "EPL",
          "LaLiga",
          "Ligue1",
          "SerieA"
         ],
         "xaxis": "x",
         "y": [
          8.729669338677354,
          21.1328285077951,
          9.907276507276507,
          8.023837209302325,
          9.707
         ],
         "yaxis": "y"
        },
        {
         "alignmentgroup": "True",
         "hovertemplate": "Price Type=max_price<br>League=%{x}<br>Mean Price=%{y}<extra></extra>",
         "legendgroup": "max_price",
         "marker": {
          "color": "#EF553B",
          "pattern": {
           "shape": ""
          }
         },
         "name": "max_price",
         "offsetgroup": "max_price",
         "orientation": "v",
         "showlegend": true,
         "textposition": "auto",
         "type": "bar",
         "x": [
          "Bundesliga",
          "EPL",
          "LaLiga",
          "Ligue1",
          "SerieA"
         ],
         "xaxis": "x",
         "y": [
          13.842124585305063,
          31.546436525612474,
          18.48160083160083,
          12.627558139534884,
          17.556338028169016
         ],
         "yaxis": "y"
        }
       ],
       "layout": {
        "barmode": "relative",
        "legend": {
         "title": {
          "text": "Price Type"
         },
         "tracegroupgap": 0
        },
        "template": {
         "data": {
          "bar": [
           {
            "error_x": {
             "color": "#2a3f5f"
            },
            "error_y": {
             "color": "#2a3f5f"
            },
            "marker": {
             "line": {
              "color": "#E5ECF6",
              "width": 0.5
             },
             "pattern": {
              "fillmode": "overlay",
              "size": 10,
              "solidity": 0.2
             }
            },
            "type": "bar"
           }
          ],
          "barpolar": [
           {
            "marker": {
             "line": {
              "color": "#E5ECF6",
              "width": 0.5
             },
             "pattern": {
              "fillmode": "overlay",
              "size": 10,
              "solidity": 0.2
             }
            },
            "type": "barpolar"
           }
          ],
          "carpet": [
           {
            "aaxis": {
             "endlinecolor": "#2a3f5f",
             "gridcolor": "white",
             "linecolor": "white",
             "minorgridcolor": "white",
             "startlinecolor": "#2a3f5f"
            },
            "baxis": {
             "endlinecolor": "#2a3f5f",
             "gridcolor": "white",
             "linecolor": "white",
             "minorgridcolor": "white",
             "startlinecolor": "#2a3f5f"
            },
            "type": "carpet"
           }
          ],
          "choropleth": [
           {
            "colorbar": {
             "outlinewidth": 0,
             "ticks": ""
            },
            "type": "choropleth"
           }
          ],
          "contour": [
           {
            "colorbar": {
             "outlinewidth": 0,
             "ticks": ""
            },
            "colorscale": [
             [
              0,
              "#0d0887"
             ],
             [
              0.1111111111111111,
              "#46039f"
             ],
             [
              0.2222222222222222,
              "#7201a8"
             ],
             [
              0.3333333333333333,
              "#9c179e"
             ],
             [
              0.4444444444444444,
              "#bd3786"
             ],
             [
              0.5555555555555556,
              "#d8576b"
             ],
             [
              0.6666666666666666,
              "#ed7953"
             ],
             [
              0.7777777777777778,
              "#fb9f3a"
             ],
             [
              0.8888888888888888,
              "#fdca26"
             ],
             [
              1,
              "#f0f921"
             ]
            ],
            "type": "contour"
           }
          ],
          "contourcarpet": [
           {
            "colorbar": {
             "outlinewidth": 0,
             "ticks": ""
            },
            "type": "contourcarpet"
           }
          ],
          "heatmap": [
           {
            "colorbar": {
             "outlinewidth": 0,
             "ticks": ""
            },
            "colorscale": [
             [
              0,
              "#0d0887"
             ],
             [
              0.1111111111111111,
              "#46039f"
             ],
             [
              0.2222222222222222,
              "#7201a8"
             ],
             [
              0.3333333333333333,
              "#9c179e"
             ],
             [
              0.4444444444444444,
              "#bd3786"
             ],
             [
              0.5555555555555556,
              "#d8576b"
             ],
             [
              0.6666666666666666,
              "#ed7953"
             ],
             [
              0.7777777777777778,
              "#fb9f3a"
             ],
             [
              0.8888888888888888,
              "#fdca26"
             ],
             [
              1,
              "#f0f921"
             ]
            ],
            "type": "heatmap"
           }
          ],
          "heatmapgl": [
           {
            "colorbar": {
             "outlinewidth": 0,
             "ticks": ""
            },
            "colorscale": [
             [
              0,
              "#0d0887"
             ],
             [
              0.1111111111111111,
              "#46039f"
             ],
             [
              0.2222222222222222,
              "#7201a8"
             ],
             [
              0.3333333333333333,
              "#9c179e"
             ],
             [
              0.4444444444444444,
              "#bd3786"
             ],
             [
              0.5555555555555556,
              "#d8576b"
             ],
             [
              0.6666666666666666,
              "#ed7953"
             ],
             [
              0.7777777777777778,
              "#fb9f3a"
             ],
             [
              0.8888888888888888,
              "#fdca26"
             ],
             [
              1,
              "#f0f921"
             ]
            ],
            "type": "heatmapgl"
           }
          ],
          "histogram": [
           {
            "marker": {
             "pattern": {
              "fillmode": "overlay",
              "size": 10,
              "solidity": 0.2
             }
            },
            "type": "histogram"
           }
          ],
          "histogram2d": [
           {
            "colorbar": {
             "outlinewidth": 0,
             "ticks": ""
            },
            "colorscale": [
             [
              0,
              "#0d0887"
             ],
             [
              0.1111111111111111,
              "#46039f"
             ],
             [
              0.2222222222222222,
              "#7201a8"
             ],
             [
              0.3333333333333333,
              "#9c179e"
             ],
             [
              0.4444444444444444,
              "#bd3786"
             ],
             [
              0.5555555555555556,
              "#d8576b"
             ],
             [
              0.6666666666666666,
              "#ed7953"
             ],
             [
              0.7777777777777778,
              "#fb9f3a"
             ],
             [
              0.8888888888888888,
              "#fdca26"
             ],
             [
              1,
              "#f0f921"
             ]
            ],
            "type": "histogram2d"
           }
          ],
          "histogram2dcontour": [
           {
            "colorbar": {
             "outlinewidth": 0,
             "ticks": ""
            },
            "colorscale": [
             [
              0,
              "#0d0887"
             ],
             [
              0.1111111111111111,
              "#46039f"
             ],
             [
              0.2222222222222222,
              "#7201a8"
             ],
             [
              0.3333333333333333,
              "#9c179e"
             ],
             [
              0.4444444444444444,
              "#bd3786"
             ],
             [
              0.5555555555555556,
              "#d8576b"
             ],
             [
              0.6666666666666666,
              "#ed7953"
             ],
             [
              0.7777777777777778,
              "#fb9f3a"
             ],
             [
              0.8888888888888888,
              "#fdca26"
             ],
             [
              1,
              "#f0f921"
             ]
            ],
            "type": "histogram2dcontour"
           }
          ],
          "mesh3d": [
           {
            "colorbar": {
             "outlinewidth": 0,
             "ticks": ""
            },
            "type": "mesh3d"
           }
          ],
          "parcoords": [
           {
            "line": {
             "colorbar": {
              "outlinewidth": 0,
              "ticks": ""
             }
            },
            "type": "parcoords"
           }
          ],
          "pie": [
           {
            "automargin": true,
            "type": "pie"
           }
          ],
          "scatter": [
           {
            "fillpattern": {
             "fillmode": "overlay",
             "size": 10,
             "solidity": 0.2
            },
            "type": "scatter"
           }
          ],
          "scatter3d": [
           {
            "line": {
             "colorbar": {
              "outlinewidth": 0,
              "ticks": ""
             }
            },
            "marker": {
             "colorbar": {
              "outlinewidth": 0,
              "ticks": ""
             }
            },
            "type": "scatter3d"
           }
          ],
          "scattercarpet": [
           {
            "marker": {
             "colorbar": {
              "outlinewidth": 0,
              "ticks": ""
             }
            },
            "type": "scattercarpet"
           }
          ],
          "scattergeo": [
           {
            "marker": {
             "colorbar": {
              "outlinewidth": 0,
              "ticks": ""
             }
            },
            "type": "scattergeo"
           }
          ],
          "scattergl": [
           {
            "marker": {
             "colorbar": {
              "outlinewidth": 0,
              "ticks": ""
             }
            },
            "type": "scattergl"
           }
          ],
          "scattermapbox": [
           {
            "marker": {
             "colorbar": {
              "outlinewidth": 0,
              "ticks": ""
             }
            },
            "type": "scattermapbox"
           }
          ],
          "scatterpolar": [
           {
            "marker": {
             "colorbar": {
              "outlinewidth": 0,
              "ticks": ""
             }
            },
            "type": "scatterpolar"
           }
          ],
          "scatterpolargl": [
           {
            "marker": {
             "colorbar": {
              "outlinewidth": 0,
              "ticks": ""
             }
            },
            "type": "scatterpolargl"
           }
          ],
          "scatterternary": [
           {
            "marker": {
             "colorbar": {
              "outlinewidth": 0,
              "ticks": ""
             }
            },
            "type": "scatterternary"
           }
          ],
          "surface": [
           {
            "colorbar": {
             "outlinewidth": 0,
             "ticks": ""
            },
            "colorscale": [
             [
              0,
              "#0d0887"
             ],
             [
              0.1111111111111111,
              "#46039f"
             ],
             [
              0.2222222222222222,
              "#7201a8"
             ],
             [
              0.3333333333333333,
              "#9c179e"
             ],
             [
              0.4444444444444444,
              "#bd3786"
             ],
             [
              0.5555555555555556,
              "#d8576b"
             ],
             [
              0.6666666666666666,
              "#ed7953"
             ],
             [
              0.7777777777777778,
              "#fb9f3a"
             ],
             [
              0.8888888888888888,
              "#fdca26"
             ],
             [
              1,
              "#f0f921"
             ]
            ],
            "type": "surface"
           }
          ],
          "table": [
           {
            "cells": {
             "fill": {
              "color": "#EBF0F8"
             },
             "line": {
              "color": "white"
             }
            },
            "header": {
             "fill": {
              "color": "#C8D4E3"
             },
             "line": {
              "color": "white"
             }
            },
            "type": "table"
           }
          ]
         },
         "layout": {
          "annotationdefaults": {
           "arrowcolor": "#2a3f5f",
           "arrowhead": 0,
           "arrowwidth": 1
          },
          "autotypenumbers": "strict",
          "coloraxis": {
           "colorbar": {
            "outlinewidth": 0,
            "ticks": ""
           }
          },
          "colorscale": {
           "diverging": [
            [
             0,
             "#8e0152"
            ],
            [
             0.1,
             "#c51b7d"
            ],
            [
             0.2,
             "#de77ae"
            ],
            [
             0.3,
             "#f1b6da"
            ],
            [
             0.4,
             "#fde0ef"
            ],
            [
             0.5,
             "#f7f7f7"
            ],
            [
             0.6,
             "#e6f5d0"
            ],
            [
             0.7,
             "#b8e186"
            ],
            [
             0.8,
             "#7fbc41"
            ],
            [
             0.9,
             "#4d9221"
            ],
            [
             1,
             "#276419"
            ]
           ],
           "sequential": [
            [
             0,
             "#0d0887"
            ],
            [
             0.1111111111111111,
             "#46039f"
            ],
            [
             0.2222222222222222,
             "#7201a8"
            ],
            [
             0.3333333333333333,
             "#9c179e"
            ],
            [
             0.4444444444444444,
             "#bd3786"
            ],
            [
             0.5555555555555556,
             "#d8576b"
            ],
            [
             0.6666666666666666,
             "#ed7953"
            ],
            [
             0.7777777777777778,
             "#fb9f3a"
            ],
            [
             0.8888888888888888,
             "#fdca26"
            ],
            [
             1,
             "#f0f921"
            ]
           ],
           "sequentialminus": [
            [
             0,
             "#0d0887"
            ],
            [
             0.1111111111111111,
             "#46039f"
            ],
            [
             0.2222222222222222,
             "#7201a8"
            ],
            [
             0.3333333333333333,
             "#9c179e"
            ],
            [
             0.4444444444444444,
             "#bd3786"
            ],
            [
             0.5555555555555556,
             "#d8576b"
            ],
            [
             0.6666666666666666,
             "#ed7953"
            ],
            [
             0.7777777777777778,
             "#fb9f3a"
            ],
            [
             0.8888888888888888,
             "#fdca26"
            ],
            [
             1,
             "#f0f921"
            ]
           ]
          },
          "colorway": [
           "#636efa",
           "#EF553B",
           "#00cc96",
           "#ab63fa",
           "#FFA15A",
           "#19d3f3",
           "#FF6692",
           "#B6E880",
           "#FF97FF",
           "#FECB52"
          ],
          "font": {
           "color": "#2a3f5f"
          },
          "geo": {
           "bgcolor": "white",
           "lakecolor": "white",
           "landcolor": "#E5ECF6",
           "showlakes": true,
           "showland": true,
           "subunitcolor": "white"
          },
          "hoverlabel": {
           "align": "left"
          },
          "hovermode": "closest",
          "mapbox": {
           "style": "light"
          },
          "paper_bgcolor": "white",
          "plot_bgcolor": "#E5ECF6",
          "polar": {
           "angularaxis": {
            "gridcolor": "white",
            "linecolor": "white",
            "ticks": ""
           },
           "bgcolor": "#E5ECF6",
           "radialaxis": {
            "gridcolor": "white",
            "linecolor": "white",
            "ticks": ""
           }
          },
          "scene": {
           "xaxis": {
            "backgroundcolor": "#E5ECF6",
            "gridcolor": "white",
            "gridwidth": 2,
            "linecolor": "white",
            "showbackground": true,
            "ticks": "",
            "zerolinecolor": "white"
           },
           "yaxis": {
            "backgroundcolor": "#E5ECF6",
            "gridcolor": "white",
            "gridwidth": 2,
            "linecolor": "white",
            "showbackground": true,
            "ticks": "",
            "zerolinecolor": "white"
           },
           "zaxis": {
            "backgroundcolor": "#E5ECF6",
            "gridcolor": "white",
            "gridwidth": 2,
            "linecolor": "white",
            "showbackground": true,
            "ticks": "",
            "zerolinecolor": "white"
           }
          },
          "shapedefaults": {
           "line": {
            "color": "#2a3f5f"
           }
          },
          "ternary": {
           "aaxis": {
            "gridcolor": "white",
            "linecolor": "white",
            "ticks": ""
           },
           "baxis": {
            "gridcolor": "white",
            "linecolor": "white",
            "ticks": ""
           },
           "bgcolor": "#E5ECF6",
           "caxis": {
            "gridcolor": "white",
            "linecolor": "white",
            "ticks": ""
           }
          },
          "title": {
           "x": 0.05
          },
          "xaxis": {
           "automargin": true,
           "gridcolor": "white",
           "linecolor": "white",
           "ticks": "",
           "title": {
            "standoff": 15
           },
           "zerolinecolor": "white",
           "zerolinewidth": 2
          },
          "yaxis": {
           "automargin": true,
           "gridcolor": "white",
           "linecolor": "white",
           "ticks": "",
           "title": {
            "standoff": 15
           },
           "zerolinecolor": "white",
           "zerolinewidth": 2
          }
         }
        },
        "title": {
         "text": "Average of Prices and Max_Prices for 5 Leagues"
        },
        "xaxis": {
         "anchor": "y",
         "domain": [
          0,
          1
         ],
         "title": {
          "text": "League"
         }
        },
        "yaxis": {
         "anchor": "x",
         "domain": [
          0,
          1
         ],
         "title": {
          "text": "Mean Price"
         }
        }
       }
      },
      "text/html": [
       "<div>                            <div id=\"5371902a-37ac-45af-a363-8eb6c45ee48b\" class=\"plotly-graph-div\" style=\"height:525px; width:100%;\"></div>            <script type=\"text/javascript\">                require([\"plotly\"], function(Plotly) {                    window.PLOTLYENV=window.PLOTLYENV || {};                                    if (document.getElementById(\"5371902a-37ac-45af-a363-8eb6c45ee48b\")) {                    Plotly.newPlot(                        \"5371902a-37ac-45af-a363-8eb6c45ee48b\",                        [{\"alignmentgroup\":\"True\",\"hovertemplate\":\"Price Type=price\\u003cbr\\u003eLeague=%{x}\\u003cbr\\u003eMean Price=%{y}\\u003cextra\\u003e\\u003c\\u002fextra\\u003e\",\"legendgroup\":\"price\",\"marker\":{\"color\":\"#636efa\",\"pattern\":{\"shape\":\"\"}},\"name\":\"price\",\"offsetgroup\":\"price\",\"orientation\":\"v\",\"showlegend\":true,\"textposition\":\"auto\",\"x\":[\"Bundesliga\",\"EPL\",\"LaLiga\",\"Ligue1\",\"SerieA\"],\"xaxis\":\"x\",\"y\":[8.729669338677354,21.1328285077951,9.907276507276507,8.023837209302325,9.707],\"yaxis\":\"y\",\"type\":\"bar\"},{\"alignmentgroup\":\"True\",\"hovertemplate\":\"Price Type=max_price\\u003cbr\\u003eLeague=%{x}\\u003cbr\\u003eMean Price=%{y}\\u003cextra\\u003e\\u003c\\u002fextra\\u003e\",\"legendgroup\":\"max_price\",\"marker\":{\"color\":\"#EF553B\",\"pattern\":{\"shape\":\"\"}},\"name\":\"max_price\",\"offsetgroup\":\"max_price\",\"orientation\":\"v\",\"showlegend\":true,\"textposition\":\"auto\",\"x\":[\"Bundesliga\",\"EPL\",\"LaLiga\",\"Ligue1\",\"SerieA\"],\"xaxis\":\"x\",\"y\":[13.842124585305063,31.546436525612474,18.48160083160083,12.627558139534884,17.556338028169016],\"yaxis\":\"y\",\"type\":\"bar\"}],                        {\"template\":{\"data\":{\"histogram2dcontour\":[{\"type\":\"histogram2dcontour\",\"colorbar\":{\"outlinewidth\":0,\"ticks\":\"\"},\"colorscale\":[[0.0,\"#0d0887\"],[0.1111111111111111,\"#46039f\"],[0.2222222222222222,\"#7201a8\"],[0.3333333333333333,\"#9c179e\"],[0.4444444444444444,\"#bd3786\"],[0.5555555555555556,\"#d8576b\"],[0.6666666666666666,\"#ed7953\"],[0.7777777777777778,\"#fb9f3a\"],[0.8888888888888888,\"#fdca26\"],[1.0,\"#f0f921\"]]}],\"choropleth\":[{\"type\":\"choropleth\",\"colorbar\":{\"outlinewidth\":0,\"ticks\":\"\"}}],\"histogram2d\":[{\"type\":\"histogram2d\",\"colorbar\":{\"outlinewidth\":0,\"ticks\":\"\"},\"colorscale\":[[0.0,\"#0d0887\"],[0.1111111111111111,\"#46039f\"],[0.2222222222222222,\"#7201a8\"],[0.3333333333333333,\"#9c179e\"],[0.4444444444444444,\"#bd3786\"],[0.5555555555555556,\"#d8576b\"],[0.6666666666666666,\"#ed7953\"],[0.7777777777777778,\"#fb9f3a\"],[0.8888888888888888,\"#fdca26\"],[1.0,\"#f0f921\"]]}],\"heatmap\":[{\"type\":\"heatmap\",\"colorbar\":{\"outlinewidth\":0,\"ticks\":\"\"},\"colorscale\":[[0.0,\"#0d0887\"],[0.1111111111111111,\"#46039f\"],[0.2222222222222222,\"#7201a8\"],[0.3333333333333333,\"#9c179e\"],[0.4444444444444444,\"#bd3786\"],[0.5555555555555556,\"#d8576b\"],[0.6666666666666666,\"#ed7953\"],[0.7777777777777778,\"#fb9f3a\"],[0.8888888888888888,\"#fdca26\"],[1.0,\"#f0f921\"]]}],\"heatmapgl\":[{\"type\":\"heatmapgl\",\"colorbar\":{\"outlinewidth\":0,\"ticks\":\"\"},\"colorscale\":[[0.0,\"#0d0887\"],[0.1111111111111111,\"#46039f\"],[0.2222222222222222,\"#7201a8\"],[0.3333333333333333,\"#9c179e\"],[0.4444444444444444,\"#bd3786\"],[0.5555555555555556,\"#d8576b\"],[0.6666666666666666,\"#ed7953\"],[0.7777777777777778,\"#fb9f3a\"],[0.8888888888888888,\"#fdca26\"],[1.0,\"#f0f921\"]]}],\"contourcarpet\":[{\"type\":\"contourcarpet\",\"colorbar\":{\"outlinewidth\":0,\"ticks\":\"\"}}],\"contour\":[{\"type\":\"contour\",\"colorbar\":{\"outlinewidth\":0,\"ticks\":\"\"},\"colorscale\":[[0.0,\"#0d0887\"],[0.1111111111111111,\"#46039f\"],[0.2222222222222222,\"#7201a8\"],[0.3333333333333333,\"#9c179e\"],[0.4444444444444444,\"#bd3786\"],[0.5555555555555556,\"#d8576b\"],[0.6666666666666666,\"#ed7953\"],[0.7777777777777778,\"#fb9f3a\"],[0.8888888888888888,\"#fdca26\"],[1.0,\"#f0f921\"]]}],\"surface\":[{\"type\":\"surface\",\"colorbar\":{\"outlinewidth\":0,\"ticks\":\"\"},\"colorscale\":[[0.0,\"#0d0887\"],[0.1111111111111111,\"#46039f\"],[0.2222222222222222,\"#7201a8\"],[0.3333333333333333,\"#9c179e\"],[0.4444444444444444,\"#bd3786\"],[0.5555555555555556,\"#d8576b\"],[0.6666666666666666,\"#ed7953\"],[0.7777777777777778,\"#fb9f3a\"],[0.8888888888888888,\"#fdca26\"],[1.0,\"#f0f921\"]]}],\"mesh3d\":[{\"type\":\"mesh3d\",\"colorbar\":{\"outlinewidth\":0,\"ticks\":\"\"}}],\"scatter\":[{\"fillpattern\":{\"fillmode\":\"overlay\",\"size\":10,\"solidity\":0.2},\"type\":\"scatter\"}],\"parcoords\":[{\"type\":\"parcoords\",\"line\":{\"colorbar\":{\"outlinewidth\":0,\"ticks\":\"\"}}}],\"scatterpolargl\":[{\"type\":\"scatterpolargl\",\"marker\":{\"colorbar\":{\"outlinewidth\":0,\"ticks\":\"\"}}}],\"bar\":[{\"error_x\":{\"color\":\"#2a3f5f\"},\"error_y\":{\"color\":\"#2a3f5f\"},\"marker\":{\"line\":{\"color\":\"#E5ECF6\",\"width\":0.5},\"pattern\":{\"fillmode\":\"overlay\",\"size\":10,\"solidity\":0.2}},\"type\":\"bar\"}],\"scattergeo\":[{\"type\":\"scattergeo\",\"marker\":{\"colorbar\":{\"outlinewidth\":0,\"ticks\":\"\"}}}],\"scatterpolar\":[{\"type\":\"scatterpolar\",\"marker\":{\"colorbar\":{\"outlinewidth\":0,\"ticks\":\"\"}}}],\"histogram\":[{\"marker\":{\"pattern\":{\"fillmode\":\"overlay\",\"size\":10,\"solidity\":0.2}},\"type\":\"histogram\"}],\"scattergl\":[{\"type\":\"scattergl\",\"marker\":{\"colorbar\":{\"outlinewidth\":0,\"ticks\":\"\"}}}],\"scatter3d\":[{\"type\":\"scatter3d\",\"line\":{\"colorbar\":{\"outlinewidth\":0,\"ticks\":\"\"}},\"marker\":{\"colorbar\":{\"outlinewidth\":0,\"ticks\":\"\"}}}],\"scattermapbox\":[{\"type\":\"scattermapbox\",\"marker\":{\"colorbar\":{\"outlinewidth\":0,\"ticks\":\"\"}}}],\"scatterternary\":[{\"type\":\"scatterternary\",\"marker\":{\"colorbar\":{\"outlinewidth\":0,\"ticks\":\"\"}}}],\"scattercarpet\":[{\"type\":\"scattercarpet\",\"marker\":{\"colorbar\":{\"outlinewidth\":0,\"ticks\":\"\"}}}],\"carpet\":[{\"aaxis\":{\"endlinecolor\":\"#2a3f5f\",\"gridcolor\":\"white\",\"linecolor\":\"white\",\"minorgridcolor\":\"white\",\"startlinecolor\":\"#2a3f5f\"},\"baxis\":{\"endlinecolor\":\"#2a3f5f\",\"gridcolor\":\"white\",\"linecolor\":\"white\",\"minorgridcolor\":\"white\",\"startlinecolor\":\"#2a3f5f\"},\"type\":\"carpet\"}],\"table\":[{\"cells\":{\"fill\":{\"color\":\"#EBF0F8\"},\"line\":{\"color\":\"white\"}},\"header\":{\"fill\":{\"color\":\"#C8D4E3\"},\"line\":{\"color\":\"white\"}},\"type\":\"table\"}],\"barpolar\":[{\"marker\":{\"line\":{\"color\":\"#E5ECF6\",\"width\":0.5},\"pattern\":{\"fillmode\":\"overlay\",\"size\":10,\"solidity\":0.2}},\"type\":\"barpolar\"}],\"pie\":[{\"automargin\":true,\"type\":\"pie\"}]},\"layout\":{\"autotypenumbers\":\"strict\",\"colorway\":[\"#636efa\",\"#EF553B\",\"#00cc96\",\"#ab63fa\",\"#FFA15A\",\"#19d3f3\",\"#FF6692\",\"#B6E880\",\"#FF97FF\",\"#FECB52\"],\"font\":{\"color\":\"#2a3f5f\"},\"hovermode\":\"closest\",\"hoverlabel\":{\"align\":\"left\"},\"paper_bgcolor\":\"white\",\"plot_bgcolor\":\"#E5ECF6\",\"polar\":{\"bgcolor\":\"#E5ECF6\",\"angularaxis\":{\"gridcolor\":\"white\",\"linecolor\":\"white\",\"ticks\":\"\"},\"radialaxis\":{\"gridcolor\":\"white\",\"linecolor\":\"white\",\"ticks\":\"\"}},\"ternary\":{\"bgcolor\":\"#E5ECF6\",\"aaxis\":{\"gridcolor\":\"white\",\"linecolor\":\"white\",\"ticks\":\"\"},\"baxis\":{\"gridcolor\":\"white\",\"linecolor\":\"white\",\"ticks\":\"\"},\"caxis\":{\"gridcolor\":\"white\",\"linecolor\":\"white\",\"ticks\":\"\"}},\"coloraxis\":{\"colorbar\":{\"outlinewidth\":0,\"ticks\":\"\"}},\"colorscale\":{\"sequential\":[[0.0,\"#0d0887\"],[0.1111111111111111,\"#46039f\"],[0.2222222222222222,\"#7201a8\"],[0.3333333333333333,\"#9c179e\"],[0.4444444444444444,\"#bd3786\"],[0.5555555555555556,\"#d8576b\"],[0.6666666666666666,\"#ed7953\"],[0.7777777777777778,\"#fb9f3a\"],[0.8888888888888888,\"#fdca26\"],[1.0,\"#f0f921\"]],\"sequentialminus\":[[0.0,\"#0d0887\"],[0.1111111111111111,\"#46039f\"],[0.2222222222222222,\"#7201a8\"],[0.3333333333333333,\"#9c179e\"],[0.4444444444444444,\"#bd3786\"],[0.5555555555555556,\"#d8576b\"],[0.6666666666666666,\"#ed7953\"],[0.7777777777777778,\"#fb9f3a\"],[0.8888888888888888,\"#fdca26\"],[1.0,\"#f0f921\"]],\"diverging\":[[0,\"#8e0152\"],[0.1,\"#c51b7d\"],[0.2,\"#de77ae\"],[0.3,\"#f1b6da\"],[0.4,\"#fde0ef\"],[0.5,\"#f7f7f7\"],[0.6,\"#e6f5d0\"],[0.7,\"#b8e186\"],[0.8,\"#7fbc41\"],[0.9,\"#4d9221\"],[1,\"#276419\"]]},\"xaxis\":{\"gridcolor\":\"white\",\"linecolor\":\"white\",\"ticks\":\"\",\"title\":{\"standoff\":15},\"zerolinecolor\":\"white\",\"automargin\":true,\"zerolinewidth\":2},\"yaxis\":{\"gridcolor\":\"white\",\"linecolor\":\"white\",\"ticks\":\"\",\"title\":{\"standoff\":15},\"zerolinecolor\":\"white\",\"automargin\":true,\"zerolinewidth\":2},\"scene\":{\"xaxis\":{\"backgroundcolor\":\"#E5ECF6\",\"gridcolor\":\"white\",\"linecolor\":\"white\",\"showbackground\":true,\"ticks\":\"\",\"zerolinecolor\":\"white\",\"gridwidth\":2},\"yaxis\":{\"backgroundcolor\":\"#E5ECF6\",\"gridcolor\":\"white\",\"linecolor\":\"white\",\"showbackground\":true,\"ticks\":\"\",\"zerolinecolor\":\"white\",\"gridwidth\":2},\"zaxis\":{\"backgroundcolor\":\"#E5ECF6\",\"gridcolor\":\"white\",\"linecolor\":\"white\",\"showbackground\":true,\"ticks\":\"\",\"zerolinecolor\":\"white\",\"gridwidth\":2}},\"shapedefaults\":{\"line\":{\"color\":\"#2a3f5f\"}},\"annotationdefaults\":{\"arrowcolor\":\"#2a3f5f\",\"arrowhead\":0,\"arrowwidth\":1},\"geo\":{\"bgcolor\":\"white\",\"landcolor\":\"#E5ECF6\",\"subunitcolor\":\"white\",\"showland\":true,\"showlakes\":true,\"lakecolor\":\"white\"},\"title\":{\"x\":0.05},\"mapbox\":{\"style\":\"light\"}}},\"xaxis\":{\"anchor\":\"y\",\"domain\":[0.0,1.0],\"title\":{\"text\":\"League\"}},\"yaxis\":{\"anchor\":\"x\",\"domain\":[0.0,1.0],\"title\":{\"text\":\"Mean Price\"}},\"legend\":{\"title\":{\"text\":\"Price Type\"},\"tracegroupgap\":0},\"title\":{\"text\":\"Average of Prices and Max_Prices for 5 Leagues\"},\"barmode\":\"relative\"},                        {\"responsive\": true}                    ).then(function(){\n",
       "                            \n",
       "var gd = document.getElementById('5371902a-37ac-45af-a363-8eb6c45ee48b');\n",
       "var x = new MutationObserver(function (mutations, observer) {{\n",
       "        var display = window.getComputedStyle(gd).display;\n",
       "        if (!display || display === 'none') {{\n",
       "            console.log([gd, 'removed!']);\n",
       "            Plotly.purge(gd);\n",
       "            observer.disconnect();\n",
       "        }}\n",
       "}});\n",
       "\n",
       "// Listen for the removal of the full notebook cells\n",
       "var notebookContainer = gd.closest('#notebook-container');\n",
       "if (notebookContainer) {{\n",
       "    x.observe(notebookContainer, {childList: true});\n",
       "}}\n",
       "\n",
       "// Listen for the clearing of the current output cell\n",
       "var outputEl = gd.closest('.output');\n",
       "if (outputEl) {{\n",
       "    x.observe(outputEl, {childList: true});\n",
       "}}\n",
       "\n",
       "                        })                };                });            </script>        </div>"
      ]
     },
     "metadata": {},
     "output_type": "display_data"
    }
   ],
   "source": [
    "# Calculate the mean of 'price' and 'max_price' columns for each league\n",
    "mean_df = df.groupby('league')[['price', 'max_price']].mean(numeric_only=True).reset_index()\n",
    "\n",
    "# Melt the DataFrame to create 'Price Type' column\n",
    "melted_df = mean_df.melt(id_vars='league', var_name='Price Type', value_name='Mean Price')\n",
    "\n",
    "# Create the plot using plotly.express\n",
    "fig = px.bar(melted_df, x='league', y='Mean Price', color='Price Type',\n",
    "             labels={'Mean Price': 'Mean Price', 'league': 'League'},\n",
    "             title=\"Average of Prices and Max_Prices for 5 Leagues\")\n",
    "\n",
    "# Show the plot\n",
    "fig.show()\n"
   ]
  },
  {
   "cell_type": "markdown",
   "metadata": {},
   "source": [
    "Here is the 5 players of top 5 leagues wit highest price:"
   ]
  },
  {
   "cell_type": "code",
   "execution_count": 117,
   "metadata": {},
   "outputs": [
    {
     "data": {
      "image/png": "[encoded data removed]",
      "text/plain": [
       "<Figure size 1000x600 with 1 Axes>"
      ]
     },
     "metadata": {},
     "output_type": "display_data"
    }
   ],
   "source": [
    "df_sorted = df.sort_values(by='price', ascending=False)\n",
    "\n",
    "top_players = df_sorted.groupby('league').head(5)\n",
    "\n",
    "\n",
    "# Create the bar plot to visualize the top players from the top 5 leagues with the highest price\n",
    "plt.figure(figsize=(10, 6))\n",
    "plt.bar(top_players['name'], top_players['price'])\n",
    "plt.xlabel('Player')\n",
    "plt.ylabel('Price')\n",
    "plt.title('Top 5 Players from Top 5 Leagues with Highest Price')\n",
    "plt.xticks(rotation=45, ha='right')\n",
    "plt.grid(axis='x')\n",
    "plt.tight_layout()"
   ]
  },
  {
   "cell_type": "code",
   "execution_count": 137,
   "metadata": {},
   "outputs": [
    {
     "data": {
      "text/html": [
       "<div>\n",
       "<style scoped>\n",
       "    .dataframe tbody tr th:only-of-type {\n",
       "        vertical-align: middle;\n",
       "    }\n",
       "\n",
       "    .dataframe tbody tr th {\n",
       "        vertical-align: top;\n",
       "    }\n",
       "\n",
       "    .dataframe thead th {\n",
       "        text-align: right;\n",
       "    }\n",
       "</style>\n",
       "<table border=\"1\" class=\"dataframe\">\n",
       "  <thead>\n",
       "    <tr style=\"text-align: right;\">\n",
       "      <th></th>\n",
       "      <th>name</th>\n",
       "      <th>full_name</th>\n",
       "      <th>age</th>\n",
       "      <th>height</th>\n",
       "      <th>nationality</th>\n",
       "      <th>place_of_birth</th>\n",
       "      <th>price</th>\n",
       "      <th>max_price</th>\n",
       "      <th>position</th>\n",
       "      <th>shirt_nr</th>\n",
       "      <th>foot</th>\n",
       "      <th>club</th>\n",
       "      <th>contract_expires</th>\n",
       "      <th>joined_club</th>\n",
       "      <th>player_agent</th>\n",
       "      <th>outfitter</th>\n",
       "      <th>league</th>\n",
       "    </tr>\n",
       "  </thead>\n",
       "  <tbody>\n",
       "    <tr>\n",
       "      <th>0</th>\n",
       "      <td>Jude Bellingham</td>\n",
       "      <td>Jude Victor William Bellingham</td>\n",
       "      <td>19</td>\n",
       "      <td>1.860</td>\n",
       "      <td>England</td>\n",
       "      <td>Stourbridge</td>\n",
       "      <td>120.000</td>\n",
       "      <td>120.000</td>\n",
       "      <td>midfield - Central Midfield</td>\n",
       "      <td>22</td>\n",
       "      <td>right</td>\n",
       "      <td>Bor. Dortmund</td>\n",
       "      <td>2025-06-30</td>\n",
       "      <td>2020-07-23</td>\n",
       "      <td>No-Agent</td>\n",
       "      <td>adidas</td>\n",
       "      <td>Bundesliga</td>\n",
       "    </tr>\n",
       "    <tr>\n",
       "      <th>1</th>\n",
       "      <td>Erling Haaland</td>\n",
       "      <td>Erling Braut Håland</td>\n",
       "      <td>22</td>\n",
       "      <td>1.950</td>\n",
       "      <td>Norway</td>\n",
       "      <td>Leeds</td>\n",
       "      <td>170.000</td>\n",
       "      <td>170.000</td>\n",
       "      <td>Attack - Centre-Forward</td>\n",
       "      <td>9</td>\n",
       "      <td>left</td>\n",
       "      <td>Man City</td>\n",
       "      <td>2027-06-30</td>\n",
       "      <td>2022-07-01</td>\n",
       "      <td>Rafaela Pimenta</td>\n",
       "      <td>Nike</td>\n",
       "      <td>EPL</td>\n",
       "    </tr>\n",
       "    <tr>\n",
       "      <th>2</th>\n",
       "      <td>Vinicius Junior</td>\n",
       "      <td>-</td>\n",
       "      <td>22</td>\n",
       "      <td>1.760</td>\n",
       "      <td>Brazil  Spain</td>\n",
       "      <td>São Gonçalo</td>\n",
       "      <td>120.000</td>\n",
       "      <td>120.000</td>\n",
       "      <td>Attack - Left Winger</td>\n",
       "      <td>20</td>\n",
       "      <td>right</td>\n",
       "      <td>Real Madrid</td>\n",
       "      <td>2024-06-30</td>\n",
       "      <td>2018-07-12</td>\n",
       "      <td>TFM Agency</td>\n",
       "      <td>Nike</td>\n",
       "      <td>LaLiga</td>\n",
       "    </tr>\n",
       "    <tr>\n",
       "      <th>3</th>\n",
       "      <td>Kylian Mbappé</td>\n",
       "      <td>Kylian Mbappé Lottin</td>\n",
       "      <td>24</td>\n",
       "      <td>1.780</td>\n",
       "      <td>France  Cameroon</td>\n",
       "      <td>Bondy</td>\n",
       "      <td>180.000</td>\n",
       "      <td>200.000</td>\n",
       "      <td>Attack - Centre-Forward</td>\n",
       "      <td>7</td>\n",
       "      <td>right</td>\n",
       "      <td>Paris SG</td>\n",
       "      <td>2025-06-30</td>\n",
       "      <td>2018-07-01</td>\n",
       "      <td>Relatives</td>\n",
       "      <td>Nike</td>\n",
       "      <td>Ligue1</td>\n",
       "    </tr>\n",
       "    <tr>\n",
       "      <th>4</th>\n",
       "      <td>Rafael Leão</td>\n",
       "      <td>Rafael Alexandre da Conceição Leão</td>\n",
       "      <td>23</td>\n",
       "      <td>1.880</td>\n",
       "      <td>Portugal  Angola</td>\n",
       "      <td>Almada</td>\n",
       "      <td>80.000</td>\n",
       "      <td>85.000</td>\n",
       "      <td>Attack - Left Winger</td>\n",
       "      <td>17</td>\n",
       "      <td>right</td>\n",
       "      <td>AC Milan</td>\n",
       "      <td>2024-06-30</td>\n",
       "      <td>2019-08-01</td>\n",
       "      <td>not clarified</td>\n",
       "      <td>adidas</td>\n",
       "      <td>SerieA</td>\n",
       "    </tr>\n",
       "  </tbody>\n",
       "</table>\n",
       "</div>"
      ],
      "text/plain": [
       "              name                           full_name  age  height  \\\n",
       "0  Jude Bellingham      Jude Victor William Bellingham   19   1.860   \n",
       "1   Erling Haaland                 Erling Braut Håland   22   1.950   \n",
       "2  Vinicius Junior                                   -   22   1.760   \n",
       "3    Kylian Mbappé                Kylian Mbappé Lottin   24   1.780   \n",
       "4      Rafael Leão  Rafael Alexandre da Conceição Leão   23   1.880   \n",
       "\n",
       "        nationality place_of_birth   price  max_price  \\\n",
       "0           England    Stourbridge 120.000    120.000   \n",
       "1            Norway          Leeds 170.000    170.000   \n",
       "2     Brazil  Spain    São Gonçalo 120.000    120.000   \n",
       "3  France  Cameroon          Bondy 180.000    200.000   \n",
       "4  Portugal  Angola         Almada  80.000     85.000   \n",
       "\n",
       "                      position  shirt_nr   foot           club  \\\n",
       "0  midfield - Central Midfield        22  right  Bor. Dortmund   \n",
       "1      Attack - Centre-Forward         9   left       Man City   \n",
       "2         Attack - Left Winger        20  right    Real Madrid   \n",
       "3      Attack - Centre-Forward         7  right       Paris SG   \n",
       "4         Attack - Left Winger        17  right       AC Milan   \n",
       "\n",
       "  contract_expires joined_club     player_agent outfitter      league  \n",
       "0       2025-06-30  2020-07-23         No-Agent    adidas  Bundesliga  \n",
       "1       2027-06-30  2022-07-01  Rafaela Pimenta      Nike         EPL  \n",
       "2       2024-06-30  2018-07-12       TFM Agency      Nike      LaLiga  \n",
       "3       2025-06-30  2018-07-01        Relatives      Nike      Ligue1  \n",
       "4       2024-06-30  2019-08-01    not clarified    adidas      SerieA  "
      ]
     },
     "execution_count": 137,
     "metadata": {},
     "output_type": "execute_result"
    }
   ],
   "source": [
    "top_5_players = df.groupby('league').apply(lambda x: x.nlargest(1, 'price')).reset_index(drop=True)\n",
    "top_5_players"
   ]
  },
  {
   "cell_type": "code",
   "execution_count": 138,
   "metadata": {},
   "outputs": [
    {
     "data": {
      "image/png": "[encoded data removed]",
      "text/plain": [
       "<Figure size 1000x600 with 1 Axes>"
      ]
     },
     "metadata": {},
     "output_type": "display_data"
    }
   ],
   "source": [
    "plt.figure(figsize=(10, 6))\n",
    "\n",
    "labels = top_5_players['name'] + ' (' + top_5_players['league'] + ')'\n",
    "\n",
    "plt.bar(labels, top_5_players['price'])\n",
    "plt.xlabel('Players and Leagues')\n",
    "plt.ylabel('Price')\n",
    "plt.title('Top 5 Players from Top 5 Leagues with Highest Price')\n",
    "plt.xticks(rotation=45, ha='right')\n",
    "plt.grid(axis='x')\n",
    "plt.tight_layout()"
   ]
  },
  {
   "cell_type": "code",
   "execution_count": 139,
   "metadata": {},
   "outputs": [
    {
     "data": {
      "application/vnd.plotly.v1+json": {
       "config": {
        "plotlyServerURL": "https://plot.ly"
       },
       "data": [
        {
         "alignmentgroup": "True",
         "hovertemplate": "Player (League)=%{x}<br>Price=%{y}<extra></extra>",
         "legendgroup": "",
         "marker": {
          "color": "#636efa",
          "pattern": {
           "shape": ""
          }
         },
         "name": "",
         "offsetgroup": "",
         "orientation": "v",
         "showlegend": false,
         "textposition": "auto",
         "type": "bar",
         "x": [
          "Jude Bellingham (Bundesliga)",
          "Erling Haaland (EPL)",
          "Vinicius Junior (LaLiga)",
          "Kylian Mbappé (Ligue1)",
          "Rafael Leão (SerieA)"
         ],
         "xaxis": "x",
         "y": [
          120,
          170,
          120,
          180,
          80
         ],
         "yaxis": "y"
        }
       ],
       "layout": {
        "barmode": "relative",
        "legend": {
         "tracegroupgap": 0
        },
        "template": {
         "data": {
          "bar": [
           {
            "error_x": {
             "color": "#2a3f5f"
            },
            "error_y": {
             "color": "#2a3f5f"
            },
            "marker": {
             "line": {
              "color": "#E5ECF6",
              "width": 0.5
             },
             "pattern": {
              "fillmode": "overlay",
              "size": 10,
              "solidity": 0.2
             }
            },
            "type": "bar"
           }
          ],
          "barpolar": [
           {
            "marker": {
             "line": {
              "color": "#E5ECF6",
              "width": 0.5
             },
             "pattern": {
              "fillmode": "overlay",
              "size": 10,
              "solidity": 0.2
             }
            },
            "type": "barpolar"
           }
          ],
          "carpet": [
           {
            "aaxis": {
             "endlinecolor": "#2a3f5f",
             "gridcolor": "white",
             "linecolor": "white",
             "minorgridcolor": "white",
             "startlinecolor": "#2a3f5f"
            },
            "baxis": {
             "endlinecolor": "#2a3f5f",
             "gridcolor": "white",
             "linecolor": "white",
             "minorgridcolor": "white",
             "startlinecolor": "#2a3f5f"
            },
            "type": "carpet"
           }
          ],
          "choropleth": [
           {
            "colorbar": {
             "outlinewidth": 0,
             "ticks": ""
            },
            "type": "choropleth"
           }
          ],
          "contour": [
           {
            "colorbar": {
             "outlinewidth": 0,
             "ticks": ""
            },
            "colorscale": [
             [
              0,
              "#0d0887"
             ],
             [
              0.1111111111111111,
              "#46039f"
             ],
             [
              0.2222222222222222,
              "#7201a8"
             ],
             [
              0.3333333333333333,
              "#9c179e"
             ],
             [
              0.4444444444444444,
              "#bd3786"
             ],
             [
              0.5555555555555556,
              "#d8576b"
             ],
             [
              0.6666666666666666,
              "#ed7953"
             ],
             [
              0.7777777777777778,
              "#fb9f3a"
             ],
             [
              0.8888888888888888,
              "#fdca26"
             ],
             [
              1,
              "#f0f921"
             ]
            ],
            "type": "contour"
           }
          ],
          "contourcarpet": [
           {
            "colorbar": {
             "outlinewidth": 0,
             "ticks": ""
            },
            "type": "contourcarpet"
           }
          ],
          "heatmap": [
           {
            "colorbar": {
             "outlinewidth": 0,
             "ticks": ""
            },
            "colorscale": [
             [
              0,
              "#0d0887"
             ],
             [
              0.1111111111111111,
              "#46039f"
             ],
             [
              0.2222222222222222,
              "#7201a8"
             ],
             [
              0.3333333333333333,
              "#9c179e"
             ],
             [
              0.4444444444444444,
              "#bd3786"
             ],
             [
              0.5555555555555556,
              "#d8576b"
             ],
             [
              0.6666666666666666,
              "#ed7953"
             ],
             [
              0.7777777777777778,
              "#fb9f3a"
             ],
             [
              0.8888888888888888,
              "#fdca26"
             ],
             [
              1,
              "#f0f921"
             ]
            ],
            "type": "heatmap"
           }
          ],
          "heatmapgl": [
           {
            "colorbar": {
             "outlinewidth": 0,
             "ticks": ""
            },
            "colorscale": [
             [
              0,
              "#0d0887"
             ],
             [
              0.1111111111111111,
              "#46039f"
             ],
             [
              0.2222222222222222,
              "#7201a8"
             ],
             [
              0.3333333333333333,
              "#9c179e"
             ],
             [
              0.4444444444444444,
              "#bd3786"
             ],
             [
              0.5555555555555556,
              "#d8576b"
             ],
             [
              0.6666666666666666,
              "#ed7953"
             ],
             [
              0.7777777777777778,
              "#fb9f3a"
             ],
             [
              0.8888888888888888,
              "#fdca26"
             ],
             [
              1,
              "#f0f921"
             ]
            ],
            "type": "heatmapgl"
           }
          ],
          "histogram": [
           {
            "marker": {
             "pattern": {
              "fillmode": "overlay",
              "size": 10,
              "solidity": 0.2
             }
            },
            "type": "histogram"
           }
          ],
          "histogram2d": [
           {
            "colorbar": {
             "outlinewidth": 0,
             "ticks": ""
            },
            "colorscale": [
             [
              0,
              "#0d0887"
             ],
             [
              0.1111111111111111,
              "#46039f"
             ],
             [
              0.2222222222222222,
              "#7201a8"
             ],
             [
              0.3333333333333333,
              "#9c179e"
             ],
             [
              0.4444444444444444,
              "#bd3786"
             ],
             [
              0.5555555555555556,
              "#d8576b"
             ],
             [
              0.6666666666666666,
              "#ed7953"
             ],
             [
              0.7777777777777778,
              "#fb9f3a"
             ],
             [
              0.8888888888888888,
              "#fdca26"
             ],
             [
              1,
              "#f0f921"
             ]
            ],
            "type": "histogram2d"
           }
          ],
          "histogram2dcontour": [
           {
            "colorbar": {
             "outlinewidth": 0,
             "ticks": ""
            },
            "colorscale": [
             [
              0,
              "#0d0887"
             ],
             [
              0.1111111111111111,
              "#46039f"
             ],
             [
              0.2222222222222222,
              "#7201a8"
             ],
             [
              0.3333333333333333,
              "#9c179e"
             ],
             [
              0.4444444444444444,
              "#bd3786"
             ],
             [
              0.5555555555555556,
              "#d8576b"
             ],
             [
              0.6666666666666666,
              "#ed7953"
             ],
             [
              0.7777777777777778,
              "#fb9f3a"
             ],
             [
              0.8888888888888888,
              "#fdca26"
             ],
             [
              1,
              "#f0f921"
             ]
            ],
            "type": "histogram2dcontour"
           }
          ],
          "mesh3d": [
           {
            "colorbar": {
             "outlinewidth": 0,
             "ticks": ""
            },
            "type": "mesh3d"
           }
          ],
          "parcoords": [
           {
            "line": {
             "colorbar": {
              "outlinewidth": 0,
              "ticks": ""
             }
            },
            "type": "parcoords"
           }
          ],
          "pie": [
           {
            "automargin": true,
            "type": "pie"
           }
          ],
          "scatter": [
           {
            "fillpattern": {
             "fillmode": "overlay",
             "size": 10,
             "solidity": 0.2
            },
            "type": "scatter"
           }
          ],
          "scatter3d": [
           {
            "line": {
             "colorbar": {
              "outlinewidth": 0,
              "ticks": ""
             }
            },
            "marker": {
             "colorbar": {
              "outlinewidth": 0,
              "ticks": ""
             }
            },
            "type": "scatter3d"
           }
          ],
          "scattercarpet": [
           {
            "marker": {
             "colorbar": {
              "outlinewidth": 0,
              "ticks": ""
             }
            },
            "type": "scattercarpet"
           }
          ],
          "scattergeo": [
           {
            "marker": {
             "colorbar": {
              "outlinewidth": 0,
              "ticks": ""
             }
            },
            "type": "scattergeo"
           }
          ],
          "scattergl": [
           {
            "marker": {
             "colorbar": {
              "outlinewidth": 0,
              "ticks": ""
             }
            },
            "type": "scattergl"
           }
          ],
          "scattermapbox": [
           {
            "marker": {
             "colorbar": {
              "outlinewidth": 0,
              "ticks": ""
             }
            },
            "type": "scattermapbox"
           }
          ],
          "scatterpolar": [
           {
            "marker": {
             "colorbar": {
              "outlinewidth": 0,
              "ticks": ""
             }
            },
            "type": "scatterpolar"
           }
          ],
          "scatterpolargl": [
           {
            "marker": {
             "colorbar": {
              "outlinewidth": 0,
              "ticks": ""
             }
            },
            "type": "scatterpolargl"
           }
          ],
          "scatterternary": [
           {
            "marker": {
             "colorbar": {
              "outlinewidth": 0,
              "ticks": ""
             }
            },
            "type": "scatterternary"
           }
          ],
          "surface": [
           {
            "colorbar": {
             "outlinewidth": 0,
             "ticks": ""
            },
            "colorscale": [
             [
              0,
              "#0d0887"
             ],
             [
              0.1111111111111111,
              "#46039f"
             ],
             [
              0.2222222222222222,
              "#7201a8"
             ],
             [
              0.3333333333333333,
              "#9c179e"
             ],
             [
              0.4444444444444444,
              "#bd3786"
             ],
             [
              0.5555555555555556,
              "#d8576b"
             ],
             [
              0.6666666666666666,
              "#ed7953"
             ],
             [
              0.7777777777777778,
              "#fb9f3a"
             ],
             [
              0.8888888888888888,
              "#fdca26"
             ],
             [
              1,
              "#f0f921"
             ]
            ],
            "type": "surface"
           }
          ],
          "table": [
           {
            "cells": {
             "fill": {
              "color": "#EBF0F8"
             },
             "line": {
              "color": "white"
             }
            },
            "header": {
             "fill": {
              "color": "#C8D4E3"
             },
             "line": {
              "color": "white"
             }
            },
            "type": "table"
           }
          ]
         },
         "layout": {
          "annotationdefaults": {
           "arrowcolor": "#2a3f5f",
           "arrowhead": 0,
           "arrowwidth": 1
          },
          "autotypenumbers": "strict",
          "coloraxis": {
           "colorbar": {
            "outlinewidth": 0,
            "ticks": ""
           }
          },
          "colorscale": {
           "diverging": [
            [
             0,
             "#8e0152"
            ],
            [
             0.1,
             "#c51b7d"
            ],
            [
             0.2,
             "#de77ae"
            ],
            [
             0.3,
             "#f1b6da"
            ],
            [
             0.4,
             "#fde0ef"
            ],
            [
             0.5,
             "#f7f7f7"
            ],
            [
             0.6,
             "#e6f5d0"
            ],
            [
             0.7,
             "#b8e186"
            ],
            [
             0.8,
             "#7fbc41"
            ],
            [
             0.9,
             "#4d9221"
            ],
            [
             1,
             "#276419"
            ]
           ],
           "sequential": [
            [
             0,
             "#0d0887"
            ],
            [
             0.1111111111111111,
             "#46039f"
            ],
            [
             0.2222222222222222,
             "#7201a8"
            ],
            [
             0.3333333333333333,
             "#9c179e"
            ],
            [
             0.4444444444444444,
             "#bd3786"
            ],
            [
             0.5555555555555556,
             "#d8576b"
            ],
            [
             0.6666666666666666,
             "#ed7953"
            ],
            [
             0.7777777777777778,
             "#fb9f3a"
            ],
            [
             0.8888888888888888,
             "#fdca26"
            ],
            [
             1,
             "#f0f921"
            ]
           ],
           "sequentialminus": [
            [
             0,
             "#0d0887"
            ],
            [
             0.1111111111111111,
             "#46039f"
            ],
            [
             0.2222222222222222,
             "#7201a8"
            ],
            [
             0.3333333333333333,
             "#9c179e"
            ],
            [
             0.4444444444444444,
             "#bd3786"
            ],
            [
             0.5555555555555556,
             "#d8576b"
            ],
            [
             0.6666666666666666,
             "#ed7953"
            ],
            [
             0.7777777777777778,
             "#fb9f3a"
            ],
            [
             0.8888888888888888,
             "#fdca26"
            ],
            [
             1,
             "#f0f921"
            ]
           ]
          },
          "colorway": [
           "#636efa",
           "#EF553B",
           "#00cc96",
           "#ab63fa",
           "#FFA15A",
           "#19d3f3",
           "#FF6692",
           "#B6E880",
           "#FF97FF",
           "#FECB52"
          ],
          "font": {
           "color": "#2a3f5f"
          },
          "geo": {
           "bgcolor": "white",
           "lakecolor": "white",
           "landcolor": "#E5ECF6",
           "showlakes": true,
           "showland": true,
           "subunitcolor": "white"
          },
          "hoverlabel": {
           "align": "left"
          },
          "hovermode": "closest",
          "mapbox": {
           "style": "light"
          },
          "paper_bgcolor": "white",
          "plot_bgcolor": "#E5ECF6",
          "polar": {
           "angularaxis": {
            "gridcolor": "white",
            "linecolor": "white",
            "ticks": ""
           },
           "bgcolor": "#E5ECF6",
           "radialaxis": {
            "gridcolor": "white",
            "linecolor": "white",
            "ticks": ""
           }
          },
          "scene": {
           "xaxis": {
            "backgroundcolor": "#E5ECF6",
            "gridcolor": "white",
            "gridwidth": 2,
            "linecolor": "white",
            "showbackground": true,
            "ticks": "",
            "zerolinecolor": "white"
           },
           "yaxis": {
            "backgroundcolor": "#E5ECF6",
            "gridcolor": "white",
            "gridwidth": 2,
            "linecolor": "white",
            "showbackground": true,
            "ticks": "",
            "zerolinecolor": "white"
           },
           "zaxis": {
            "backgroundcolor": "#E5ECF6",
            "gridcolor": "white",
            "gridwidth": 2,
            "linecolor": "white",
            "showbackground": true,
            "ticks": "",
            "zerolinecolor": "white"
           }
          },
          "shapedefaults": {
           "line": {
            "color": "#2a3f5f"
           }
          },
          "ternary": {
           "aaxis": {
            "gridcolor": "white",
            "linecolor": "white",
            "ticks": ""
           },
           "baxis": {
            "gridcolor": "white",
            "linecolor": "white",
            "ticks": ""
           },
           "bgcolor": "#E5ECF6",
           "caxis": {
            "gridcolor": "white",
            "linecolor": "white",
            "ticks": ""
           }
          },
          "title": {
           "x": 0.05
          },
          "xaxis": {
           "automargin": true,
           "gridcolor": "white",
           "linecolor": "white",
           "ticks": "",
           "title": {
            "standoff": 15
           },
           "zerolinecolor": "white",
           "zerolinewidth": 2
          },
          "yaxis": {
           "automargin": true,
           "gridcolor": "white",
           "linecolor": "white",
           "ticks": "",
           "title": {
            "standoff": 15
           },
           "zerolinecolor": "white",
           "zerolinewidth": 2
          }
         }
        },
        "title": {
         "text": "Most Valuable Player for Top 5 Leagues"
        },
        "xaxis": {
         "anchor": "y",
         "domain": [
          0,
          1
         ],
         "title": {
          "text": "Player (League)"
         }
        },
        "yaxis": {
         "anchor": "x",
         "domain": [
          0,
          1
         ],
         "title": {
          "text": "Price"
         }
        }
       }
      },
      "text/html": [
       "<div>                            <div id=\"0ba0b66f-3346-4eac-9b68-783f90094984\" class=\"plotly-graph-div\" style=\"height:525px; width:100%;\"></div>            <script type=\"text/javascript\">                require([\"plotly\"], function(Plotly) {                    window.PLOTLYENV=window.PLOTLYENV || {};                                    if (document.getElementById(\"0ba0b66f-3346-4eac-9b68-783f90094984\")) {                    Plotly.newPlot(                        \"0ba0b66f-3346-4eac-9b68-783f90094984\",                        [{\"alignmentgroup\":\"True\",\"hovertemplate\":\"Player (League)=%{x}\\u003cbr\\u003ePrice=%{y}\\u003cextra\\u003e\\u003c\\u002fextra\\u003e\",\"legendgroup\":\"\",\"marker\":{\"color\":\"#636efa\",\"pattern\":{\"shape\":\"\"}},\"name\":\"\",\"offsetgroup\":\"\",\"orientation\":\"v\",\"showlegend\":false,\"textposition\":\"auto\",\"x\":[\"Jude Bellingham (Bundesliga)\",\"Erling Haaland (EPL)\",\"Vinicius Junior (LaLiga)\",\"Kylian Mbapp\\u00e9 (Ligue1)\",\"Rafael Le\\u00e3o (SerieA)\"],\"xaxis\":\"x\",\"y\":[120.0,170.0,120.0,180.0,80.0],\"yaxis\":\"y\",\"type\":\"bar\"}],                        {\"template\":{\"data\":{\"histogram2dcontour\":[{\"type\":\"histogram2dcontour\",\"colorbar\":{\"outlinewidth\":0,\"ticks\":\"\"},\"colorscale\":[[0.0,\"#0d0887\"],[0.1111111111111111,\"#46039f\"],[0.2222222222222222,\"#7201a8\"],[0.3333333333333333,\"#9c179e\"],[0.4444444444444444,\"#bd3786\"],[0.5555555555555556,\"#d8576b\"],[0.6666666666666666,\"#ed7953\"],[0.7777777777777778,\"#fb9f3a\"],[0.8888888888888888,\"#fdca26\"],[1.0,\"#f0f921\"]]}],\"choropleth\":[{\"type\":\"choropleth\",\"colorbar\":{\"outlinewidth\":0,\"ticks\":\"\"}}],\"histogram2d\":[{\"type\":\"histogram2d\",\"colorbar\":{\"outlinewidth\":0,\"ticks\":\"\"},\"colorscale\":[[0.0,\"#0d0887\"],[0.1111111111111111,\"#46039f\"],[0.2222222222222222,\"#7201a8\"],[0.3333333333333333,\"#9c179e\"],[0.4444444444444444,\"#bd3786\"],[0.5555555555555556,\"#d8576b\"],[0.6666666666666666,\"#ed7953\"],[0.7777777777777778,\"#fb9f3a\"],[0.8888888888888888,\"#fdca26\"],[1.0,\"#f0f921\"]]}],\"heatmap\":[{\"type\":\"heatmap\",\"colorbar\":{\"outlinewidth\":0,\"ticks\":\"\"},\"colorscale\":[[0.0,\"#0d0887\"],[0.1111111111111111,\"#46039f\"],[0.2222222222222222,\"#7201a8\"],[0.3333333333333333,\"#9c179e\"],[0.4444444444444444,\"#bd3786\"],[0.5555555555555556,\"#d8576b\"],[0.6666666666666666,\"#ed7953\"],[0.7777777777777778,\"#fb9f3a\"],[0.8888888888888888,\"#fdca26\"],[1.0,\"#f0f921\"]]}],\"heatmapgl\":[{\"type\":\"heatmapgl\",\"colorbar\":{\"outlinewidth\":0,\"ticks\":\"\"},\"colorscale\":[[0.0,\"#0d0887\"],[0.1111111111111111,\"#46039f\"],[0.2222222222222222,\"#7201a8\"],[0.3333333333333333,\"#9c179e\"],[0.4444444444444444,\"#bd3786\"],[0.5555555555555556,\"#d8576b\"],[0.6666666666666666,\"#ed7953\"],[0.7777777777777778,\"#fb9f3a\"],[0.8888888888888888,\"#fdca26\"],[1.0,\"#f0f921\"]]}],\"contourcarpet\":[{\"type\":\"contourcarpet\",\"colorbar\":{\"outlinewidth\":0,\"ticks\":\"\"}}],\"contour\":[{\"type\":\"contour\",\"colorbar\":{\"outlinewidth\":0,\"ticks\":\"\"},\"colorscale\":[[0.0,\"#0d0887\"],[0.1111111111111111,\"#46039f\"],[0.2222222222222222,\"#7201a8\"],[0.3333333333333333,\"#9c179e\"],[0.4444444444444444,\"#bd3786\"],[0.5555555555555556,\"#d8576b\"],[0.6666666666666666,\"#ed7953\"],[0.7777777777777778,\"#fb9f3a\"],[0.8888888888888888,\"#fdca26\"],[1.0,\"#f0f921\"]]}],\"surface\":[{\"type\":\"surface\",\"colorbar\":{\"outlinewidth\":0,\"ticks\":\"\"},\"colorscale\":[[0.0,\"#0d0887\"],[0.1111111111111111,\"#46039f\"],[0.2222222222222222,\"#7201a8\"],[0.3333333333333333,\"#9c179e\"],[0.4444444444444444,\"#bd3786\"],[0.5555555555555556,\"#d8576b\"],[0.6666666666666666,\"#ed7953\"],[0.7777777777777778,\"#fb9f3a\"],[0.8888888888888888,\"#fdca26\"],[1.0,\"#f0f921\"]]}],\"mesh3d\":[{\"type\":\"mesh3d\",\"colorbar\":{\"outlinewidth\":0,\"ticks\":\"\"}}],\"scatter\":[{\"fillpattern\":{\"fillmode\":\"overlay\",\"size\":10,\"solidity\":0.2},\"type\":\"scatter\"}],\"parcoords\":[{\"type\":\"parcoords\",\"line\":{\"colorbar\":{\"outlinewidth\":0,\"ticks\":\"\"}}}],\"scatterpolargl\":[{\"type\":\"scatterpolargl\",\"marker\":{\"colorbar\":{\"outlinewidth\":0,\"ticks\":\"\"}}}],\"bar\":[{\"error_x\":{\"color\":\"#2a3f5f\"},\"error_y\":{\"color\":\"#2a3f5f\"},\"marker\":{\"line\":{\"color\":\"#E5ECF6\",\"width\":0.5},\"pattern\":{\"fillmode\":\"overlay\",\"size\":10,\"solidity\":0.2}},\"type\":\"bar\"}],\"scattergeo\":[{\"type\":\"scattergeo\",\"marker\":{\"colorbar\":{\"outlinewidth\":0,\"ticks\":\"\"}}}],\"scatterpolar\":[{\"type\":\"scatterpolar\",\"marker\":{\"colorbar\":{\"outlinewidth\":0,\"ticks\":\"\"}}}],\"histogram\":[{\"marker\":{\"pattern\":{\"fillmode\":\"overlay\",\"size\":10,\"solidity\":0.2}},\"type\":\"histogram\"}],\"scattergl\":[{\"type\":\"scattergl\",\"marker\":{\"colorbar\":{\"outlinewidth\":0,\"ticks\":\"\"}}}],\"scatter3d\":[{\"type\":\"scatter3d\",\"line\":{\"colorbar\":{\"outlinewidth\":0,\"ticks\":\"\"}},\"marker\":{\"colorbar\":{\"outlinewidth\":0,\"ticks\":\"\"}}}],\"scattermapbox\":[{\"type\":\"scattermapbox\",\"marker\":{\"colorbar\":{\"outlinewidth\":0,\"ticks\":\"\"}}}],\"scatterternary\":[{\"type\":\"scatterternary\",\"marker\":{\"colorbar\":{\"outlinewidth\":0,\"ticks\":\"\"}}}],\"scattercarpet\":[{\"type\":\"scattercarpet\",\"marker\":{\"colorbar\":{\"outlinewidth\":0,\"ticks\":\"\"}}}],\"carpet\":[{\"aaxis\":{\"endlinecolor\":\"#2a3f5f\",\"gridcolor\":\"white\",\"linecolor\":\"white\",\"minorgridcolor\":\"white\",\"startlinecolor\":\"#2a3f5f\"},\"baxis\":{\"endlinecolor\":\"#2a3f5f\",\"gridcolor\":\"white\",\"linecolor\":\"white\",\"minorgridcolor\":\"white\",\"startlinecolor\":\"#2a3f5f\"},\"type\":\"carpet\"}],\"table\":[{\"cells\":{\"fill\":{\"color\":\"#EBF0F8\"},\"line\":{\"color\":\"white\"}},\"header\":{\"fill\":{\"color\":\"#C8D4E3\"},\"line\":{\"color\":\"white\"}},\"type\":\"table\"}],\"barpolar\":[{\"marker\":{\"line\":{\"color\":\"#E5ECF6\",\"width\":0.5},\"pattern\":{\"fillmode\":\"overlay\",\"size\":10,\"solidity\":0.2}},\"type\":\"barpolar\"}],\"pie\":[{\"automargin\":true,\"type\":\"pie\"}]},\"layout\":{\"autotypenumbers\":\"strict\",\"colorway\":[\"#636efa\",\"#EF553B\",\"#00cc96\",\"#ab63fa\",\"#FFA15A\",\"#19d3f3\",\"#FF6692\",\"#B6E880\",\"#FF97FF\",\"#FECB52\"],\"font\":{\"color\":\"#2a3f5f\"},\"hovermode\":\"closest\",\"hoverlabel\":{\"align\":\"left\"},\"paper_bgcolor\":\"white\",\"plot_bgcolor\":\"#E5ECF6\",\"polar\":{\"bgcolor\":\"#E5ECF6\",\"angularaxis\":{\"gridcolor\":\"white\",\"linecolor\":\"white\",\"ticks\":\"\"},\"radialaxis\":{\"gridcolor\":\"white\",\"linecolor\":\"white\",\"ticks\":\"\"}},\"ternary\":{\"bgcolor\":\"#E5ECF6\",\"aaxis\":{\"gridcolor\":\"white\",\"linecolor\":\"white\",\"ticks\":\"\"},\"baxis\":{\"gridcolor\":\"white\",\"linecolor\":\"white\",\"ticks\":\"\"},\"caxis\":{\"gridcolor\":\"white\",\"linecolor\":\"white\",\"ticks\":\"\"}},\"coloraxis\":{\"colorbar\":{\"outlinewidth\":0,\"ticks\":\"\"}},\"colorscale\":{\"sequential\":[[0.0,\"#0d0887\"],[0.1111111111111111,\"#46039f\"],[0.2222222222222222,\"#7201a8\"],[0.3333333333333333,\"#9c179e\"],[0.4444444444444444,\"#bd3786\"],[0.5555555555555556,\"#d8576b\"],[0.6666666666666666,\"#ed7953\"],[0.7777777777777778,\"#fb9f3a\"],[0.8888888888888888,\"#fdca26\"],[1.0,\"#f0f921\"]],\"sequentialminus\":[[0.0,\"#0d0887\"],[0.1111111111111111,\"#46039f\"],[0.2222222222222222,\"#7201a8\"],[0.3333333333333333,\"#9c179e\"],[0.4444444444444444,\"#bd3786\"],[0.5555555555555556,\"#d8576b\"],[0.6666666666666666,\"#ed7953\"],[0.7777777777777778,\"#fb9f3a\"],[0.8888888888888888,\"#fdca26\"],[1.0,\"#f0f921\"]],\"diverging\":[[0,\"#8e0152\"],[0.1,\"#c51b7d\"],[0.2,\"#de77ae\"],[0.3,\"#f1b6da\"],[0.4,\"#fde0ef\"],[0.5,\"#f7f7f7\"],[0.6,\"#e6f5d0\"],[0.7,\"#b8e186\"],[0.8,\"#7fbc41\"],[0.9,\"#4d9221\"],[1,\"#276419\"]]},\"xaxis\":{\"gridcolor\":\"white\",\"linecolor\":\"white\",\"ticks\":\"\",\"title\":{\"standoff\":15},\"zerolinecolor\":\"white\",\"automargin\":true,\"zerolinewidth\":2},\"yaxis\":{\"gridcolor\":\"white\",\"linecolor\":\"white\",\"ticks\":\"\",\"title\":{\"standoff\":15},\"zerolinecolor\":\"white\",\"automargin\":true,\"zerolinewidth\":2},\"scene\":{\"xaxis\":{\"backgroundcolor\":\"#E5ECF6\",\"gridcolor\":\"white\",\"linecolor\":\"white\",\"showbackground\":true,\"ticks\":\"\",\"zerolinecolor\":\"white\",\"gridwidth\":2},\"yaxis\":{\"backgroundcolor\":\"#E5ECF6\",\"gridcolor\":\"white\",\"linecolor\":\"white\",\"showbackground\":true,\"ticks\":\"\",\"zerolinecolor\":\"white\",\"gridwidth\":2},\"zaxis\":{\"backgroundcolor\":\"#E5ECF6\",\"gridcolor\":\"white\",\"linecolor\":\"white\",\"showbackground\":true,\"ticks\":\"\",\"zerolinecolor\":\"white\",\"gridwidth\":2}},\"shapedefaults\":{\"line\":{\"color\":\"#2a3f5f\"}},\"annotationdefaults\":{\"arrowcolor\":\"#2a3f5f\",\"arrowhead\":0,\"arrowwidth\":1},\"geo\":{\"bgcolor\":\"white\",\"landcolor\":\"#E5ECF6\",\"subunitcolor\":\"white\",\"showland\":true,\"showlakes\":true,\"lakecolor\":\"white\"},\"title\":{\"x\":0.05},\"mapbox\":{\"style\":\"light\"}}},\"xaxis\":{\"anchor\":\"y\",\"domain\":[0.0,1.0],\"title\":{\"text\":\"Player (League)\"}},\"yaxis\":{\"anchor\":\"x\",\"domain\":[0.0,1.0],\"title\":{\"text\":\"Price\"}},\"legend\":{\"tracegroupgap\":0},\"title\":{\"text\":\"Most Valuable Player for Top 5 Leagues\"},\"barmode\":\"relative\"},                        {\"responsive\": true}                    ).then(function(){\n",
       "                            \n",
       "var gd = document.getElementById('0ba0b66f-3346-4eac-9b68-783f90094984');\n",
       "var x = new MutationObserver(function (mutations, observer) {{\n",
       "        var display = window.getComputedStyle(gd).display;\n",
       "        if (!display || display === 'none') {{\n",
       "            console.log([gd, 'removed!']);\n",
       "            Plotly.purge(gd);\n",
       "            observer.disconnect();\n",
       "        }}\n",
       "}});\n",
       "\n",
       "// Listen for the removal of the full notebook cells\n",
       "var notebookContainer = gd.closest('#notebook-container');\n",
       "if (notebookContainer) {{\n",
       "    x.observe(notebookContainer, {childList: true});\n",
       "}}\n",
       "\n",
       "// Listen for the clearing of the current output cell\n",
       "var outputEl = gd.closest('.output');\n",
       "if (outputEl) {{\n",
       "    x.observe(outputEl, {childList: true});\n",
       "}}\n",
       "\n",
       "                        })                };                });            </script>        </div>"
      ]
     },
     "metadata": {},
     "output_type": "display_data"
    }
   ],
   "source": [
    "fig = px.bar(top_5_players, x=labels, y='price',\n",
    "             labels={'x': 'Player (League)', 'price': 'Price'},\n",
    "             title='Most Valuable Player for Top 5 Leagues')\n",
    "\n",
    "fig.show()"
   ]
  },
  {
   "cell_type": "code",
   "execution_count": null,
   "metadata": {},
   "outputs": [],
   "source": []
  }
 ],
 "metadata": {
  "colab": {
   "provenance": []
  },
  "kernelspec": {
   "display_name": "Python 3 (ipykernel)",
   "language": "python",
   "name": "python3"
  },
  "language_info": {
   "codemirror_mode": {
    "name": "ipython",
    "version": 3
   },
   "file_extension": ".py",
   "mimetype": "text/x-python",
   "name": "python",
   "nbconvert_exporter": "python",
   "pygments_lexer": "ipython3",
   "version": "3.10.9"
  }
 },
 "nbformat": 4,
 "nbformat_minor": 1
}
